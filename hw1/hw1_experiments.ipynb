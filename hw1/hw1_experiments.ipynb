{
 "cells": [
  {
   "cell_type": "markdown",
   "id": "emerging-celebrity",
   "metadata": {},
   "source": [
    "# Experimentation for nlp hw1"
   ]
  },
  {
   "cell_type": "code",
   "execution_count": 1,
   "id": "returning-denial",
   "metadata": {},
   "outputs": [],
   "source": [
    "%load_ext autoreload\n",
    "%autoreload 2\n",
    "from preprocessing import *\n",
    "from speech import *\n",
    "import numpy as np\n",
    "from tqdm import tqdm\n",
    "from supervised_experiments import *\n",
    "from unsupervised_experiments import *\n",
    "from sklearn.feature_extraction.text import CountVectorizer, TfidfVectorizer\n",
    "import warnings\n",
    "warnings.filterwarnings(\"ignore\")\n",
    "fname = \"speech.tar.gz\""
   ]
  },
  {
   "cell_type": "markdown",
   "id": "ranging-disposition",
   "metadata": {},
   "source": [
    "### General submission code - Supervised"
   ]
  },
  {
   "cell_type": "code",
   "execution_count": null,
   "id": "illegal-education",
   "metadata": {},
   "outputs": [],
   "source": [
    "data = Data(fname)\n",
    "data.preprocess(feat_list['cv_nltk_lemma'],\n",
    "                svd = TruncatedSVD(n_components = 2500))\n",
    "clf = LogisticRegression(solver = \"lbfgs\", penalty = 'l2')\n",
    "clf.fit(data.train_x, data.train_y)\n",
    "\n",
    "# Train performance\n",
    "preds = clf.predict(data.val_x)\n",
    "train_acc = accuracy_score(clf.predict(data.train_x), data.train_y)\n",
    "\n",
    "#Val performance\n",
    "val_acc =  accuracy_score(data.val_y, preds)\n",
    "ic(val_acc)\n",
    "\n",
    "\n",
    "ic(\"Reading unlabeled data\")\n",
    "unlabeled = read_unlabeled(\"data/\" + fname, data, preprocess = True)\n",
    "print(\"Writing pred file\")\n",
    "write_pred_kaggle_file(unlabeled, clf, \"speech-pred.csv\", data)\n"
   ]
  },
  {
   "cell_type": "markdown",
   "id": "stock-wrapping",
   "metadata": {},
   "source": [
    "### General submission code - Unsupervised"
   ]
  },
  {
   "cell_type": "code",
   "execution_count": 37,
   "id": "collectible-insured",
   "metadata": {},
   "outputs": [
    {
     "name": "stderr",
     "output_type": "stream",
     "text": [
      "ic| '-- train data'\n",
      "ic| member.name: 'train.tsv'\n",
      "ic| len(self.train_data): 4370\n",
      "ic| '-- val data'\n",
      "ic| member.name: 'dev.tsv'\n",
      "ic| len(self.val_data): 414\n",
      "ic| val_acc: 0.45893719806763283\n"
     ]
    },
    {
     "data": {
      "text/plain": [
       "0.45893719806763283"
      ]
     },
     "execution_count": 37,
     "metadata": {},
     "output_type": "execute_result"
    }
   ],
   "source": [
    "model = 'word2vec_60ul.model'\n",
    "data = Data(fname)\n",
    "data.preprocess(feat_list['cv_nltk_lemma'],\n",
    "                svd = TruncatedSVD(n_components = 2500))\n",
    "clf = LogisticRegression(solver = \"lbfgs\", penalty = 'l2')\n",
    "model = Word2Vec.load(\"models/\" + model)\n",
    "w2v = W2V_Vectorizer(model)\n",
    "data.train_x_unlabeled = np.array(w2v_build_dataset(w2v,SamsTokenizer(), data.train_data))\n",
    "data.val_x_unlabeled = np.array(w2v_build_dataset(w2v, SamsTokenizer(), data.val_data))\n",
    "\n",
    "data.train_x_final = np.hstack((data.train_x, data.train_x_unlabeled))\n",
    "data.val_x_final = np.hstack((data.val_x, data.val_x_unlabeled))\n",
    "clf.fit(data.train_x_final, data.train_y)\n",
    "\n",
    "# Train performance\n",
    "preds = clf.predict(data.val_x_final)\n",
    "train_acc = accuracy_score(clf.predict(data.train_x_final), data.train_y)\n",
    "\n",
    "#Val performance\n",
    "val_acc =  accuracy_score(data.val_y, preds)\n",
    "ic(val_acc)\n",
    "\n",
    "# ic(\"Reading unlabeled data\")\n",
    "# unlabeled = read_unlabeled_w2v(\"data/\" + fname, data, W2V_Vectorizer(model))\n",
    "# print(\"Writing pred file\")\n",
    "# write_pred_kaggle_file(unlabeled, clf, \"speech-pred-unlabeled.csv\", data)"
   ]
  },
  {
   "cell_type": "markdown",
   "id": "twenty-kenya",
   "metadata": {},
   "source": [
    "## Supervised Experiments"
   ]
  },
  {
   "cell_type": "markdown",
   "id": "enormous-airplane",
   "metadata": {},
   "source": [
    "### Initial exploration"
   ]
  },
  {
   "cell_type": "code",
   "execution_count": 38,
   "id": "practical-closer",
   "metadata": {},
   "outputs": [
    {
     "name": "stderr",
     "output_type": "stream",
     "text": [
      "ic| '-- train data'\n",
      "ic| member.name: 'train.tsv'\n",
      "ic| len(self.train_data): 4370\n",
      "ic| '-- val data'\n",
      "ic| member.name: 'dev.tsv'\n",
      "ic| len(self.val_data): 414\n"
     ]
    }
   ],
   "source": [
    "fname = \"speech.tar.gz\"\n",
    "preprocessors = [\n",
    "    CountVectorizer(lowercase = False, tokenizer = SamsTokenizer(punct = True,lower = False)),\n",
    "    CountVectorizer(tokenizer = SamsTokenizer(punct = True)),\n",
    "    CountVectorizer(tokenizer = SamsTokenizer()),\n",
    "    CountVectorizer(stop_words=\"english\", tokenizer = SamsTokenizer()),\n",
    "    CountVectorizer(stop_words=\"english\", tokenizer = SamsTokenizer(), min_df = 2),\n",
    "    CountVectorizer(stop_words=\"english\", tokenizer = SamsTokenizer(), min_df = 3),\n",
    "    CountVectorizer(stop_words=\"english\", tokenizer = SamsTokenizer(), min_df = 4),\n",
    "    CountVectorizer(stop_words=\"english\", tokenizer = SamsTokenizer(), min_df = 5),\n",
    "    CountVectorizer(stop_words=\"english\", tokenizer = SamsTokenizer(), min_df = 6),\n",
    "    CountVectorizer(stop_words=\"english\", tokenizer = SamsTokenizer(), min_df = 7),\n",
    "    CountVectorizer(stop_words=\"english\", tokenizer = SamsTokenizer(), min_df = 8),\n",
    "    CountVectorizer(stop_words=\"english\", tokenizer = SamsTokenizer(), min_df = 9),\n",
    "    CountVectorizer(stop_words=\"english\", tokenizer = SamsTokenizer(), min_df = 10),\n",
    "]\n",
    "\n",
    "d = dimensionality_exploration(fname, preprocessors)"
   ]
  },
  {
   "cell_type": "code",
   "execution_count": 39,
   "id": "loose-listing",
   "metadata": {},
   "outputs": [
    {
     "data": {
      "text/plain": [
       "[7878, 7028, 7028, 6762, 3602, 2561, 1996, 1653, 1412, 1245, 1124, 996, 890]"
      ]
     },
     "execution_count": 39,
     "metadata": {},
     "output_type": "execute_result"
    }
   ],
   "source": [
    "d"
   ]
  },
  {
   "cell_type": "markdown",
   "id": "brutal-authorization",
   "metadata": {},
   "source": [
    "### Feature ablation"
   ]
  },
  {
   "cell_type": "code",
   "execution_count": 3,
   "id": "average-paragraph",
   "metadata": {},
   "outputs": [],
   "source": [
    "fname = \"speech.tar.gz\"\n",
    "\n",
    "feat_list = {\n",
    "    #CountVectorization\n",
    "    \"cv_nltk_case_punct\":CountVectorizer(tokenizer = SamsTokenizer(tokenizer = \"nltk\", lower = False, punct = True, lemma = False)),\n",
    "    \"cv_cv_case_punct\":CountVectorizer(tokenizer = SamsTokenizer(tokenizer = \"cv\", lower = False, punct = True, lemma = False)),\n",
    "    \"cv_nltk\":CountVectorizer(tokenizer = SamsTokenizer(tokenizer = 'nltk', lemma = False)),\n",
    "    \"cv_cv\": CountVectorizer(tokenizer = SamsTokenizer(lemma = False)),\n",
    "    \"cv_nltk_lemma\":CountVectorizer(tokenizer = SamsTokenizer(tokenizer = 'nltk', lemma = True)),\n",
    "    \"cv_cv_lemma\": CountVectorizer(tokenizer = SamsTokenizer(lemma = True)),\n",
    "    \"cv_nltk_lemma_stopw\": CountVectorizer(stop_words = \"english\", tokenizer = SamsTokenizer(tokenizer = \"nltk\")),\n",
    "    \"cv_cv_lemma_stopw\": CountVectorizer(stop_words = \"english\", tokenizer = SamsTokenizer(tokenizer = \"cv\")),\n",
    "\n",
    "    #Tfidf vectorization\n",
    "    \"tfidf_nltk_case_punct\":TfidfVectorizer(tokenizer = SamsTokenizer(tokenizer = \"nltk\", lower = False, punct = True, lemma = False)),\n",
    "    \"tfidf_cv_case_punct\":TfidfVectorizer(tokenizer = SamsTokenizer(tokenizer = \"cv\", lower = False, punct = True, lemma = False)),\n",
    "    \"tfidf_nltk\":TfidfVectorizer(tokenizer = SamsTokenizer(tokenizer = 'nltk', lemma = False)),\n",
    "    \"tfidf_cv\": TfidfVectorizer(tokenizer = SamsTokenizer(lemma = False)),\n",
    "    \"tfidf_nltk_lemma\":TfidfVectorizer(tokenizer = SamsTokenizer(tokenizer = 'nltk', lemma = True)),\n",
    "    \"tfidf_cv_lemma\": TfidfVectorizer(tokenizer = SamsTokenizer(lemma = True)),\n",
    "    \"tfidf_nltk_lemma_stopw\": TfidfVectorizer(stop_words = \"english\", tokenizer = SamsTokenizer(tokenizer = \"nltk\")),\n",
    "    \"tfidf_cv_lemma_stopw\": TfidfVectorizer(stop_words = \"english\", tokenizer = SamsTokenizer(tokenizer = \"cv\")),\n",
    "}"
   ]
  },
  {
   "cell_type": "code",
   "execution_count": null,
   "id": "local-concentration",
   "metadata": {},
   "outputs": [],
   "source": [
    "a1 = feature_ablation(fname, feat_list)"
   ]
  },
  {
   "cell_type": "code",
   "execution_count": 6,
   "id": "active-shield",
   "metadata": {},
   "outputs": [
    {
     "data": {
      "text/plain": [
       "{'cv_case_punct_nltk': 0.43719806763285024,\n",
       " 'cv_case_punct_cv': 0.3961352657004831,\n",
       " 'cv_nltk': 0.43478260869565216,\n",
       " 'cv_cv': 0.41304347826086957,\n",
       " 'cv_nltk_lemma': 0.43478260869565216,\n",
       " 'cv_cv_lemma': 0.41304347826086957,\n",
       " 'cv_nltk_lemma_stopw': 0.40096618357487923,\n",
       " 'cv_cv_lemma_stopw': 0.39855072463768115,\n",
       " 'tfidf_case_punct_nltk': 0.38164251207729466,\n",
       " 'tfidf_case_punct_cv': 0.35990338164251207,\n",
       " 'tfidf_nltk': 0.38164251207729466,\n",
       " 'tfidf_cv': 0.3743961352657005,\n",
       " 'tfidf_nltk_lemma': 0.38164251207729466,\n",
       " 'tfidf_cv_lemma': 0.3743961352657005,\n",
       " 'tfidf_nltk_lemma_stopw': 0.3864734299516908,\n",
       " 'tfidf_cv_lemma_stopw': 0.38164251207729466}"
      ]
     },
     "execution_count": 6,
     "metadata": {},
     "output_type": "execute_result"
    }
   ],
   "source": [
    "a1"
   ]
  },
  {
   "cell_type": "markdown",
   "id": "equivalent-processor",
   "metadata": {},
   "source": [
    "### Dimensionality Ablation"
   ]
  },
  {
   "cell_type": "code",
   "execution_count": 15,
   "id": "younger-turkey",
   "metadata": {},
   "outputs": [
    {
     "name": "stderr",
     "output_type": "stream",
     "text": [
      "ic| '-- train data'\n",
      "ic| member.name: 'train.tsv'\n",
      "ic| len(self.train_data): 4370\n",
      "ic| '-- val data'\n",
      "ic| member.name: 'dev.tsv'\n",
      "ic| len(self.val_data): 414\n"
     ]
    },
    {
     "name": "stdout",
     "output_type": "stream",
     "text": [
      "(4370, 7689)\n",
      "(414, 7689)\n"
     ]
    }
   ],
   "source": [
    "data = Data(fname)\n",
    "data.preprocess(feat_list[\"cv_nltk_lemma\"], norm = True)\n",
    "print(data.train_x.shape)\n",
    "print(data.val_x.shape)\n",
    "# sys.exit(1)\n",
    "comp_list = [100,500, 1000, 1500, 2000, 2500, 3000, 4000, 5000]\n",
    "a2 = dimensionality_ablation(data, comp_list)"
   ]
  },
  {
   "cell_type": "code",
   "execution_count": 16,
   "id": "planned-exception",
   "metadata": {},
   "outputs": [
    {
     "data": {
      "text/plain": [
       "{100: 0.2826086956521739,\n",
       " 500: 0.32367149758454106,\n",
       " 1000: 0.3309178743961353,\n",
       " 1500: 0.33816425120772947,\n",
       " 2000: 0.33816425120772947,\n",
       " 2500: 0.34057971014492755,\n",
       " 3000: 0.33816425120772947,\n",
       " 4000: 0.34057971014492755,\n",
       " 5000: 0.33816425120772947}"
      ]
     },
     "execution_count": 16,
     "metadata": {},
     "output_type": "execute_result"
    }
   ],
   "source": [
    "a2"
   ]
  },
  {
   "cell_type": "code",
   "execution_count": 17,
   "id": "pharmaceutical-indie",
   "metadata": {},
   "outputs": [
    {
     "name": "stderr",
     "output_type": "stream",
     "text": [
      "ic| '-- train data'\n",
      "ic| member.name: 'train.tsv'\n",
      "ic| len(self.train_data): 4370\n",
      "ic| '-- val data'\n",
      "ic| member.name: 'dev.tsv'\n",
      "ic| len(self.val_data): 414\n"
     ]
    },
    {
     "name": "stdout",
     "output_type": "stream",
     "text": [
      "(4370, 7689)\n",
      "(414, 7689)\n"
     ]
    }
   ],
   "source": [
    "data = Data(fname)\n",
    "data.preprocess(feat_list[\"cv_nltk_lemma\"], norm = False)\n",
    "print(data.train_x.shape)\n",
    "print(data.val_x.shape)\n",
    "# sys.exit(1)\n",
    "comp_list = [100,500, 1000, 1500, 2000, 2500, 3000, 4000, 5000]\n",
    "a2_2 = dimensionality_ablation(data, comp_list)"
   ]
  },
  {
   "cell_type": "code",
   "execution_count": 18,
   "id": "quantitative-illness",
   "metadata": {},
   "outputs": [
    {
     "data": {
      "text/plain": [
       "{100: 0.2971014492753623,\n",
       " 500: 0.38405797101449274,\n",
       " 1000: 0.4227053140096618,\n",
       " 1500: 0.42995169082125606,\n",
       " 2000: 0.43478260869565216,\n",
       " 2500: 0.43719806763285024,\n",
       " 3000: 0.4323671497584541,\n",
       " 4000: 0.43719806763285024,\n",
       " 5000: 0.43719806763285024}"
      ]
     },
     "execution_count": 18,
     "metadata": {},
     "output_type": "execute_result"
    }
   ],
   "source": [
    "a2_2"
   ]
  },
  {
   "cell_type": "markdown",
   "id": "ranking-titanium",
   "metadata": {},
   "source": [
    "### Model ablation"
   ]
  },
  {
   "cell_type": "code",
   "execution_count": 4,
   "id": "positive-valentine",
   "metadata": {},
   "outputs": [
    {
     "name": "stderr",
     "output_type": "stream",
     "text": [
      "ic| '-- train data'\n",
      "ic| member.name: 'train.tsv'\n",
      "ic| len(self.train_data): 4370\n",
      "ic| '-- val data'\n",
      "ic| member.name: 'dev.tsv'\n",
      "ic| len(self.val_data): 414\n"
     ]
    },
    {
     "name": "stdout",
     "output_type": "stream",
     "text": [
      "Solver lbfgs supports only 'l2' or 'none' penalties, got l1 penalty.\n",
      "penalty='none' is not supported for the liblinear solver\n",
      "Solver newton-cg supports only 'l2' or 'none' penalties, got l1 penalty.\n",
      "Solver sag supports only 'l2' or 'none' penalties, got l1 penalty.\n"
     ]
    }
   ],
   "source": [
    "data = Data(fname)\n",
    "data.preprocess(feat_list[\"cv_nltk_lemma\"], norm = False)\n",
    "svd = TruncatedSVD(n_components = 2500)\n",
    "data.train_x = svd.fit_transform(data.train_x)\n",
    "data.val_x = svd.transform(data.val_x)\n",
    "solvers = [\"lbfgs\", \"liblinear\", \"saga\", \"newton-cg\", \"sag\"]\n",
    "penalties = [\"l1\", \"l2\", 'none']\n",
    "a3 = solver_pen_ablation(data.train_x, data.train_y, data.val_x, data.val_y, solvers, penalties)"
   ]
  },
  {
   "cell_type": "code",
   "execution_count": 5,
   "id": "intensive-ivory",
   "metadata": {},
   "outputs": [
    {
     "data": {
      "text/plain": [
       "{'l1': {'lbfgs': '-',\n",
       "  'liblinear': 0.4227053140096618,\n",
       "  'saga': 0.427536231884058,\n",
       "  'newton-cg': '-',\n",
       "  'sag': '-'},\n",
       " 'l2': {'lbfgs': 0.4468599033816425,\n",
       "  'liblinear': 0.4323671497584541,\n",
       "  'saga': 0.4468599033816425,\n",
       "  'newton-cg': 0.4492753623188406,\n",
       "  'sag': 0.4492753623188406},\n",
       " 'none': {'lbfgs': 0.39855072463768115,\n",
       "  'liblinear': '-',\n",
       "  'saga': 0.45410628019323673,\n",
       "  'newton-cg': 0.40096618357487923,\n",
       "  'sag': 0.4468599033816425}}"
      ]
     },
     "execution_count": 5,
     "metadata": {},
     "output_type": "execute_result"
    }
   ],
   "source": [
    "a3"
   ]
  },
  {
   "cell_type": "markdown",
   "id": "resident-friendly",
   "metadata": {},
   "source": [
    "### Vocabulary Plots"
   ]
  },
  {
   "cell_type": "code",
   "execution_count": null,
   "id": "associate-frame",
   "metadata": {},
   "outputs": [],
   "source": [
    "# Without stopwords\n",
    "import matplotlib.pyplot as plt\n",
    "plt.figure(figsize=(12,8))\n",
    "plt.plot(range(len(vocabulary_sorted)), [item[1] for item in vocabulary_sorted])\n"
   ]
  },
  {
   "cell_type": "code",
   "execution_count": null,
   "id": "increasing-karma",
   "metadata": {},
   "outputs": [],
   "source": [
    "speech.count_vect = CountVectorizer(stop_words = \"english\")#, tokenizer = LemmaTokenizer())\n",
    "matrix = speech.count_vect.fit_transform(speech.train_data)\n",
    "print(matrix.shape)\n",
    "freqs = zip(speech.count_vect.get_feature_names(), matrix.sum(axis=0).tolist()[0])    \n",
    "# sort from largest to smallest\n",
    "vocabulary_sorted = sorted(freqs, key=lambda x: -x[1])\n",
    "print(type(vocabulary_sorted))"
   ]
  },
  {
   "cell_type": "code",
   "execution_count": null,
   "id": "infectious-pursuit",
   "metadata": {},
   "outputs": [],
   "source": [
    "from nltk.stem.wordnet import WordNetLemmatizer as lemmatizer\n",
    "lemmatizer = lemmatizer()\n",
    "voc_l = [lemmatizer.lemmatize(i[0]) for i in vocabulary_sorted]\n",
    "print(len(list(set(voc_l))))\n"
   ]
  },
  {
   "cell_type": "code",
   "execution_count": null,
   "id": "parliamentary-archive",
   "metadata": {},
   "outputs": [],
   "source": [
    "# Without stopwords\n",
    "import matplotlib.pyplot as plt\n",
    "plt.figure(figsize=(12,8))\n",
    "plt.plot(range(len(vocabulary_sorted)), [item[1] for item in vocabulary_sorted])\n"
   ]
  },
  {
   "cell_type": "markdown",
   "id": "polish-modification",
   "metadata": {},
   "source": [
    "## Unsupervised experiments"
   ]
  },
  {
   "cell_type": "markdown",
   "id": "horizontal-october",
   "metadata": {},
   "source": [
    "### Vectorize input in preparation for Word2Vec"
   ]
  },
  {
   "cell_type": "code",
   "execution_count": 68,
   "id": "molecular-sperm",
   "metadata": {},
   "outputs": [],
   "source": [
    "data = read_unlabeled(\"data/\" + \n",
    "                      fname, None)"
   ]
  },
  {
   "cell_type": "code",
   "execution_count": 69,
   "id": "romance-authorization",
   "metadata": {},
   "outputs": [
    {
     "name": "stdout",
     "output_type": "stream",
     "text": [
      "43342\n"
     ]
    }
   ],
   "source": [
    "print(len(data.data))\n",
    "# print(data.data[0])"
   ]
  },
  {
   "cell_type": "code",
   "execution_count": 76,
   "id": "mental-denver",
   "metadata": {},
   "outputs": [],
   "source": [
    "tokenizer = CountVectorizer(stop_words = \"english\",\n",
    "                            tokenizer = SamsTokenizer(),\n",
    "                           )\n",
    "                            \n",
    "def sentence_parser(sentences,tokenizer):\n",
    "    res_sentences = []\n",
    "    \n",
    "    for s in tqdm(sentences):\n",
    "        res_sentences.append(tokenizer(s))\n",
    "    return res_sentences\n",
    "    "
   ]
  },
  {
   "cell_type": "code",
   "execution_count": 77,
   "id": "aging-simon",
   "metadata": {},
   "outputs": [
    {
     "name": "stderr",
     "output_type": "stream",
     "text": [
      "100%|██████████| 43342/43342 [00:23<00:00, 1811.10it/s]\n"
     ]
    }
   ],
   "source": [
    "data.parsed_unlabeled_data = sentence_parser(data.data, \n",
    "                                SamsTokenizer())"
   ]
  },
  {
   "cell_type": "code",
   "execution_count": 84,
   "id": "bright-digest",
   "metadata": {},
   "outputs": [
    {
     "name": "stderr",
     "output_type": "stream",
     "text": [
      "ic| '-- train data'\n",
      "ic| member.name: 'train.tsv'\n",
      "ic| len(self.train_data): 4370\n",
      "ic| '-- val data'\n",
      "ic| member.name: 'dev.tsv'\n",
      "ic| len(self.val_data): 414\n",
      "100%|██████████| 4370/4370 [00:02<00:00, 1892.89it/s]\n"
     ]
    }
   ],
   "source": [
    "labeled_data = Data(fname)\n",
    "data.parsed_labeled_data = sentence_parser(labeled_data.train_data, \n",
    "                                           SamsTokenizer())\n",
    "                                           "
   ]
  },
  {
   "cell_type": "code",
   "execution_count": 85,
   "id": "physical-sacramento",
   "metadata": {},
   "outputs": [],
   "source": [
    "data.full_parsed_data = data.parsed_labeled_data + data.parsed_unlabeled_data"
   ]
  },
  {
   "cell_type": "markdown",
   "id": "ultimate-workshop",
   "metadata": {},
   "source": [
    "### Make embedding models"
   ]
  },
  {
   "cell_type": "code",
   "execution_count": 106,
   "id": "stuffed-excerpt",
   "metadata": {},
   "outputs": [
    {
     "name": "stdout",
     "output_type": "stream",
     "text": [
      "8704\n",
      "13038\n",
      "17372\n",
      "21706\n",
      "26040\n",
      "30374\n",
      "34708\n",
      "39042\n",
      "43376\n",
      "47710\n"
     ]
    }
   ],
   "source": [
    "from gensim.models import Word2Vec\n",
    "\n",
    "for i in range(1,11):\n",
    "    l = len(data.parsed_unlabeled_data)\n",
    "    data.full_parsed_data = data.parsed_labeled_data +\\\n",
    "    data.parsed_unlabeled_data[:(l//10)*i]\n",
    "    print(len(data.full_parsed_data))\n",
    "    model = Word2Vec(sentences=data.full_parsed_data,\n",
    "                 size=300,\n",
    "                 window=5,\n",
    "                 min_count=1, workers=1)\n",
    "    model.save(\"models/word2vec_\" + str(i*10) + \"ul.model\")\n",
    "\n",
    "\n",
    "\n",
    "model = Word2Vec.load('models/word2vec_100ul.model')"
   ]
  },
  {
   "cell_type": "markdown",
   "id": "adult-closer",
   "metadata": {},
   "source": [
    "### Visualize Embeddings"
   ]
  },
  {
   "cell_type": "code",
   "execution_count": 98,
   "id": "amber-discretion",
   "metadata": {},
   "outputs": [],
   "source": [
    "test = ['health', 'care', 'healthcare', 'war', 'soldier', 'afghanistan',\n",
    "        'iraq','gun','bear', 'clinton','mccain', 'terrorism', 'control',\n",
    "        'obama','fighting','budget','money','9/11','quality', 'deficit', 'candidate']\n",
    "\n",
    "embeddings = [model[i] for i in test]\n",
    "\n",
    "from sklearn.decomposition import PCA\n",
    "pca = PCA(n_components = 2)\n",
    "\n",
    "res = pca.fit_transform(embeddings)"
   ]
  },
  {
   "cell_type": "code",
   "execution_count": 99,
   "id": "meaningful-manner",
   "metadata": {},
   "outputs": [
    {
     "name": "stdout",
     "output_type": "stream",
     "text": [
      "(21,) (21,)\n"
     ]
    },
    {
     "data": {
      "image/png": "[encoded data removed]",
      "text/plain": [
       "<Figure size 864x576 with 1 Axes>"
      ]
     },
     "metadata": {
      "needs_background": "light"
     },
     "output_type": "display_data"
    }
   ],
   "source": [
    "import matplotlib.pyplot as plt\n",
    "plt.figure(figsize =(12,8))\n",
    "print(res[:,0].shape, res[:,1].shape)\n",
    "plt.scatter(res[:,0].flatten(),res[:,1].flatten())\n",
    "for i, text in enumerate(test):\n",
    "    plt.annotate(text, (res[i,0],res[i,1]))"
   ]
  },
  {
   "cell_type": "markdown",
   "id": "signal-apple",
   "metadata": {},
   "source": [
    "### Run experiment with Word2Vec"
   ]
  },
  {
   "cell_type": "code",
   "execution_count": 3,
   "id": "japanese-harrison",
   "metadata": {},
   "outputs": [
    {
     "data": {
      "text/plain": [
       "['word2vec_10ul.model',\n",
       " 'word2vec_20ul.model',\n",
       " 'word2vec_30ul.model',\n",
       " 'word2vec_40ul.model',\n",
       " 'word2vec_50ul.model',\n",
       " 'word2vec_60ul.model',\n",
       " 'word2vec_70ul.model',\n",
       " 'word2vec_80ul.model',\n",
       " 'word2vec_90ul.model',\n",
       " 'word2vec_100ul.model']"
      ]
     },
     "execution_count": 3,
     "metadata": {},
     "output_type": "execute_result"
    }
   ],
   "source": [
    "models = ['word2vec_{}ul.model'.format(i*10) for i in range(1,11)]\n",
    "models"
   ]
  },
  {
   "cell_type": "code",
   "execution_count": 105,
   "id": "drawn-nerve",
   "metadata": {},
   "outputs": [
    {
     "name": "stderr",
     "output_type": "stream",
     "text": [
      "ic| '-- train data'\n",
      "ic| member.name: 'train.tsv'\n",
      "ic| len(self.train_data): 4370\n",
      "ic| '-- val data'\n",
      "ic| member.name: 'dev.tsv'\n",
      "ic| len(self.val_data): 414\n"
     ]
    },
    {
     "data": {
      "text/plain": [
       "[0.27294685990338163,\n",
       " 0.2777777777777778,\n",
       " 0.2753623188405797,\n",
       " 0.30917874396135264,\n",
       " 0.3115942028985507,\n",
       " 0.3164251207729469,\n",
       " 0.3164251207729469,\n",
       " 0.32608695652173914,\n",
       " 0.3309178743961353,\n",
       " 0.32367149758454106]"
      ]
     },
     "execution_count": 105,
     "metadata": {},
     "output_type": "execute_result"
    }
   ],
   "source": [
    "w2v_ablation(models, fname, LogisticRegression)"
   ]
  },
  {
   "cell_type": "markdown",
   "id": "specialized-crime",
   "metadata": {},
   "source": [
    "### Adding back original features + word embeddings"
   ]
  },
  {
   "cell_type": "code",
   "execution_count": null,
   "id": "serious-detector",
   "metadata": {},
   "outputs": [
    {
     "name": "stderr",
     "output_type": "stream",
     "text": [
      "ic| '-- train data'\n",
      "ic| member.name: 'train.tsv'\n",
      "ic| len(self.train_data): 4370\n",
      "ic| '-- val data'\n",
      "ic| member.name: 'dev.tsv'\n",
      "ic| len(self.val_data): 414\n"
     ]
    }
   ],
   "source": [
    "w2v_ablation_all_features(models, fname, LogisticRegression(solver = 'sag', penalty = 'l2'), feat_list['cv_nltk_lemma'], TruncatedSVD(n_components= 2500))"
   ]
  },
  {
   "cell_type": "code",
   "execution_count": null,
   "id": "stretch-treat",
   "metadata": {},
   "outputs": [],
   "source": [
    "# Lbfgs and SVD\n",
    "[0.43478260869565216,\n",
    " 0.4444444444444444,\n",
    " 0.4468599033816425,\n",
    " 0.45169082125603865,\n",
    " 0.4492753623188406,\n",
    " 0.45169082125603865,\n",
    " 0.4492753623188406,\n",
    " 0.4444444444444444,\n",
    " 0.4492753623188406,\n",
    " 0.4396135265700483]\n",
    "\n",
    "\n",
    "\n",
    "# SAG and SVD 2500\n",
    "\n",
    "\n",
    "[0.4420289855072464,\n",
    " 0.4420289855072464,\n",
    " 0.4468599033816425,\n",
    " 0.45169082125603865,\n",
    " 0.4492753623188406,\n",
    " 0.45410628019323673,\n",
    " 0.4492753623188406,\n",
    " 0.4444444444444444,\n",
    " 0.4444444444444444,\n",
    " 0.4396135265700483]"
   ]
  }
 ],
 "metadata": {
  "kernelspec": {
   "display_name": "mlenv",
   "language": "python",
   "name": "mlenv"
  },
  "language_info": {
   "codemirror_mode": {
    "name": "ipython",
    "version": 3
   },
   "file_extension": ".py",
   "mimetype": "text/x-python",
   "name": "python",
   "nbconvert_exporter": "python",
   "pygments_lexer": "ipython3",
   "version": "3.8.8"
  }
 },
 "nbformat": 4,
 "nbformat_minor": 5
}

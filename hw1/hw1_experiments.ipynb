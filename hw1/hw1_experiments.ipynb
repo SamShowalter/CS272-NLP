{
 "cells": [
  {
   "cell_type": "markdown",
   "id": "incorporate-pound",
   "metadata": {},
   "source": [
    "# Experimentation for nlp hw1"
   ]
  },
  {
   "cell_type": "code",
   "execution_count": 3,
   "id": "explicit-generic",
   "metadata": {},
   "outputs": [
    {
     "name": "stdout",
     "output_type": "stream",
     "text": [
      "The autoreload extension is already loaded. To reload it, use:\n",
      "  %reload_ext autoreload\n"
     ]
    }
   ],
   "source": [
    "%load_ext autoreload\n",
    "%autoreload 2\n",
    "from preprocessing import *\n",
    "from speech import *\n",
    "import numpy as np\n",
    "from tqdm import tqdm\n",
    "from supervised_experiments import *\n",
    "from sklearn.feature_extraction.text import CountVectorizer, TfidfVectorizer\n",
    "import warnings\n",
    "warnings.filterwarnings(\"ignore\")\n",
    "fname = \"speech.tar.gz\""
   ]
  },
  {
   "cell_type": "markdown",
   "id": "preceding-sword",
   "metadata": {},
   "source": [
    "### General submission code"
   ]
  },
  {
   "cell_type": "code",
   "execution_count": 4,
   "id": "southern-repair",
   "metadata": {},
   "outputs": [
    {
     "name": "stderr",
     "output_type": "stream",
     "text": [
      "ic| '-- train data'\n"
     ]
    },
    {
     "ename": "KeyboardInterrupt",
     "evalue": "",
     "output_type": "error",
     "traceback": [
      "\u001b[0;31m---------------------------------------------------------------------------\u001b[0m",
      "\u001b[0;31mKeyboardInterrupt\u001b[0m                         Traceback (most recent call last)",
      "\u001b[0;32m<ipython-input-4-1c94d367e499>\u001b[0m in \u001b[0;36m<module>\u001b[0;34m\u001b[0m\n\u001b[0;32m----> 1\u001b[0;31m \u001b[0mdata\u001b[0m \u001b[0;34m=\u001b[0m \u001b[0mData\u001b[0m\u001b[0;34m(\u001b[0m\u001b[0mfname\u001b[0m\u001b[0;34m)\u001b[0m\u001b[0;34m\u001b[0m\u001b[0;34m\u001b[0m\u001b[0m\n\u001b[0m\u001b[1;32m      2\u001b[0m data.preprocess(CountVectorizer(tokenizer = SamsTokenizer(), \n\u001b[1;32m      3\u001b[0m                                 stop_words = \"english\", min_df = 2),\n\u001b[1;32m      4\u001b[0m                 svd = TruncatedSVD(n_components = 2500))\n\u001b[1;32m      5\u001b[0m \u001b[0mclf\u001b[0m \u001b[0;34m=\u001b[0m \u001b[0mLogisticRegression\u001b[0m\u001b[0;34m(\u001b[0m\u001b[0msolver\u001b[0m \u001b[0;34m=\u001b[0m \u001b[0;34m\"saga\"\u001b[0m\u001b[0;34m,\u001b[0m \u001b[0mpenalty\u001b[0m \u001b[0;34m=\u001b[0m \u001b[0;34m'l2'\u001b[0m\u001b[0;34m)\u001b[0m\u001b[0;34m\u001b[0m\u001b[0;34m\u001b[0m\u001b[0m\n",
      "\u001b[0;32m~/classes/2020-21/Spring/CS272-NLP/hw1/preprocessing.py\u001b[0m in \u001b[0;36m__init__\u001b[0;34m(self, filename)\u001b[0m\n\u001b[1;32m     99\u001b[0m         \u001b[0mself\u001b[0m\u001b[0;34m.\u001b[0m\u001b[0mfilename\u001b[0m \u001b[0;34m=\u001b[0m \u001b[0mfilename\u001b[0m\u001b[0;34m\u001b[0m\u001b[0;34m\u001b[0m\u001b[0m\n\u001b[1;32m    100\u001b[0m         \u001b[0mic\u001b[0m\u001b[0;34m(\u001b[0m\u001b[0;34m\"-- train data\"\u001b[0m\u001b[0;34m)\u001b[0m\u001b[0;34m\u001b[0m\u001b[0;34m\u001b[0m\u001b[0m\n\u001b[0;32m--> 101\u001b[0;31m         \u001b[0mself\u001b[0m\u001b[0;34m.\u001b[0m\u001b[0mtrain_data\u001b[0m\u001b[0;34m,\u001b[0m \u001b[0mself\u001b[0m\u001b[0;34m.\u001b[0m\u001b[0mtrain_fnames\u001b[0m\u001b[0;34m,\u001b[0m \u001b[0mself\u001b[0m\u001b[0;34m.\u001b[0m\u001b[0mtrain_labels\u001b[0m \u001b[0;34m=\u001b[0m \u001b[0mread_tsv\u001b[0m\u001b[0;34m(\u001b[0m\u001b[0mtar\u001b[0m\u001b[0;34m,\u001b[0m \u001b[0;34m\"train.tsv\"\u001b[0m\u001b[0;34m)\u001b[0m\u001b[0;34m\u001b[0m\u001b[0;34m\u001b[0m\u001b[0m\n\u001b[0m\u001b[1;32m    102\u001b[0m         \u001b[0mic\u001b[0m\u001b[0;34m(\u001b[0m\u001b[0mlen\u001b[0m\u001b[0;34m(\u001b[0m\u001b[0mself\u001b[0m\u001b[0;34m.\u001b[0m\u001b[0mtrain_data\u001b[0m\u001b[0;34m)\u001b[0m\u001b[0;34m)\u001b[0m\u001b[0;34m\u001b[0m\u001b[0;34m\u001b[0m\u001b[0m\n\u001b[1;32m    103\u001b[0m         \u001b[0mic\u001b[0m\u001b[0;34m(\u001b[0m\u001b[0;34m\"-- val data\"\u001b[0m\u001b[0;34m)\u001b[0m\u001b[0;34m\u001b[0m\u001b[0;34m\u001b[0m\u001b[0m\n",
      "\u001b[0;32m~/classes/2020-21/Spring/CS272-NLP/hw1/speech.py\u001b[0m in \u001b[0;36mread_tsv\u001b[0;34m(tar, fname)\u001b[0m\n\u001b[1;32m     49\u001b[0m \u001b[0;34m\u001b[0m\u001b[0m\n\u001b[1;32m     50\u001b[0m \u001b[0;32mdef\u001b[0m \u001b[0mread_tsv\u001b[0m\u001b[0;34m(\u001b[0m\u001b[0mtar\u001b[0m\u001b[0;34m,\u001b[0m \u001b[0mfname\u001b[0m\u001b[0;34m)\u001b[0m\u001b[0;34m:\u001b[0m\u001b[0;34m\u001b[0m\u001b[0;34m\u001b[0m\u001b[0m\n\u001b[0;32m---> 51\u001b[0;31m     \u001b[0mmember\u001b[0m \u001b[0;34m=\u001b[0m \u001b[0mtar\u001b[0m\u001b[0;34m.\u001b[0m\u001b[0mgetmember\u001b[0m\u001b[0;34m(\u001b[0m\u001b[0mfname\u001b[0m\u001b[0;34m)\u001b[0m\u001b[0;34m\u001b[0m\u001b[0;34m\u001b[0m\u001b[0m\n\u001b[0m\u001b[1;32m     52\u001b[0m     \u001b[0mic\u001b[0m\u001b[0;34m(\u001b[0m\u001b[0mmember\u001b[0m\u001b[0;34m.\u001b[0m\u001b[0mname\u001b[0m\u001b[0;34m)\u001b[0m\u001b[0;34m\u001b[0m\u001b[0;34m\u001b[0m\u001b[0m\n\u001b[1;32m     53\u001b[0m     \u001b[0mtf\u001b[0m \u001b[0;34m=\u001b[0m \u001b[0mtar\u001b[0m\u001b[0;34m.\u001b[0m\u001b[0mextractfile\u001b[0m\u001b[0;34m(\u001b[0m\u001b[0mmember\u001b[0m\u001b[0;34m)\u001b[0m\u001b[0;34m\u001b[0m\u001b[0;34m\u001b[0m\u001b[0m\n",
      "\u001b[0;32m~/.conda/envs/nlpenv/lib/python3.8/tarfile.py\u001b[0m in \u001b[0;36mgetmember\u001b[0;34m(self, name)\u001b[0m\n\u001b[1;32m   1778\u001b[0m            \u001b[0mmost\u001b[0m \u001b[0mup\u001b[0m\u001b[0;34m-\u001b[0m\u001b[0mto\u001b[0m\u001b[0;34m-\u001b[0m\u001b[0mdate\u001b[0m \u001b[0mversion\u001b[0m\u001b[0;34m.\u001b[0m\u001b[0;34m\u001b[0m\u001b[0;34m\u001b[0m\u001b[0m\n\u001b[1;32m   1779\u001b[0m         \"\"\"\n\u001b[0;32m-> 1780\u001b[0;31m         \u001b[0mtarinfo\u001b[0m \u001b[0;34m=\u001b[0m \u001b[0mself\u001b[0m\u001b[0;34m.\u001b[0m\u001b[0m_getmember\u001b[0m\u001b[0;34m(\u001b[0m\u001b[0mname\u001b[0m\u001b[0;34m)\u001b[0m\u001b[0;34m\u001b[0m\u001b[0;34m\u001b[0m\u001b[0m\n\u001b[0m\u001b[1;32m   1781\u001b[0m         \u001b[0;32mif\u001b[0m \u001b[0mtarinfo\u001b[0m \u001b[0;32mis\u001b[0m \u001b[0;32mNone\u001b[0m\u001b[0;34m:\u001b[0m\u001b[0;34m\u001b[0m\u001b[0;34m\u001b[0m\u001b[0m\n\u001b[1;32m   1782\u001b[0m             \u001b[0;32mraise\u001b[0m \u001b[0mKeyError\u001b[0m\u001b[0;34m(\u001b[0m\u001b[0;34m\"filename %r not found\"\u001b[0m \u001b[0;34m%\u001b[0m \u001b[0mname\u001b[0m\u001b[0;34m)\u001b[0m\u001b[0;34m\u001b[0m\u001b[0;34m\u001b[0m\u001b[0m\n",
      "\u001b[0;32m~/.conda/envs/nlpenv/lib/python3.8/tarfile.py\u001b[0m in \u001b[0;36m_getmember\u001b[0;34m(self, name, tarinfo, normalize)\u001b[0m\n\u001b[1;32m   2354\u001b[0m         \"\"\"\n\u001b[1;32m   2355\u001b[0m         \u001b[0;31m# Ensure that all members have been loaded.\u001b[0m\u001b[0;34m\u001b[0m\u001b[0;34m\u001b[0m\u001b[0;34m\u001b[0m\u001b[0m\n\u001b[0;32m-> 2356\u001b[0;31m         \u001b[0mmembers\u001b[0m \u001b[0;34m=\u001b[0m \u001b[0mself\u001b[0m\u001b[0;34m.\u001b[0m\u001b[0mgetmembers\u001b[0m\u001b[0;34m(\u001b[0m\u001b[0;34m)\u001b[0m\u001b[0;34m\u001b[0m\u001b[0;34m\u001b[0m\u001b[0m\n\u001b[0m\u001b[1;32m   2357\u001b[0m \u001b[0;34m\u001b[0m\u001b[0m\n\u001b[1;32m   2358\u001b[0m         \u001b[0;31m# Limit the member search list up to tarinfo.\u001b[0m\u001b[0;34m\u001b[0m\u001b[0;34m\u001b[0m\u001b[0;34m\u001b[0m\u001b[0m\n",
      "\u001b[0;32m~/.conda/envs/nlpenv/lib/python3.8/tarfile.py\u001b[0m in \u001b[0;36mgetmembers\u001b[0;34m(self)\u001b[0m\n\u001b[1;32m   1789\u001b[0m         \u001b[0mself\u001b[0m\u001b[0;34m.\u001b[0m\u001b[0m_check\u001b[0m\u001b[0;34m(\u001b[0m\u001b[0;34m)\u001b[0m\u001b[0;34m\u001b[0m\u001b[0;34m\u001b[0m\u001b[0m\n\u001b[1;32m   1790\u001b[0m         \u001b[0;32mif\u001b[0m \u001b[0;32mnot\u001b[0m \u001b[0mself\u001b[0m\u001b[0;34m.\u001b[0m\u001b[0m_loaded\u001b[0m\u001b[0;34m:\u001b[0m    \u001b[0;31m# if we want to obtain a list of\u001b[0m\u001b[0;34m\u001b[0m\u001b[0;34m\u001b[0m\u001b[0m\n\u001b[0;32m-> 1791\u001b[0;31m             \u001b[0mself\u001b[0m\u001b[0;34m.\u001b[0m\u001b[0m_load\u001b[0m\u001b[0;34m(\u001b[0m\u001b[0;34m)\u001b[0m        \u001b[0;31m# all members, we first have to\u001b[0m\u001b[0;34m\u001b[0m\u001b[0;34m\u001b[0m\u001b[0m\n\u001b[0m\u001b[1;32m   1792\u001b[0m                                 \u001b[0;31m# scan the whole archive.\u001b[0m\u001b[0;34m\u001b[0m\u001b[0;34m\u001b[0m\u001b[0;34m\u001b[0m\u001b[0m\n\u001b[1;32m   1793\u001b[0m         \u001b[0;32mreturn\u001b[0m \u001b[0mself\u001b[0m\u001b[0;34m.\u001b[0m\u001b[0mmembers\u001b[0m\u001b[0;34m\u001b[0m\u001b[0;34m\u001b[0m\u001b[0m\n",
      "\u001b[0;32m~/.conda/envs/nlpenv/lib/python3.8/tarfile.py\u001b[0m in \u001b[0;36m_load\u001b[0;34m(self)\u001b[0m\n\u001b[1;32m   2377\u001b[0m         \"\"\"\n\u001b[1;32m   2378\u001b[0m         \u001b[0;32mwhile\u001b[0m \u001b[0;32mTrue\u001b[0m\u001b[0;34m:\u001b[0m\u001b[0;34m\u001b[0m\u001b[0;34m\u001b[0m\u001b[0m\n\u001b[0;32m-> 2379\u001b[0;31m             \u001b[0mtarinfo\u001b[0m \u001b[0;34m=\u001b[0m \u001b[0mself\u001b[0m\u001b[0;34m.\u001b[0m\u001b[0mnext\u001b[0m\u001b[0;34m(\u001b[0m\u001b[0;34m)\u001b[0m\u001b[0;34m\u001b[0m\u001b[0;34m\u001b[0m\u001b[0m\n\u001b[0m\u001b[1;32m   2380\u001b[0m             \u001b[0;32mif\u001b[0m \u001b[0mtarinfo\u001b[0m \u001b[0;32mis\u001b[0m \u001b[0;32mNone\u001b[0m\u001b[0;34m:\u001b[0m\u001b[0;34m\u001b[0m\u001b[0;34m\u001b[0m\u001b[0m\n\u001b[1;32m   2381\u001b[0m                 \u001b[0;32mbreak\u001b[0m\u001b[0;34m\u001b[0m\u001b[0;34m\u001b[0m\u001b[0m\n",
      "\u001b[0;32m~/.conda/envs/nlpenv/lib/python3.8/tarfile.py\u001b[0m in \u001b[0;36mnext\u001b[0;34m(self)\u001b[0m\n\u001b[1;32m   2339\u001b[0m             \u001b[0;32mbreak\u001b[0m\u001b[0;34m\u001b[0m\u001b[0;34m\u001b[0m\u001b[0m\n\u001b[1;32m   2340\u001b[0m \u001b[0;34m\u001b[0m\u001b[0m\n\u001b[0;32m-> 2341\u001b[0;31m         \u001b[0;32mif\u001b[0m \u001b[0mtarinfo\u001b[0m \u001b[0;32mis\u001b[0m \u001b[0;32mnot\u001b[0m \u001b[0;32mNone\u001b[0m\u001b[0;34m:\u001b[0m\u001b[0;34m\u001b[0m\u001b[0;34m\u001b[0m\u001b[0m\n\u001b[0m\u001b[1;32m   2342\u001b[0m             \u001b[0mself\u001b[0m\u001b[0;34m.\u001b[0m\u001b[0mmembers\u001b[0m\u001b[0;34m.\u001b[0m\u001b[0mappend\u001b[0m\u001b[0;34m(\u001b[0m\u001b[0mtarinfo\u001b[0m\u001b[0;34m)\u001b[0m\u001b[0;34m\u001b[0m\u001b[0;34m\u001b[0m\u001b[0m\n\u001b[1;32m   2343\u001b[0m         \u001b[0;32melse\u001b[0m\u001b[0;34m:\u001b[0m\u001b[0;34m\u001b[0m\u001b[0;34m\u001b[0m\u001b[0m\n",
      "\u001b[0;31mKeyboardInterrupt\u001b[0m: "
     ]
    }
   ],
   "source": [
    "data = Data(fname)\n",
    "data.preprocess(CountVectorizer(tokenizer = SamsTokenizer(), \n",
    "                                stop_words = \"english\", min_df = 2),\n",
    "                svd = TruncatedSVD(n_components = 2500))\n",
    "clf = LogisticRegression(solver = \"saga\", penalty = 'l2')\n",
    "clf.fit(data.train_x, data.train_y)\n",
    "\n",
    "# Train performance\n",
    "preds = clf.predict(data.val_x)\n",
    "train_acc = accuracy_score(clf.predict(data.train_x), data.train_y)\n",
    "\n",
    "#Val performance\n",
    "val_acc =  accuracy_score(data.val_y, preds)\n",
    "ic(val_acc)\n",
    "\n",
    "\n",
    "ic(\"Reading unlabeled data\")\n",
    "unlabeled = read_unlabeled(\"data/\" + fname, data)\n",
    "print(\"Writing pred file\")\n",
    "write_pred_kaggle_file(unlabeled, clf, \"speech-pred.csv\", data)\n",
    "\n",
    "# # # You can't run this since you do not have the true labels\n",
    "# # # ic \"Writing gold file\"\n",
    "# # # write_gold_kaggle_file(\"data/speech-unlabeled.tsv\", \"data/speech-gold.csv\")\n",
    "# # # w:rite_basic_kaggle_file(\"data/speech-unlabeled.tsv\", \"data/speech-basic.csv\")"
   ]
  },
  {
   "cell_type": "markdown",
   "id": "consistent-surveillance",
   "metadata": {},
   "source": [
    "## Supervised Experiments"
   ]
  },
  {
   "cell_type": "markdown",
   "id": "sudden-tuner",
   "metadata": {},
   "source": [
    "### Initial exploration"
   ]
  },
  {
   "cell_type": "code",
   "execution_count": null,
   "id": "alternative-smile",
   "metadata": {},
   "outputs": [],
   "source": [
    "fname = \"speech.tar.gz\"\n",
    "preprocessors = [\n",
    "    CountVectorizer(lowercase = False, tokenizer = SamsTokenizer(punct = True,lower = False)),\n",
    "    CountVectorizer(tokenizer = SamsTokenizer(punct = True)),\n",
    "    CountVectorizer(tokenizer = SamsTokenizer()),\n",
    "    CountVectorizer(stop_words=\"english\", tokenizer = SamsTokenizer()),\n",
    "    CountVectorizer(stop_words=\"english\", tokenizer = SamsTokenizer(), min_df = 2),\n",
    "    CountVectorizer(stop_words=\"english\", tokenizer = SamsTokenizer(), min_df = 3),\n",
    "    CountVectorizer(stop_words=\"english\", tokenizer = SamsTokenizer(), min_df = 4),\n",
    "    CountVectorizer(stop_words=\"english\", tokenizer = SamsTokenizer(), min_df = 5),\n",
    "    CountVectorizer(stop_words=\"english\", tokenizer = SamsTokenizer(), min_df = 6),\n",
    "    CountVectorizer(stop_words=\"english\", tokenizer = SamsTokenizer(), min_df = 7),\n",
    "    CountVectorizer(stop_words=\"english\", tokenizer = SamsTokenizer(), min_df = 8),\n",
    "    CountVectorizer(stop_words=\"english\", tokenizer = SamsTokenizer(), min_df = 9),\n",
    "    CountVectorizer(stop_words=\"english\", tokenizer = SamsTokenizer(), min_df = 10),\n",
    "]\n",
    "\n",
    "d = dimensionality_exploration(fname, preprocessors)"
   ]
  },
  {
   "cell_type": "code",
   "execution_count": null,
   "id": "hazardous-asian",
   "metadata": {},
   "outputs": [],
   "source": [
    "d"
   ]
  },
  {
   "cell_type": "markdown",
   "id": "handed-trance",
   "metadata": {},
   "source": [
    "### Feature ablation"
   ]
  },
  {
   "cell_type": "code",
   "execution_count": 16,
   "id": "veterinary-longer",
   "metadata": {},
   "outputs": [],
   "source": [
    "fname = \"speech.tar.gz\"\n",
    "\n",
    "feat_list = {\n",
    "    \"cv\":CountVectorizer(),\n",
    "    \"cv_lemma\": CountVectorizer(tokenizer = SamsTokenizer()),\n",
    "    \"cv_stopw\": CountVectorizer(stop_words = \"english\"),\n",
    "    \"cv_lemma_stopw\":CountVectorizer(stop_words = \"english\", tokenizer = SamsTokenizer()),\n",
    "    \"tfidf\":TfidfVectorizer(),\n",
    "    \"tfidf_lemma\": TfidfVectorizer(tokenizer = SamsTokenizer()),\n",
    "    \"tfidf_stopw\": TfidfVectorizer(stop_words = \"english\"),\n",
    "    \"tfidf_lemma_stopw\":TfidfVectorizer(stop_words = \"english\", tokenizer = SamsTokenizer()),\n",
    "}"
   ]
  },
  {
   "cell_type": "code",
   "execution_count": 17,
   "id": "elegant-dinner",
   "metadata": {},
   "outputs": [
    {
     "name": "stderr",
     "output_type": "stream",
     "text": [
      "ic| '-- train data'\n",
      "ic| member.name: 'train.tsv'\n",
      "ic| len(self.train_data): 4370\n",
      "ic| '-- val data'\n",
      "ic| member.name: 'dev.tsv'\n",
      "ic| len(self.val_data): 414\n"
     ]
    }
   ],
   "source": [
    "a1 = feature_ablation(fname, feat_list)"
   ]
  },
  {
   "cell_type": "code",
   "execution_count": 18,
   "id": "oriental-springfield",
   "metadata": {},
   "outputs": [
    {
     "data": {
      "text/plain": [
       "{'cv': 0.41304347826086957,\n",
       " 'cv_lemma': 0.4227053140096618,\n",
       " 'cv_stopw': 0.39855072463768115,\n",
       " 'cv_lemma_stopw': 0.42028985507246375,\n",
       " 'tfidf': 0.3743961352657005,\n",
       " 'tfidf_lemma': 0.3864734299516908,\n",
       " 'tfidf_stopw': 0.38164251207729466,\n",
       " 'tfidf_lemma_stopw': 0.38405797101449274}"
      ]
     },
     "execution_count": 18,
     "metadata": {},
     "output_type": "execute_result"
    }
   ],
   "source": [
    "a1"
   ]
  },
  {
   "cell_type": "markdown",
   "id": "smaller-oakland",
   "metadata": {},
   "source": [
    "### Dimensionality Ablation"
   ]
  },
  {
   "cell_type": "code",
   "execution_count": 19,
   "id": "liquid-scanning",
   "metadata": {},
   "outputs": [
    {
     "name": "stderr",
     "output_type": "stream",
     "text": [
      "ic| '-- train data'\n",
      "ic| member.name: 'train.tsv'\n",
      "ic| len(self.train_data): 4370\n",
      "ic| '-- val data'\n",
      "ic| member.name: 'dev.tsv'\n",
      "ic| len(self.val_data): 414\n"
     ]
    },
    {
     "name": "stdout",
     "output_type": "stream",
     "text": [
      "(4370, 7671)\n",
      "(414, 7671)\n"
     ]
    }
   ],
   "source": [
    "data = Data(fname)\n",
    "data.preprocess(feat_list[\"cv_lemma\"], norm = True)\n",
    "print(data.train_x.shape)\n",
    "print(data.val_x.shape)\n",
    "# sys.exit(1)\n",
    "comp_list = [100,500, 1000, 1500, 2000, 2500, 3000, 4000, 5000]\n",
    "a2 = dimensionality_ablation(data, comp_list)"
   ]
  },
  {
   "cell_type": "code",
   "execution_count": 20,
   "id": "vulnerable-testing",
   "metadata": {},
   "outputs": [
    {
     "data": {
      "text/plain": [
       "{100: 0.28502415458937197,\n",
       " 500: 0.34057971014492755,\n",
       " 1000: 0.36231884057971014,\n",
       " 1500: 0.3647342995169082,\n",
       " 2000: 0.35990338164251207,\n",
       " 2500: 0.3647342995169082,\n",
       " 3000: 0.35990338164251207,\n",
       " 4000: 0.35990338164251207,\n",
       " 5000: 0.35990338164251207}"
      ]
     },
     "execution_count": 20,
     "metadata": {},
     "output_type": "execute_result"
    }
   ],
   "source": [
    "a2"
   ]
  },
  {
   "cell_type": "code",
   "execution_count": 21,
   "id": "revised-lyric",
   "metadata": {},
   "outputs": [
    {
     "name": "stderr",
     "output_type": "stream",
     "text": [
      "ic| '-- train data'\n",
      "ic| member.name: 'train.tsv'\n",
      "ic| len(self.train_data): 4370\n",
      "ic| '-- val data'\n",
      "ic| member.name: 'dev.tsv'\n",
      "ic| len(self.val_data): 414\n"
     ]
    },
    {
     "name": "stdout",
     "output_type": "stream",
     "text": [
      "(4370, 7671)\n",
      "(414, 7671)\n"
     ]
    }
   ],
   "source": [
    "data = Data(fname)\n",
    "data.preprocess(feat_list[\"cv_lemma\"], norm = False)\n",
    "print(data.train_x.shape)\n",
    "print(data.val_x.shape)\n",
    "# sys.exit(1)\n",
    "comp_list = [100,500, 1000, 1500, 2000, 2500, 3000, 4000, 5000]\n",
    "a2_2 = dimensionality_ablation(data, comp_list)"
   ]
  },
  {
   "cell_type": "code",
   "execution_count": 22,
   "id": "functional-sleeve",
   "metadata": {},
   "outputs": [
    {
     "data": {
      "text/plain": [
       "{100: 0.30676328502415456,\n",
       " 500: 0.38405797101449274,\n",
       " 1000: 0.4251207729468599,\n",
       " 1500: 0.42028985507246375,\n",
       " 2000: 0.42995169082125606,\n",
       " 2500: 0.4227053140096618,\n",
       " 3000: 0.4251207729468599,\n",
       " 4000: 0.4227053140096618,\n",
       " 5000: 0.4227053140096618}"
      ]
     },
     "execution_count": 22,
     "metadata": {},
     "output_type": "execute_result"
    }
   ],
   "source": [
    "a2_2"
   ]
  },
  {
   "cell_type": "markdown",
   "id": "threatened-kitchen",
   "metadata": {},
   "source": [
    "### Model ablation"
   ]
  },
  {
   "cell_type": "code",
   "execution_count": 24,
   "id": "latest-channel",
   "metadata": {},
   "outputs": [
    {
     "name": "stderr",
     "output_type": "stream",
     "text": [
      "ic| '-- train data'\n",
      "ic| member.name: 'train.tsv'\n",
      "ic| len(self.train_data): 4370\n",
      "ic| '-- val data'\n",
      "ic| member.name: 'dev.tsv'\n",
      "ic| len(self.val_data): 414\n"
     ]
    },
    {
     "name": "stdout",
     "output_type": "stream",
     "text": [
      "Solver lbfgs supports only 'l2' or 'none' penalties, got l1 penalty.\n",
      "penalty='none' is not supported for the liblinear solver\n",
      "Solver newton-cg supports only 'l2' or 'none' penalties, got l1 penalty.\n",
      "Solver sag supports only 'l2' or 'none' penalties, got l1 penalty.\n"
     ]
    }
   ],
   "source": [
    "data = Data(fname)\n",
    "data.preprocess(feat_list[\"cv_lemma\"], norm = False)\n",
    "svd = TruncatedSVD(n_components = 2000)\n",
    "data.train_x = svd.fit_transform(data.train_x)\n",
    "data.val_x = svd.transform(data.val_x)\n",
    "solvers = [\"lbfgs\", \"liblinear\", \"saga\", \"newton-cg\", \"sag\"]\n",
    "penalties = [\"l1\", \"l2\", 'none']\n",
    "a3 = solver_pen_ablation(data.train_x, data.train_y, data.val_x, data.val_y, solvers, penalties)"
   ]
  },
  {
   "cell_type": "code",
   "execution_count": 25,
   "id": "identical-desire",
   "metadata": {},
   "outputs": [
    {
     "data": {
      "text/plain": [
       "{'l1': {'lbfgs': '-',\n",
       "  'liblinear': 0.4082125603864734,\n",
       "  'saga': 0.41304347826086957,\n",
       "  'newton-cg': '-',\n",
       "  'sag': '-'},\n",
       " 'l2': {'lbfgs': 0.4227053140096618,\n",
       "  'liblinear': 0.4057971014492754,\n",
       "  'saga': 0.42028985507246375,\n",
       "  'newton-cg': 0.4227053140096618,\n",
       "  'sag': 0.4227053140096618},\n",
       " 'none': {'lbfgs': 0.3888888888888889,\n",
       "  'liblinear': '-',\n",
       "  'saga': 0.4178743961352657,\n",
       "  'newton-cg': 0.38405797101449274,\n",
       "  'sag': 0.4251207729468599}}"
      ]
     },
     "execution_count": 25,
     "metadata": {},
     "output_type": "execute_result"
    }
   ],
   "source": [
    "a3"
   ]
  },
  {
   "cell_type": "markdown",
   "id": "collectible-friendship",
   "metadata": {},
   "source": [
    "### Vocabulary Plots"
   ]
  },
  {
   "cell_type": "code",
   "execution_count": null,
   "id": "dying-payment",
   "metadata": {},
   "outputs": [],
   "source": [
    "# Without stopwords\n",
    "import matplotlib.pyplot as plt\n",
    "plt.figure(figsize=(12,8))\n",
    "plt.plot(range(len(vocabulary_sorted)), [item[1] for item in vocabulary_sorted])\n"
   ]
  },
  {
   "cell_type": "code",
   "execution_count": null,
   "id": "indie-lexington",
   "metadata": {},
   "outputs": [],
   "source": [
    "speech.count_vect = CountVectorizer(stop_words = \"english\")#, tokenizer = LemmaTokenizer())\n",
    "matrix = speech.count_vect.fit_transform(speech.train_data)\n",
    "print(matrix.shape)\n",
    "freqs = zip(speech.count_vect.get_feature_names(), matrix.sum(axis=0).tolist()[0])    \n",
    "# sort from largest to smallest\n",
    "vocabulary_sorted = sorted(freqs, key=lambda x: -x[1])\n",
    "print(type(vocabulary_sorted))"
   ]
  },
  {
   "cell_type": "code",
   "execution_count": null,
   "id": "comparative-batman",
   "metadata": {},
   "outputs": [],
   "source": [
    "from nltk.stem.wordnet import WordNetLemmatizer as lemmatizer\n",
    "lemmatizer = lemmatizer()\n",
    "voc_l = [lemmatizer.lemmatize(i[0]) for i in vocabulary_sorted]\n",
    "print(len(list(set(voc_l))))\n"
   ]
  },
  {
   "cell_type": "code",
   "execution_count": null,
   "id": "instant-elements",
   "metadata": {},
   "outputs": [],
   "source": [
    "# Without stopwords\n",
    "import matplotlib.pyplot as plt\n",
    "plt.figure(figsize=(12,8))\n",
    "plt.plot(range(len(vocabulary_sorted)), [item[1] for item in vocabulary_sorted])\n"
   ]
  },
  {
   "cell_type": "markdown",
   "id": "informal-teacher",
   "metadata": {},
   "source": [
    "## Unsupervised experiments"
   ]
  },
  {
   "cell_type": "markdown",
   "id": "valued-loading",
   "metadata": {},
   "source": [
    "### Vectorize input in preparation for Word2Vec"
   ]
  },
  {
   "cell_type": "code",
   "execution_count": 3,
   "id": "jewish-senior",
   "metadata": {},
   "outputs": [],
   "source": [
    "data = read_unlabeled(\"data/\" + \n",
    "                      fname, None)"
   ]
  },
  {
   "cell_type": "code",
   "execution_count": 7,
   "id": "urban-bloom",
   "metadata": {},
   "outputs": [
    {
     "name": "stdout",
     "output_type": "stream",
     "text": [
      "43342\n",
      "b'must always seek to protect our national security by aggressively gathering intelligence in accordance with proven methods. Yet we cannot'\n"
     ]
    }
   ],
   "source": [
    "print(len(data.data))\n",
    "# print(data.data[0])"
   ]
  },
  {
   "cell_type": "code",
   "execution_count": 29,
   "id": "retired-handling",
   "metadata": {},
   "outputs": [],
   "source": [
    "tokenizer = CountVectorizer(stop_words = \"english\",\n",
    "                            tokenizer = SamsTokenizer(),\n",
    "                           )\n",
    "                            \n",
    "def sentence_parser(sentences,tokenizer):\n",
    "    res_sentences = []\n",
    "    \n",
    "    for s in tqdm(sentences):\n",
    "        res_sentences.append(tokenizer(s.decode('utf-8')))\n",
    "    return res_sentences\n",
    "    "
   ]
  },
  {
   "cell_type": "code",
   "execution_count": 48,
   "id": "motivated-turtle",
   "metadata": {},
   "outputs": [
    {
     "name": "stderr",
     "output_type": "stream",
     "text": [
      "100%|██████████| 43342/43342 [00:04<00:00, 9038.55it/s]\n"
     ]
    }
   ],
   "source": [
    "data.parsed_unlabeled_data = sentence_parser(data.data, \n",
    "                                SamsTokenizer, WordNetLemmatizer())"
   ]
  },
  {
   "cell_type": "code",
   "execution_count": 46,
   "id": "white-samoa",
   "metadata": {},
   "outputs": [
    {
     "name": "stderr",
     "output_type": "stream",
     "text": [
      "ic| '-- train data'\n",
      "ic| member.name: 'train.tsv'\n",
      "ic| len(self.train_data): 4370\n",
      "ic| '-- val data'\n",
      "ic| member.name: 'dev.tsv'\n",
      "ic| len(self.val_data): 414\n",
      "100%|██████████| 4370/4370 [00:00<00:00, 10393.85it/s]\n"
     ]
    }
   ],
   "source": [
    "labeled_data = Data(fname)\n",
    "data.parsed_labeled_data = sentence_parser(labeled_data.train_data, \n",
    "                                           tokenizer, \n",
    "                                           WordNetLemmatizer())\n",
    "                                           "
   ]
  },
  {
   "cell_type": "code",
   "execution_count": 100,
   "id": "naughty-avatar",
   "metadata": {},
   "outputs": [],
   "source": [
    "data.full_parsed_data = data.parsed_labeled_data + data.parsed_unlabeled_data"
   ]
  },
  {
   "cell_type": "markdown",
   "id": "junior-tyler",
   "metadata": {},
   "source": [
    "### Make embedding models"
   ]
  },
  {
   "cell_type": "code",
   "execution_count": 36,
   "id": "meaningful-springfield",
   "metadata": {},
   "outputs": [],
   "source": [
    "from gensim.models import Word2Vec\n",
    "\n",
    "# for i in range(1,10):\n",
    "#     l = len(data.parsed_unlabeled_data)\n",
    "#     data.full_parsed_data = data.parsed_labeled_data +\\\n",
    "#     data.parsed_unlabeled_data[:(l//10)*i]\n",
    "#     print(len(data.full_parsed_data))\n",
    "#     model = Word2Vec(sentences=data.full_parsed_data,\n",
    "#                  size=100,\n",
    "#                  window=5,\n",
    "#                  min_count=1, workers=1)\n",
    "#     model.save(\"models/word2vec_\" + str(i*10) + \"ul.model\")\n",
    "\n",
    "# model =  Word2Vec(sentences=data.full_parsed_data,\n",
    "#                  size=100,\n",
    "#                  window=5,\n",
    "#                  min_count=1, workers=10)\n",
    "\n",
    "model = Word2Vec.load('models/word2vec_100ul.model')"
   ]
  },
  {
   "cell_type": "markdown",
   "id": "cellular-student",
   "metadata": {},
   "source": [
    "### Visualize Embeddings"
   ]
  },
  {
   "cell_type": "code",
   "execution_count": 123,
   "id": "colonial-investing",
   "metadata": {},
   "outputs": [
    {
     "name": "stderr",
     "output_type": "stream",
     "text": [
      "<ipython-input-123-e2326fb03f62>:5: DeprecationWarning: Call to deprecated `__getitem__` (Method will be removed in 4.0.0, use self.wv.__getitem__() instead).\n",
      "  embeddings = [model[i] for i in test]\n"
     ]
    }
   ],
   "source": [
    "test = ['health', 'care', 'healthcare', 'war', 'soldier', 'afghanistan',\n",
    "        'iraq','gun','bear', 'clinton','mccain', 'terrorism', 'control',\n",
    "        'obama','fighting','budget','money', 'deficit', 'candidate']\n",
    "\n",
    "embeddings = [model[i] for i in test]\n",
    "\n",
    "from sklearn.decomposition import PCA\n",
    "pca = PCA(n_components = 2)\n",
    "\n",
    "res = pca.fit_transform(embeddings)"
   ]
  },
  {
   "cell_type": "code",
   "execution_count": 124,
   "id": "partial-jones",
   "metadata": {},
   "outputs": [
    {
     "name": "stdout",
     "output_type": "stream",
     "text": [
      "(19,) (19,)\n"
     ]
    },
    {
     "data": {
      "image/png": "[encoded data removed]",
      "text/plain": [
       "<Figure size 864x576 with 1 Axes>"
      ]
     },
     "metadata": {
      "needs_background": "light"
     },
     "output_type": "display_data"
    }
   ],
   "source": [
    "import matplotlib.pyplot as plt\n",
    "plt.figure(figsize =(12,8))\n",
    "print(res[:,0].shape, res[:,1].shape)\n",
    "plt.scatter(res[:,0].flatten(),res[:,1].flatten())\n",
    "for i, text in enumerate(test):\n",
    "    plt.annotate(text, (res[i,0],res[i,1]))"
   ]
  },
  {
   "cell_type": "markdown",
   "id": "stuck-collector",
   "metadata": {},
   "source": [
    "### Run experiment with Word2Vec"
   ]
  },
  {
   "cell_type": "code",
   "execution_count": 42,
   "id": "married-folks",
   "metadata": {},
   "outputs": [],
   "source": [
    "from unsupervised_experiments import *"
   ]
  },
  {
   "cell_type": "code",
   "execution_count": 57,
   "id": "municipal-retirement",
   "metadata": {},
   "outputs": [
    {
     "data": {
      "text/plain": [
       "['word2vec_10ul.model',\n",
       " 'word2vec_20ul.model',\n",
       " 'word2vec_30ul.model',\n",
       " 'word2vec_40ul.model',\n",
       " 'word2vec_50ul.model',\n",
       " 'word2vec_60ul.model',\n",
       " 'word2vec_70ul.model',\n",
       " 'word2vec_80ul.model',\n",
       " 'word2vec_90ul.model',\n",
       " 'word2vec_100ul.model']"
      ]
     },
     "execution_count": 57,
     "metadata": {},
     "output_type": "execute_result"
    }
   ],
   "source": [
    "models = ['word2vec_{}ul.model'.format(i*10) for i in range(1,11)]\n",
    "models"
   ]
  },
  {
   "cell_type": "code",
   "execution_count": null,
   "id": "located-freedom",
   "metadata": {},
   "outputs": [
    {
     "name": "stderr",
     "output_type": "stream",
     "text": [
      "ic| '-- train data'\n",
      "ic| member.name: 'train.tsv'\n"
     ]
    }
   ],
   "source": [
    "w2v_ablation(models, fname, LogisticRegression)"
   ]
  },
  {
   "cell_type": "code",
   "execution_count": null,
   "id": "twenty-daughter",
   "metadata": {},
   "outputs": [],
   "source": []
  }
 ],
 "metadata": {
  "kernelspec": {
   "display_name": "nlp_env",
   "language": "python",
   "name": "nlpenv"
  },
  "language_info": {
   "codemirror_mode": {
    "name": "ipython",
    "version": 3
   },
   "file_extension": ".py",
   "mimetype": "text/x-python",
   "name": "python",
   "nbconvert_exporter": "python",
   "pygments_lexer": "ipython3",
   "version": "3.8.8"
  }
 },
 "nbformat": 4,
 "nbformat_minor": 5
}

{
 "cells": [
  {
   "cell_type": "markdown",
   "id": "federal-pathology",
   "metadata": {},
   "source": [
    "# Experimentation for nlp hw1"
   ]
  },
  {
   "cell_type": "code",
   "execution_count": 1,
   "id": "fitting-actress",
   "metadata": {},
   "outputs": [],
   "source": [
    "%load_ext autoreload\n",
    "%autoreload 2\n",
    "from preprocessing import *\n",
    "from speech import *\n",
    "import numpy as np\n",
    "from tqdm import tqdm\n",
    "from supervised_experiments import *\n",
    "from unsupervised_experiments import *\n",
    "from sklearn.feature_extraction.text import CountVectorizer, TfidfVectorizer\n",
    "import warnings\n",
    "warnings.filterwarnings(\"ignore\")\n",
    "fname = \"speech.tar.gz\""
   ]
  },
  {
   "cell_type": "markdown",
   "id": "under-manufacturer",
   "metadata": {},
   "source": [
    "### General submission code - Supervised"
   ]
  },
  {
   "cell_type": "code",
   "execution_count": 5,
   "id": "fewer-abraham",
   "metadata": {},
   "outputs": [
    {
     "name": "stderr",
     "output_type": "stream",
     "text": [
      "ic| '-- train data'\n",
      "ic| member.name: 'train.tsv'\n",
      "ic| len(self.train_data): 4370\n",
      "ic| '-- val data'\n",
      "ic| member.name: 'dev.tsv'\n",
      "ic| len(self.val_data): 414\n",
      "ic| val_acc: 0.4420289855072464\n"
     ]
    },
    {
     "data": {
      "text/plain": [
       "0.4420289855072464"
      ]
     },
     "execution_count": 5,
     "metadata": {},
     "output_type": "execute_result"
    }
   ],
   "source": [
    "data = Data(fname)\n",
    "data.preprocess(feat_list['cv_nltk_lemma'],\n",
    "                svd = TruncatedSVD(n_components = 2500))\n",
    "clf = LogisticRegression(solver = \"lbfgs\", penalty = 'l2')\n",
    "clf.fit(data.train_x, data.train_y)\n",
    "\n",
    "# Train performance\n",
    "preds = clf.predict(data.val_x)\n",
    "train_acc = accuracy_score(clf.predict(data.train_x), data.train_y)\n",
    "\n",
    "#Val performance\n",
    "val_acc =  accuracy_score(data.val_y, preds)\n",
    "ic(val_acc)\n",
    "\n",
    "\n",
    "# ic(\"Reading unlabeled data\")\n",
    "# unlabeled = read_unlabeled(\"data/\" + fname, data, preprocess = True)\n",
    "# print(\"Writing pred file\")\n",
    "# write_pred_kaggle_file(unlabeled, clf, \"speech-pred.csv\", data)\n"
   ]
  },
  {
   "cell_type": "markdown",
   "id": "invalid-birmingham",
   "metadata": {},
   "source": [
    "### General submission code - Semi-supervised"
   ]
  },
  {
   "cell_type": "code",
   "execution_count": 8,
   "id": "concerned-highlight",
   "metadata": {},
   "outputs": [
    {
     "name": "stderr",
     "output_type": "stream",
     "text": [
      "ic| '-- train data'\n",
      "ic| member.name: 'train.tsv'\n",
      "ic| len(self.train_data): 4370\n",
      "ic| '-- val data'\n",
      "ic| member.name: 'dev.tsv'\n",
      "ic| len(self.val_data): 414\n",
      "ic| val_acc: 0.45652173913043476\n"
     ]
    },
    {
     "data": {
      "text/plain": [
       "0.45652173913043476"
      ]
     },
     "execution_count": 8,
     "metadata": {},
     "output_type": "execute_result"
    }
   ],
   "source": [
    "model = 'word2vec_60ul.model'\n",
    "data_ssup = Data(fname)\n",
    "data_ssup.preprocess(feat_list['cv_nltk_lemma'],\n",
    "                svd = TruncatedSVD(n_components = 2500))\n",
    "clf = LogisticRegression(solver = \"lbfgs\", penalty = 'l2')\n",
    "model = Word2Vec.load(\"models/\" + model)\n",
    "w2v = W2V_Vectorizer(model)\n",
    "data_ssup.train_x_unlabeled = np.array(w2v_build_dataset(w2v,SamsTokenizer(), data_ssup.train_data))\n",
    "data_ssup.val_x_unlabeled = np.array(w2v_build_dataset(w2v, SamsTokenizer(), data_ssup.val_data))\n",
    "\n",
    "data_ssup.train_x_final = np.hstack((data_ssup.train_x, data_ssup.train_x_unlabeled))\n",
    "data_ssup.val_x_final = np.hstack((data_ssup.val_x, data_ssup.val_x_unlabeled))\n",
    "clf.fit(data_ssup.train_x_final, data_ssup.train_y)\n",
    "\n",
    "# Train performance\n",
    "preds_ssup = clf.predict(data_ssup.val_x_final)\n",
    "train_acc = accuracy_score(clf.predict(data_ssup.train_x_final), data_ssup.train_y)\n",
    "\n",
    "#Val performance\n",
    "val_acc =  accuracy_score(data_ssup.val_y, preds_ssup)\n",
    "ic(val_acc)\n",
    "\n",
    "# ic(\"Reading unlabeled data\")\n",
    "# unlabeled = read_unlabeled_w2v(\"data/\" + fname, data_ssup, W2V_Vectorizer(model))\n",
    "# print(\"Writing pred file\")\n",
    "# write_pred_kaggle_file(unlabeled, clf, \"speech-pred-unlabeled.csv\", data_ssup)"
   ]
  },
  {
   "cell_type": "markdown",
   "id": "british-ghost",
   "metadata": {},
   "source": [
    "### Exploration of where unlabeled data helped in validation set"
   ]
  },
  {
   "cell_type": "code",
   "execution_count": 9,
   "id": "funded-champion",
   "metadata": {},
   "outputs": [],
   "source": [
    "# Examples where unlabeled data hurt\n",
    "labeled_better = (preds == data.val_y) & (preds_ssup != data_ssup.val_y) \n",
    "\n",
    "# Examples where unlabeled data hurt\n",
    "unlabeled_better = (preds != data.val_y) & (preds_ssup == data_ssup.val_y) "
   ]
  },
  {
   "cell_type": "code",
   "execution_count": 19,
   "id": "essential-smile",
   "metadata": {},
   "outputs": [
    {
     "data": {
      "text/plain": [
       "dict_keys(['featurization', 'norm', 'count_vect', 'le', 'svd', 'filename', 'train_data', 'train_fnames', 'train_labels', 'val_data', 'val_fnames', 'val_labels', 'train_x', 'val_x', 'target_labels', 'train_y', 'val_y'])"
      ]
     },
     "execution_count": 19,
     "metadata": {},
     "output_type": "execute_result"
    }
   ],
   "source": [
    "data.__dict__.keys()"
   ]
  },
  {
   "cell_type": "code",
   "execution_count": 11,
   "id": "removed-heath",
   "metadata": {},
   "outputs": [
    {
     "data": {
      "text/plain": [
       "array([[ 30],\n",
       "       [ 33],\n",
       "       [ 58],\n",
       "       [183],\n",
       "       [186],\n",
       "       [285],\n",
       "       [373],\n",
       "       [393]])"
      ]
     },
     "execution_count": 11,
     "metadata": {},
     "output_type": "execute_result"
    }
   ],
   "source": [
    "np.argwhere(labeled_better == 1)"
   ]
  },
  {
   "cell_type": "code",
   "execution_count": 61,
   "id": "enabling-astronomy",
   "metadata": {},
   "outputs": [
    {
     "name": "stdout",
     "output_type": "stream",
     "text": [
      "b'come out of their comatose \"Re-elect Obama\" stance and ask the following question: How does the president think we discovered the natural' ['GINGRICH_PRIMARY2012'] ['CLINTON_PRIMARY2008'] ['GINGRICH_PRIMARY2012']\n"
     ]
    }
   ],
   "source": [
    "idx = 186\n",
    "print(data.val_data[idx], data.le.inverse_transform([preds[idx]]), \n",
    "                        data.le.inverse_transform([preds_ssup[idx]]), \n",
    "                        data.le.inverse_transform([data.val_y[idx]]))"
   ]
  },
  {
   "cell_type": "code",
   "execution_count": 12,
   "id": "opened-mattress",
   "metadata": {},
   "outputs": [
    {
     "data": {
      "text/plain": [
       "array([[  5],\n",
       "       [ 11],\n",
       "       [ 36],\n",
       "       [ 65],\n",
       "       [ 83],\n",
       "       [ 85],\n",
       "       [116],\n",
       "       [142],\n",
       "       [160],\n",
       "       [182],\n",
       "       [197],\n",
       "       [248],\n",
       "       [327],\n",
       "       [388]])"
      ]
     },
     "execution_count": 12,
     "metadata": {},
     "output_type": "execute_result"
    }
   ],
   "source": [
    "np.argwhere(unlabeled_better == 1)"
   ]
  },
  {
   "cell_type": "code",
   "execution_count": 70,
   "id": "julian-nurse",
   "metadata": {},
   "outputs": [
    {
     "name": "stdout",
     "output_type": "stream",
     "text": [
      "b\"leadership of the Pennsylvania AFL-CIO is legendary. When Bill asks what time is it, we all know the answer: it's union time. Because\" ['OBAMA_PRIMARY2008'] ['CLINTON_PRIMARY2008'] ['CLINTON_PRIMARY2008']\n",
      "3\n",
      "10\n"
     ]
    }
   ],
   "source": [
    "idx = 5\n",
    "print(data.val_data[idx], data.le.inverse_transform([preds[idx]]), \n",
    "                        data.le.inverse_transform([preds_ssup[idx]]), \n",
    "                        data.le.inverse_transform([data.val_y[idx]]))\n",
    "print(preds_ssup[idx])\n",
    "print(preds[idx])"
   ]
  },
  {
   "cell_type": "markdown",
   "id": "pediatric-numbers",
   "metadata": {},
   "source": [
    "### Plotting embeddings with PCA for each candidate"
   ]
  },
  {
   "cell_type": "code",
   "execution_count": 66,
   "id": "premier-paris",
   "metadata": {},
   "outputs": [],
   "source": [
    "from sklearn.decomposition import PCA\n",
    "import matplotlib.pyplot as plt\n",
    "pca = PCA(n_components = 2)\n",
    "embeddings = data_ssup.val_x_final\n",
    "res = pca.fit_transform(embeddings)"
   ]
  },
  {
   "cell_type": "code",
   "execution_count": 78,
   "id": "documented-nightlife",
   "metadata": {},
   "outputs": [
    {
     "data": {
      "text/plain": [
       "<matplotlib.legend.Legend at 0x7fdfc1954fa0>"
      ]
     },
     "execution_count": 78,
     "metadata": {},
     "output_type": "execute_result"
    },
    {
     "data": {
      "image/png": "[encoded data removed]",
      "text/plain": [
       "<Figure size 432x288 with 1 Axes>"
      ]
     },
     "metadata": {
      "needs_background": "light"
     },
     "output_type": "display_data"
    }
   ],
   "source": [
    "for i in list([3,10]):\n",
    "    plt.scatter(res[preds_ssup == i,0], res[preds_ssup == i,1],label = data.le.inverse_transform([i])[0])\n",
    "\n",
    "plt.legend()"
   ]
  },
  {
   "cell_type": "code",
   "execution_count": 96,
   "id": "located-singapore",
   "metadata": {},
   "outputs": [],
   "source": [
    "ob = list(zip(*model.wv.most_similar('obama', topn = 100)))[0]"
   ]
  },
  {
   "cell_type": "code",
   "execution_count": 95,
   "id": "thorough-humanitarian",
   "metadata": {},
   "outputs": [],
   "source": [
    "clin = list(zip(*model.wv.most_similar('clinton', topn = 100)))[0]"
   ]
  },
  {
   "cell_type": "code",
   "execution_count": 102,
   "id": "included-verse",
   "metadata": {},
   "outputs": [
    {
     "name": "stdout",
     "output_type": "stream",
     "text": [
      "51\n"
     ]
    },
    {
     "data": {
      "text/plain": [
       "['freedom.president',\n",
       " 'november.john',\n",
       " 'tony',\n",
       " 'reportedly',\n",
       " 're-introduced',\n",
       " 'trickle-down',\n",
       " 'bush.john',\n",
       " 'scowcroft',\n",
       " 'politico',\n",
       " 'foreigner',\n",
       " 'judges.',\n",
       " 'clinton',\n",
       " 'reagan',\n",
       " 'presidential',\n",
       " 'elected',\n",
       " 'multiplying',\n",
       " '“',\n",
       " 'eyesight',\n",
       " 'bachmann',\n",
       " 'ronald']"
      ]
     },
     "execution_count": 102,
     "metadata": {},
     "output_type": "execute_result"
    }
   ],
   "source": [
    "obama_special = list(set(ob) - set(clin))\n",
    "# print(len(obama_special))\n",
    "obama_special[:20]"
   ]
  },
  {
   "cell_type": "code",
   "execution_count": 103,
   "id": "embedded-strain",
   "metadata": {},
   "outputs": [
    {
     "name": "stdout",
     "output_type": "stream",
     "text": [
      "51\n"
     ]
    },
    {
     "data": {
      "text/plain": [
       "['bob',\n",
       " 'congratulate',\n",
       " 'newsday',\n",
       " 'thompson',\n",
       " 'bubba',\n",
       " 'mayor',\n",
       " 'chants',\n",
       " 'interrupted',\n",
       " 'suggesting',\n",
       " 'mike',\n",
       " 'applause',\n",
       " '1991',\n",
       " 'dr.',\n",
       " 'unintelligible',\n",
       " '...',\n",
       " 'tim',\n",
       " 'disenfranchised',\n",
       " 'off-mike',\n",
       " 'obama',\n",
       " 'teleprompter']"
      ]
     },
     "execution_count": 103,
     "metadata": {},
     "output_type": "execute_result"
    }
   ],
   "source": [
    "clinton_special = list(set(clin) - set(ob))\n",
    "clinton_special[:20]"
   ]
  },
  {
   "cell_type": "markdown",
   "id": "attended-upgrade",
   "metadata": {},
   "source": [
    "## Supervised Experiments"
   ]
  },
  {
   "cell_type": "markdown",
   "id": "accurate-burner",
   "metadata": {},
   "source": [
    "### Initial exploration"
   ]
  },
  {
   "cell_type": "code",
   "execution_count": 38,
   "id": "center-thirty",
   "metadata": {},
   "outputs": [
    {
     "name": "stderr",
     "output_type": "stream",
     "text": [
      "ic| '-- train data'\n",
      "ic| member.name: 'train.tsv'\n",
      "ic| len(self.train_data): 4370\n",
      "ic| '-- val data'\n",
      "ic| member.name: 'dev.tsv'\n",
      "ic| len(self.val_data): 414\n"
     ]
    }
   ],
   "source": [
    "fname = \"speech.tar.gz\"\n",
    "preprocessors = [\n",
    "    CountVectorizer(lowercase = False, tokenizer = SamsTokenizer(punct = True,lower = False)),\n",
    "    CountVectorizer(tokenizer = SamsTokenizer(punct = True)),\n",
    "    CountVectorizer(tokenizer = SamsTokenizer()),\n",
    "    CountVectorizer(stop_words=\"english\", tokenizer = SamsTokenizer()),\n",
    "    CountVectorizer(stop_words=\"english\", tokenizer = SamsTokenizer(), min_df = 2),\n",
    "    CountVectorizer(stop_words=\"english\", tokenizer = SamsTokenizer(), min_df = 3),\n",
    "    CountVectorizer(stop_words=\"english\", tokenizer = SamsTokenizer(), min_df = 4),\n",
    "    CountVectorizer(stop_words=\"english\", tokenizer = SamsTokenizer(), min_df = 5),\n",
    "    CountVectorizer(stop_words=\"english\", tokenizer = SamsTokenizer(), min_df = 6),\n",
    "    CountVectorizer(stop_words=\"english\", tokenizer = SamsTokenizer(), min_df = 7),\n",
    "    CountVectorizer(stop_words=\"english\", tokenizer = SamsTokenizer(), min_df = 8),\n",
    "    CountVectorizer(stop_words=\"english\", tokenizer = SamsTokenizer(), min_df = 9),\n",
    "    CountVectorizer(stop_words=\"english\", tokenizer = SamsTokenizer(), min_df = 10),\n",
    "]\n",
    "\n",
    "d = dimensionality_exploration(fname, preprocessors)"
   ]
  },
  {
   "cell_type": "code",
   "execution_count": 39,
   "id": "frozen-concentrate",
   "metadata": {},
   "outputs": [
    {
     "data": {
      "text/plain": [
       "[7878, 7028, 7028, 6762, 3602, 2561, 1996, 1653, 1412, 1245, 1124, 996, 890]"
      ]
     },
     "execution_count": 39,
     "metadata": {},
     "output_type": "execute_result"
    }
   ],
   "source": [
    "# d => [7878, 7414, 7028, 6762, 3602, 2561, 1996, 1653, 1412, 1245, 1124, 996, 890]"
   ]
  },
  {
   "cell_type": "code",
   "execution_count": 79,
   "id": "synthetic-disco",
   "metadata": {},
   "outputs": [
    {
     "data": {
      "text/plain": [
       "([<matplotlib.axis.XTick at 0x7ff7c38c0f40>,\n",
       "  <matplotlib.axis.XTick at 0x7ff7c38c0f10>,\n",
       "  <matplotlib.axis.XTick at 0x7ff7c38c05e0>,\n",
       "  <matplotlib.axis.XTick at 0x7ff7c5b4ecd0>,\n",
       "  <matplotlib.axis.XTick at 0x7ff7c5b5bc70>,\n",
       "  <matplotlib.axis.XTick at 0x7ff7c5b5b310>,\n",
       "  <matplotlib.axis.XTick at 0x7ff7c5c17400>,\n",
       "  <matplotlib.axis.XTick at 0x7ff7c5c17d60>,\n",
       "  <matplotlib.axis.XTick at 0x7ff7c5d240d0>,\n",
       "  <matplotlib.axis.XTick at 0x7ff7c5d24520>,\n",
       "  <matplotlib.axis.XTick at 0x7ff7c5d03d00>,\n",
       "  <matplotlib.axis.XTick at 0x7ff7c5d24280>,\n",
       "  <matplotlib.axis.XTick at 0x7ff7c5b5b520>],\n",
       " [Text(0, 0, 'regex-\\nsep'),\n",
       "  Text(1, 0, 'case'),\n",
       "  Text(2, 0, 'punct'),\n",
       "  Text(3, 0, 'stopW +\\nlemma'),\n",
       "  Text(4, 0, 'min_df\\n=2'),\n",
       "  Text(5, 0, 'min_df\\n=3'),\n",
       "  Text(6, 0, 'min_df\\n=4'),\n",
       "  Text(7, 0, 'min_df\\n=5'),\n",
       "  Text(8, 0, 'min_df\\n=6'),\n",
       "  Text(9, 0, 'min_df\\n=7'),\n",
       "  Text(10, 0, 'min_df\\n=8'),\n",
       "  Text(11, 0, 'min_df\\n=9'),\n",
       "  Text(12, 0, 'min_df\\n=10')])"
      ]
     },
     "execution_count": 79,
     "metadata": {},
     "output_type": "execute_result"
    },
    {
     "data": {
      "image/png": "[encoded data removed]",
      "text/plain": [
       "<Figure size 864x576 with 1 Axes>"
      ]
     },
     "metadata": {
      "needs_background": "light"
     },
     "output_type": "display_data"
    }
   ],
   "source": [
    "dim = [7878, 7414, 7028, 6762, 3602, 2561, 1996, 1653, 1412, 1245, 1124, 996, 890]\n",
    "fig, ax = plt.subplots(figsize = (12,8))\n",
    "plt.plot(range(len(dim)), dim)\n",
    "labels = ['regex-\\nsep', 'case','punct','stopW +\\nlemma','min_df\\n=2','min_df\\n=3','min_df\\n=4','min_df\\n=5','min_df\\n=6','min_df\\n=7','min_df\\n=8','min_df\\n=9','min_df\\n=10']\n",
    "plt.xticks(range(len(dim)), labels, fontsize = 12)"
   ]
  },
  {
   "cell_type": "markdown",
   "id": "cardiovascular-arrangement",
   "metadata": {},
   "source": [
    "### Feature ablation"
   ]
  },
  {
   "cell_type": "code",
   "execution_count": 4,
   "id": "editorial-bearing",
   "metadata": {},
   "outputs": [],
   "source": [
    "fname = \"speech.tar.gz\"\n",
    "\n",
    "feat_list = {\n",
    "    #CountVectorization\n",
    "    \"cv_nltk_case_punct\":CountVectorizer(tokenizer = SamsTokenizer(tokenizer = \"nltk\", lower = False, punct = True, lemma = False)),\n",
    "    \"cv_cv_case_punct\":CountVectorizer(tokenizer = SamsTokenizer(tokenizer = \"cv\", lower = False, punct = True, lemma = False)),\n",
    "    \"cv_nltk\":CountVectorizer(tokenizer = SamsTokenizer(tokenizer = 'nltk', lemma = False)),\n",
    "    \"cv_cv\": CountVectorizer(tokenizer = SamsTokenizer(lemma = False)),\n",
    "    \"cv_nltk_lemma\":CountVectorizer(tokenizer = SamsTokenizer(tokenizer = 'nltk', lemma = True)),\n",
    "    \"cv_cv_lemma\": CountVectorizer(tokenizer = SamsTokenizer(lemma = True)),\n",
    "    \"cv_nltk_lemma_stopw\": CountVectorizer(stop_words = \"english\", tokenizer = SamsTokenizer(tokenizer = \"nltk\")),\n",
    "    \"cv_cv_lemma_stopw\": CountVectorizer(stop_words = \"english\", tokenizer = SamsTokenizer(tokenizer = \"cv\")),\n",
    "\n",
    "    #Tfidf vectorization\n",
    "    \"tfidf_nltk_case_punct\":TfidfVectorizer(tokenizer = SamsTokenizer(tokenizer = \"nltk\", lower = False, punct = True, lemma = False)),\n",
    "    \"tfidf_cv_case_punct\":TfidfVectorizer(tokenizer = SamsTokenizer(tokenizer = \"cv\", lower = False, punct = True, lemma = False)),\n",
    "    \"tfidf_nltk\":TfidfVectorizer(tokenizer = SamsTokenizer(tokenizer = 'nltk', lemma = False)),\n",
    "    \"tfidf_cv\": TfidfVectorizer(tokenizer = SamsTokenizer(lemma = False)),\n",
    "    \"tfidf_nltk_lemma\":TfidfVectorizer(tokenizer = SamsTokenizer(tokenizer = 'nltk', lemma = True)),\n",
    "    \"tfidf_cv_lemma\": TfidfVectorizer(tokenizer = SamsTokenizer(lemma = True)),\n",
    "    \"tfidf_nltk_lemma_stopw\": TfidfVectorizer(stop_words = \"english\", tokenizer = SamsTokenizer(tokenizer = \"nltk\")),\n",
    "    \"tfidf_cv_lemma_stopw\": TfidfVectorizer(stop_words = \"english\", tokenizer = SamsTokenizer(tokenizer = \"cv\")),\n",
    "}"
   ]
  },
  {
   "cell_type": "code",
   "execution_count": null,
   "id": "wired-presentation",
   "metadata": {},
   "outputs": [],
   "source": [
    "a1 = feature_ablation(fname, feat_list)"
   ]
  },
  {
   "cell_type": "code",
   "execution_count": 6,
   "id": "liquid-brain",
   "metadata": {},
   "outputs": [
    {
     "data": {
      "text/plain": [
       "{'cv_case_punct_nltk': 0.43719806763285024,\n",
       " 'cv_case_punct_cv': 0.3961352657004831,\n",
       " 'cv_nltk': 0.43478260869565216,\n",
       " 'cv_cv': 0.41304347826086957,\n",
       " 'cv_nltk_lemma': 0.43478260869565216,\n",
       " 'cv_cv_lemma': 0.41304347826086957,\n",
       " 'cv_nltk_lemma_stopw': 0.40096618357487923,\n",
       " 'cv_cv_lemma_stopw': 0.39855072463768115,\n",
       " 'tfidf_case_punct_nltk': 0.38164251207729466,\n",
       " 'tfidf_case_punct_cv': 0.35990338164251207,\n",
       " 'tfidf_nltk': 0.38164251207729466,\n",
       " 'tfidf_cv': 0.3743961352657005,\n",
       " 'tfidf_nltk_lemma': 0.38164251207729466,\n",
       " 'tfidf_cv_lemma': 0.3743961352657005,\n",
       " 'tfidf_nltk_lemma_stopw': 0.3864734299516908,\n",
       " 'tfidf_cv_lemma_stopw': 0.38164251207729466}"
      ]
     },
     "execution_count": 6,
     "metadata": {},
     "output_type": "execute_result"
    }
   ],
   "source": [
    "a1"
   ]
  },
  {
   "cell_type": "markdown",
   "id": "medical-joseph",
   "metadata": {},
   "source": [
    "### Dimensionality Ablation"
   ]
  },
  {
   "cell_type": "code",
   "execution_count": 15,
   "id": "danish-brazil",
   "metadata": {},
   "outputs": [
    {
     "name": "stderr",
     "output_type": "stream",
     "text": [
      "ic| '-- train data'\n",
      "ic| member.name: 'train.tsv'\n",
      "ic| len(self.train_data): 4370\n",
      "ic| '-- val data'\n",
      "ic| member.name: 'dev.tsv'\n",
      "ic| len(self.val_data): 414\n"
     ]
    },
    {
     "name": "stdout",
     "output_type": "stream",
     "text": [
      "(4370, 7689)\n",
      "(414, 7689)\n"
     ]
    }
   ],
   "source": [
    "data = Data(fname)\n",
    "data.preprocess(feat_list[\"cv_nltk_lemma\"], norm = True)\n",
    "print(data.train_x.shape)\n",
    "print(data.val_x.shape)\n",
    "# sys.exit(1)\n",
    "comp_list = [100,500, 1000, 1500, 2000, 2500, 3000, 4000, 5000]\n",
    "a2 = dimensionality_ablation(data, comp_list)"
   ]
  },
  {
   "cell_type": "code",
   "execution_count": 16,
   "id": "authentic-separation",
   "metadata": {},
   "outputs": [
    {
     "data": {
      "text/plain": [
       "{100: 0.2826086956521739,\n",
       " 500: 0.32367149758454106,\n",
       " 1000: 0.3309178743961353,\n",
       " 1500: 0.33816425120772947,\n",
       " 2000: 0.33816425120772947,\n",
       " 2500: 0.34057971014492755,\n",
       " 3000: 0.33816425120772947,\n",
       " 4000: 0.34057971014492755,\n",
       " 5000: 0.33816425120772947}"
      ]
     },
     "execution_count": 16,
     "metadata": {},
     "output_type": "execute_result"
    }
   ],
   "source": [
    "a2"
   ]
  },
  {
   "cell_type": "code",
   "execution_count": 17,
   "id": "improved-positive",
   "metadata": {},
   "outputs": [
    {
     "name": "stderr",
     "output_type": "stream",
     "text": [
      "ic| '-- train data'\n",
      "ic| member.name: 'train.tsv'\n",
      "ic| len(self.train_data): 4370\n",
      "ic| '-- val data'\n",
      "ic| member.name: 'dev.tsv'\n",
      "ic| len(self.val_data): 414\n"
     ]
    },
    {
     "name": "stdout",
     "output_type": "stream",
     "text": [
      "(4370, 7689)\n",
      "(414, 7689)\n"
     ]
    }
   ],
   "source": [
    "data = Data(fname)\n",
    "data.preprocess(feat_list[\"cv_nltk_lemma\"], norm = False)\n",
    "print(data.train_x.shape)\n",
    "print(data.val_x.shape)\n",
    "# sys.exit(1)\n",
    "comp_list = [100,500, 1000, 1500, 2000, 2500, 3000, 4000, 5000]\n",
    "a2_2 = dimensionality_ablation(data, comp_list)"
   ]
  },
  {
   "cell_type": "code",
   "execution_count": 18,
   "id": "blocked-beads",
   "metadata": {},
   "outputs": [
    {
     "data": {
      "text/plain": [
       "{100: 0.2971014492753623,\n",
       " 500: 0.38405797101449274,\n",
       " 1000: 0.4227053140096618,\n",
       " 1500: 0.42995169082125606,\n",
       " 2000: 0.43478260869565216,\n",
       " 2500: 0.43719806763285024,\n",
       " 3000: 0.4323671497584541,\n",
       " 4000: 0.43719806763285024,\n",
       " 5000: 0.43719806763285024}"
      ]
     },
     "execution_count": 18,
     "metadata": {},
     "output_type": "execute_result"
    }
   ],
   "source": [
    "a2_2"
   ]
  },
  {
   "cell_type": "code",
   "execution_count": 67,
   "id": "broken-function",
   "metadata": {},
   "outputs": [],
   "source": [
    "a2 = {100: 0.2826086956521739,\n",
    " 500: 0.32367149758454106,\n",
    " 1000: 0.3309178743961353,\n",
    " 1500: 0.33816425120772947,\n",
    " 2000: 0.33816425120772947,\n",
    " 2500: 0.34057971014492755,\n",
    " 3000: 0.33816425120772947,\n",
    " 4000: 0.34057971014492755,\n",
    " 5000: 0.33816425120772947}\n",
    "\n",
    "a2_2 = {100: 0.2971014492753623,\n",
    " 500: 0.38405797101449274,\n",
    " 1000: 0.4227053140096618,\n",
    " 1500: 0.42995169082125606,\n",
    " 2000: 0.43478260869565216,\n",
    " 2500: 0.43719806763285024,\n",
    " 3000: 0.4323671497584541,\n",
    " 4000: 0.43719806763285024,\n",
    " 5000: 0.43719806763285024}"
   ]
  },
  {
   "cell_type": "code",
   "execution_count": 72,
   "id": "trained-haiti",
   "metadata": {},
   "outputs": [
    {
     "data": {
      "text/plain": [
       "<matplotlib.legend.Legend at 0x7ff7c5c2b880>"
      ]
     },
     "execution_count": 72,
     "metadata": {},
     "output_type": "execute_result"
    },
    {
     "data": {
      "image/png": "[encoded data removed]",
      "text/plain": [
       "<Figure size 864x576 with 1 Axes>"
      ]
     },
     "metadata": {
      "needs_background": "light"
     },
     "output_type": "display_data"
    }
   ],
   "source": [
    "plt.figure(figsize=(12,8))\n",
    "plt.plot(a2.keys(), a2.values(), label = \"tSVD + normalization on best features\")\n",
    "plt.plot(a2.keys(), a2_2.values(), label = \"tSVD on best raw features\")\n",
    "plt.axhline(0.4348,linestyle = 'dashed',linewidth = 0.9\n",
    "            , c = 'red', label = \"old features best\")\n",
    "plt.legend(fontsize = 15)"
   ]
  },
  {
   "cell_type": "markdown",
   "id": "stainless-battle",
   "metadata": {},
   "source": [
    "### Model ablation"
   ]
  },
  {
   "cell_type": "code",
   "execution_count": 4,
   "id": "multiple-inquiry",
   "metadata": {},
   "outputs": [
    {
     "name": "stderr",
     "output_type": "stream",
     "text": [
      "ic| '-- train data'\n",
      "ic| member.name: 'train.tsv'\n",
      "ic| len(self.train_data): 4370\n",
      "ic| '-- val data'\n",
      "ic| member.name: 'dev.tsv'\n",
      "ic| len(self.val_data): 414\n"
     ]
    },
    {
     "name": "stdout",
     "output_type": "stream",
     "text": [
      "Solver lbfgs supports only 'l2' or 'none' penalties, got l1 penalty.\n",
      "penalty='none' is not supported for the liblinear solver\n",
      "Solver newton-cg supports only 'l2' or 'none' penalties, got l1 penalty.\n",
      "Solver sag supports only 'l2' or 'none' penalties, got l1 penalty.\n"
     ]
    }
   ],
   "source": [
    "data = Data(fname)\n",
    "data.preprocess(feat_list[\"cv_nltk_lemma\"], norm = False)\n",
    "svd = TruncatedSVD(n_components = 2500)\n",
    "data.train_x = svd.fit_transform(data.train_x)\n",
    "data.val_x = svd.transform(data.val_x)\n",
    "solvers = [\"lbfgs\", \"liblinear\", \"saga\", \"newton-cg\", \"sag\"]\n",
    "penalties = [\"l1\", \"l2\", 'none']\n",
    "a3 = solver_pen_ablation(data.train_x, data.train_y, data.val_x, data.val_y, solvers, penalties)"
   ]
  },
  {
   "cell_type": "code",
   "execution_count": 5,
   "id": "technological-flood",
   "metadata": {},
   "outputs": [
    {
     "data": {
      "text/plain": [
       "{'l1': {'lbfgs': '-',\n",
       "  'liblinear': 0.4227053140096618,\n",
       "  'saga': 0.427536231884058,\n",
       "  'newton-cg': '-',\n",
       "  'sag': '-'},\n",
       " 'l2': {'lbfgs': 0.4468599033816425,\n",
       "  'liblinear': 0.4323671497584541,\n",
       "  'saga': 0.4468599033816425,\n",
       "  'newton-cg': 0.4492753623188406,\n",
       "  'sag': 0.4492753623188406},\n",
       " 'none': {'lbfgs': 0.39855072463768115,\n",
       "  'liblinear': '-',\n",
       "  'saga': 0.45410628019323673,\n",
       "  'newton-cg': 0.40096618357487923,\n",
       "  'sag': 0.4468599033816425}}"
      ]
     },
     "execution_count": 5,
     "metadata": {},
     "output_type": "execute_result"
    }
   ],
   "source": [
    "a3"
   ]
  },
  {
   "cell_type": "markdown",
   "id": "ongoing-automation",
   "metadata": {},
   "source": [
    "### Vocabulary Plots"
   ]
  },
  {
   "cell_type": "code",
   "execution_count": 4,
   "id": "valued-charles",
   "metadata": {},
   "outputs": [
    {
     "name": "stderr",
     "output_type": "stream",
     "text": [
      "ic| '-- train data'\n",
      "ic| member.name: 'train.tsv'\n",
      "ic| len(self.train_data): 4370\n",
      "ic| '-- val data'\n",
      "ic| member.name: 'dev.tsv'\n",
      "ic| len(self.val_data): 414\n"
     ]
    },
    {
     "name": "stdout",
     "output_type": "stream",
     "text": [
      "(4370, 7645)\n",
      "<class 'list'>\n"
     ]
    }
   ],
   "source": [
    "speech = Data(fname)\n",
    "speech.count_vect = CountVectorizer(stop_words = \"english\")#, tokenizer = LemmaTokenizer())\n",
    "cv2 =CountVectorizer()#, tokenizer = LemmaTokenizer())\n",
    "matrix = speech.count_vect.fit_transform(speech.train_data)\n",
    "matrix2 = cv2.fit_transform(speech.train_data)\n",
    "print(matrix.shape)\n",
    "freqs = zip(speech.count_vect.get_feature_names(), matrix.sum(axis=0).tolist()[0])    \n",
    "# sort from largest to smallest\n",
    "vocabulary_sorted = sorted(freqs, key=lambda x: -x[1])\n",
    "freqs2 = zip(cv2.get_feature_names(), matrix2.sum(axis=0).tolist()[0])    \n",
    "# sort from largest to smallest\n",
    "vocabulary_sorted2 = sorted(freqs2, key=lambda x: -x[1])\n",
    "print(type(vocabulary_sorted))"
   ]
  },
  {
   "cell_type": "code",
   "execution_count": 5,
   "id": "prescribed-light",
   "metadata": {},
   "outputs": [
    {
     "data": {
      "text/plain": [
       "<matplotlib.legend.Legend at 0x7fb4d46fffa0>"
      ]
     },
     "execution_count": 5,
     "metadata": {},
     "output_type": "execute_result"
    },
    {
     "data": {
      "image/png": "[encoded data removed]",
      "text/plain": [
       "<Figure size 864x576 with 1 Axes>"
      ]
     },
     "metadata": {
      "needs_background": "light"
     },
     "output_type": "display_data"
    }
   ],
   "source": [
    "# Without stopwords\n",
    "import matplotlib.pyplot as plt\n",
    "plt.figure(figsize=(12,8))\n",
    "plt.plot(range(len(vocabulary_sorted2)), [item[1] for item in vocabulary_sorted2], label = \"Token frequencies\")\n",
    "plt.plot(range(len(vocabulary_sorted)), [item[1] for item in vocabulary_sorted], label = \"Token frequencies, no stopwords\")\n",
    "plt.xlim(0,50)\n",
    "plt.legend(fontsize = 15)"
   ]
  },
  {
   "cell_type": "code",
   "execution_count": null,
   "id": "promising-softball",
   "metadata": {},
   "outputs": [
    {
     "name": "stdout",
     "output_type": "stream",
     "text": [
      "6789\n"
     ]
    }
   ],
   "source": [
    "from nltk.stem.wordnet import WordNetLemmatizer as lemmatizer\n",
    "lemmatizer = lemmatizer()\n",
    "voc_l = [lemmatizer.lemmatize(i[0]) for i in vocabulary_sorted]\n",
    "print(len(list(set(voc_l))))\n"
   ]
  },
  {
   "cell_type": "markdown",
   "id": "enabling-session",
   "metadata": {},
   "source": [
    "## Unsupervised experiments"
   ]
  },
  {
   "cell_type": "markdown",
   "id": "confused-queensland",
   "metadata": {},
   "source": [
    "### Vectorize input in preparation for Word2Vec"
   ]
  },
  {
   "cell_type": "code",
   "execution_count": 68,
   "id": "obvious-ideal",
   "metadata": {},
   "outputs": [],
   "source": [
    "data = read_unlabeled(\"data/\" + \n",
    "                      fname, None)"
   ]
  },
  {
   "cell_type": "code",
   "execution_count": 69,
   "id": "productive-airport",
   "metadata": {},
   "outputs": [
    {
     "name": "stdout",
     "output_type": "stream",
     "text": [
      "43342\n"
     ]
    }
   ],
   "source": [
    "print(len(data.data))\n",
    "# print(data.data[0])"
   ]
  },
  {
   "cell_type": "code",
   "execution_count": 76,
   "id": "heavy-keeping",
   "metadata": {},
   "outputs": [],
   "source": [
    "tokenizer = CountVectorizer(stop_words = \"english\",\n",
    "                            tokenizer = SamsTokenizer(),\n",
    "                           )\n",
    "                            \n",
    "def sentence_parser(sentences,tokenizer):\n",
    "    res_sentences = []\n",
    "    \n",
    "    for s in tqdm(sentences):\n",
    "        res_sentences.append(tokenizer(s))\n",
    "    return res_sentences\n",
    "    "
   ]
  },
  {
   "cell_type": "code",
   "execution_count": 77,
   "id": "animated-prisoner",
   "metadata": {},
   "outputs": [
    {
     "name": "stderr",
     "output_type": "stream",
     "text": [
      "100%|██████████| 43342/43342 [00:23<00:00, 1811.10it/s]\n"
     ]
    }
   ],
   "source": [
    "data.parsed_unlabeled_data = sentence_parser(data.data, \n",
    "                                SamsTokenizer())"
   ]
  },
  {
   "cell_type": "code",
   "execution_count": 84,
   "id": "czech-billion",
   "metadata": {},
   "outputs": [
    {
     "name": "stderr",
     "output_type": "stream",
     "text": [
      "ic| '-- train data'\n",
      "ic| member.name: 'train.tsv'\n",
      "ic| len(self.train_data): 4370\n",
      "ic| '-- val data'\n",
      "ic| member.name: 'dev.tsv'\n",
      "ic| len(self.val_data): 414\n",
      "100%|██████████| 4370/4370 [00:02<00:00, 1892.89it/s]\n"
     ]
    }
   ],
   "source": [
    "labeled_data = Data(fname)\n",
    "data.parsed_labeled_data = sentence_parser(labeled_data.train_data, \n",
    "                                           SamsTokenizer())\n",
    "                                           "
   ]
  },
  {
   "cell_type": "code",
   "execution_count": 85,
   "id": "north-personal",
   "metadata": {},
   "outputs": [],
   "source": [
    "data.full_parsed_data = data.parsed_labeled_data + data.parsed_unlabeled_data"
   ]
  },
  {
   "cell_type": "markdown",
   "id": "spare-express",
   "metadata": {},
   "source": [
    "### Make embedding models"
   ]
  },
  {
   "cell_type": "code",
   "execution_count": 106,
   "id": "dense-symbol",
   "metadata": {},
   "outputs": [],
   "source": [
    "from gensim.models import Word2Vec\n",
    "\n",
    "# for i in range(1,11):\n",
    "#     l = len(data.parsed_unlabeled_data)\n",
    "#     data.full_parsed_data = data.parsed_labeled_data +\\\n",
    "#     data.parsed_unlabeled_data[:(l//10)*i]\n",
    "#     print(len(data.full_parsed_data))\n",
    "#     model = Word2Vec(sentences=data.full_parsed_data,\n",
    "#                  size=300,\n",
    "#                  window=5,\n",
    "#                  min_count=1, workers=1)\n",
    "#     model.save(\"models/word2vec_\" + str(i*10) + \"ul.model\")\n",
    "\n",
    "\n",
    "\n",
    "model = Word2Vec.load('models/word2vec_100ul.model')"
   ]
  },
  {
   "cell_type": "markdown",
   "id": "filled-drain",
   "metadata": {},
   "source": [
    "### Visualize Embeddings"
   ]
  },
  {
   "cell_type": "code",
   "execution_count": 98,
   "id": "handy-amsterdam",
   "metadata": {},
   "outputs": [],
   "source": [
    "test = ['health', 'care', 'healthcare', 'war', 'soldier', 'afghanistan',\n",
    "        'iraq','gun','bear', 'clinton','mccain', 'terrorism', 'control',\n",
    "        'obama','budget','money','9/11','quality', 'candidate']\n",
    "\n",
    "embeddings = [model[i] for i in test]\n",
    "\n",
    "from sklearn.decomposition import PCA\n",
    "pca = PCA(n_components = 2)\n",
    "\n",
    "res = pca.fit_transform(embeddings)"
   ]
  },
  {
   "cell_type": "code",
   "execution_count": 99,
   "id": "configured-cover",
   "metadata": {},
   "outputs": [
    {
     "name": "stdout",
     "output_type": "stream",
     "text": [
      "(19,) (19,)\n"
     ]
    },
    {
     "data": {
      "image/png": "[encoded data removed]",
      "text/plain": [
       "<Figure size 864x576 with 1 Axes>"
      ]
     },
     "metadata": {
      "needs_background": "light"
     },
     "output_type": "display_data"
    }
   ],
   "source": [
    "import matplotlib.pyplot as plt\n",
    "plt.figure(figsize =(12,8))\n",
    "print(res[:,0].shape, res[:,1].shape)\n",
    "plt.scatter(res[:,0].flatten(),res[:,1].flatten())\n",
    "for i, text in enumerate(test):\n",
    "    plt.annotate(text, (res[i,0],res[i,1]), fontsize = 12)"
   ]
  },
  {
   "cell_type": "markdown",
   "id": "cardiovascular-gateway",
   "metadata": {},
   "source": [
    "### Run experiment with Word2Vec"
   ]
  },
  {
   "cell_type": "code",
   "execution_count": 3,
   "id": "necessary-nursery",
   "metadata": {},
   "outputs": [
    {
     "data": {
      "text/plain": [
       "['word2vec_10ul.model',\n",
       " 'word2vec_20ul.model',\n",
       " 'word2vec_30ul.model',\n",
       " 'word2vec_40ul.model',\n",
       " 'word2vec_50ul.model',\n",
       " 'word2vec_60ul.model',\n",
       " 'word2vec_70ul.model',\n",
       " 'word2vec_80ul.model',\n",
       " 'word2vec_90ul.model',\n",
       " 'word2vec_100ul.model']"
      ]
     },
     "execution_count": 3,
     "metadata": {},
     "output_type": "execute_result"
    }
   ],
   "source": [
    "models = ['word2vec_{}ul.model'.format(i*10) for i in range(1,11)]\n",
    "models"
   ]
  },
  {
   "cell_type": "code",
   "execution_count": 105,
   "id": "disturbed-parish",
   "metadata": {},
   "outputs": [
    {
     "name": "stderr",
     "output_type": "stream",
     "text": [
      "ic| '-- train data'\n",
      "ic| member.name: 'train.tsv'\n",
      "ic| len(self.train_data): 4370\n",
      "ic| '-- val data'\n",
      "ic| member.name: 'dev.tsv'\n",
      "ic| len(self.val_data): 414\n"
     ]
    },
    {
     "data": {
      "text/plain": [
       "[0.27294685990338163,\n",
       " 0.2777777777777778,\n",
       " 0.2753623188405797,\n",
       " 0.30917874396135264,\n",
       " 0.3115942028985507,\n",
       " 0.3164251207729469,\n",
       " 0.3164251207729469,\n",
       " 0.32608695652173914,\n",
       " 0.3309178743961353,\n",
       " 0.32367149758454106]"
      ]
     },
     "execution_count": 105,
     "metadata": {},
     "output_type": "execute_result"
    }
   ],
   "source": [
    "w2v_ablation(models, fname, LogisticRegression)"
   ]
  },
  {
   "cell_type": "markdown",
   "id": "invalid-there",
   "metadata": {},
   "source": [
    "### Adding back original features + word embeddings"
   ]
  },
  {
   "cell_type": "code",
   "execution_count": null,
   "id": "certain-compact",
   "metadata": {},
   "outputs": [
    {
     "name": "stderr",
     "output_type": "stream",
     "text": [
      "ic| '-- train data'\n",
      "ic| member.name: 'train.tsv'\n",
      "ic| len(self.train_data): 4370\n",
      "ic| '-- val data'\n",
      "ic| member.name: 'dev.tsv'\n",
      "ic| len(self.val_data): 414\n"
     ]
    }
   ],
   "source": [
    "w2v_ablation_all_features(models, fname, LogisticRegression(solver = 'sag', penalty = 'l2'), feat_list['cv_nltk_lemma'], TruncatedSVD(n_components= 2500))"
   ]
  },
  {
   "cell_type": "code",
   "execution_count": null,
   "id": "indoor-harassment",
   "metadata": {},
   "outputs": [],
   "source": [
    "# Lbfgs and SVD\n",
    "lbfgs = [0.43478260869565216,\n",
    " 0.4444444444444444,\n",
    " 0.4468599033816425,\n",
    " 0.45169082125603865,\n",
    " 0.4492753623188406,\n",
    " 0.45169082125603865,\n",
    " 0.4492753623188406,\n",
    " 0.4444444444444444,\n",
    " 0.4492753623188406,\n",
    " 0.4396135265700483]\n",
    "\n",
    "\n",
    "no_extra = [0.27294685990338163,\n",
    " 0.2777777777777778,\n",
    " 0.2753623188405797,\n",
    " 0.30917874396135264,\n",
    " 0.3115942028985507,\n",
    " 0.3164251207729469,\n",
    " 0.3164251207729469,\n",
    " 0.32608695652173914,\n",
    " 0.3309178743961353,\n",
    " 0.32367149758454106]\n",
    "# SAG and SVD 2500\n",
    "\n",
    "\n",
    "sag = [0.4420289855072464,\n",
    " 0.4420289855072464,\n",
    " 0.4468599033816425,\n",
    " 0.45169082125603865,\n",
    " 0.4492753623188406,\n",
    " 0.45410628019323673,\n",
    " 0.4492753623188406,\n",
    " 0.4444444444444444,\n",
    " 0.4444444444444444,\n",
    " 0.4396135265700483]"
   ]
  },
  {
   "cell_type": "code",
   "execution_count": 2,
   "id": "south-valentine",
   "metadata": {},
   "outputs": [],
   "source": [
    "import matplotlib.pyplot as plt"
   ]
  },
  {
   "cell_type": "code",
   "execution_count": 74,
   "id": "funky-tokyo",
   "metadata": {},
   "outputs": [
    {
     "data": {
      "text/plain": [
       "<matplotlib.legend.Legend at 0x7ff7c80c8220>"
      ]
     },
     "execution_count": 74,
     "metadata": {},
     "output_type": "execute_result"
    },
    {
     "data": {
      "image/png": "[encoded data removed]",
      "text/plain": [
       "<Figure size 864x576 with 1 Axes>"
      ]
     },
     "metadata": {
      "needs_background": "light"
     },
     "output_type": "display_data"
    }
   ],
   "source": [
    "import numpy as np\n",
    "x = np.arange(0.1,1.1, 0.1)\n",
    "plt.figure(figsize = (12,8))\n",
    "plt.plot(x, sag, label=\"w2v+old features - SAG\")\n",
    "plt.plot(x, lbfgs, label=\"w2v+old features - LBFGS\")\n",
    "# plt.plot(x, no_extra, label=\"w2v - LBFGS\")\n",
    "plt.axhline(0.450,linestyle = 'dashed',linewidth = 0.9\n",
    "            , c = 'red', label = \"old features best (SAG + LBFGS)\")\n",
    "plt.legend(fontsize = 15)"
   ]
  },
  {
   "cell_type": "code",
   "execution_count": null,
   "id": "heavy-booking",
   "metadata": {},
   "outputs": [],
   "source": []
  }
 ],
 "metadata": {
  "kernelspec": {
   "display_name": "nlp_env",
   "language": "python",
   "name": "nlpenv"
  },
  "language_info": {
   "codemirror_mode": {
    "name": "ipython",
    "version": 3
   },
   "file_extension": ".py",
   "mimetype": "text/x-python",
   "name": "python",
   "nbconvert_exporter": "python",
   "pygments_lexer": "ipython3",
   "version": "3.8.8"
  }
 },
 "nbformat": 4,
 "nbformat_minor": 5
}

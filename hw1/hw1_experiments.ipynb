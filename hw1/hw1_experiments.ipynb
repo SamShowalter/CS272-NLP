{
 "cells": [
  {
   "cell_type": "markdown",
<<<<<<< HEAD
   "id": "composed-listing",
=======
   "id": "emerging-celebrity",
>>>>>>> a940b4ba8640834cc64038cf68e88584bd0afa65
   "metadata": {},
   "source": [
    "# Experimentation for nlp hw1"
   ]
  },
  {
   "cell_type": "code",
<<<<<<< HEAD
   "execution_count": 38,
   "id": "applied-hungarian",
=======
   "execution_count": 1,
   "id": "returning-denial",
>>>>>>> a940b4ba8640834cc64038cf68e88584bd0afa65
   "metadata": {},
   "outputs": [],
   "source": [
    "%load_ext autoreload\n",
    "%autoreload 2\n",
    "from preprocessing import *\n",
    "from speech import *\n",
    "import numpy as np\n",
    "from tqdm import tqdm\n",
    "from supervised_experiments import *\n",
    "from unsupervised_experiments import *\n",
    "from sklearn.feature_extraction.text import CountVectorizer, TfidfVectorizer\n",
    "import warnings\n",
    "warnings.filterwarnings(\"ignore\")\n",
    "fname = \"speech.tar.gz\""
   ]
  },
  {
   "cell_type": "markdown",
<<<<<<< HEAD
   "id": "crazy-soviet",
=======
   "id": "ranging-disposition",
>>>>>>> a940b4ba8640834cc64038cf68e88584bd0afa65
   "metadata": {},
   "source": [
    "### General submission code - Supervised"
   ]
  },
  {
   "cell_type": "code",
   "execution_count": null,
<<<<<<< HEAD
   "id": "worth-player",
=======
   "id": "illegal-education",
>>>>>>> a940b4ba8640834cc64038cf68e88584bd0afa65
   "metadata": {},
   "outputs": [],
   "source": [
    "data = Data(fname)\n",
    "data.preprocess(feat_list['cv_nltk_lemma'],\n",
    "                svd = TruncatedSVD(n_components = 2500))\n",
    "clf = LogisticRegression(solver = \"lbfgs\", penalty = 'l2')\n",
    "clf.fit(data.train_x, data.train_y)\n",
    "\n",
    "# Train performance\n",
    "preds = clf.predict(data.val_x)\n",
    "train_acc = accuracy_score(clf.predict(data.train_x), data.train_y)\n",
    "\n",
    "#Val performance\n",
    "val_acc =  accuracy_score(data.val_y, preds)\n",
    "ic(val_acc)\n",
    "\n",
    "\n",
    "ic(\"Reading unlabeled data\")\n",
    "unlabeled = read_unlabeled(\"data/\" + fname, data, preprocess = True)\n",
    "print(\"Writing pred file\")\n",
    "write_pred_kaggle_file(unlabeled, clf, \"speech-pred.csv\", data)\n"
   ]
  },
  {
   "cell_type": "markdown",
<<<<<<< HEAD
   "id": "outside-parts",
=======
   "id": "stock-wrapping",
>>>>>>> a940b4ba8640834cc64038cf68e88584bd0afa65
   "metadata": {},
   "source": [
    "### General submission code - Unsupervised"
   ]
  },
  {
   "cell_type": "code",
   "execution_count": 37,
<<<<<<< HEAD
   "id": "senior-hostel",
=======
   "id": "collectible-insured",
>>>>>>> a940b4ba8640834cc64038cf68e88584bd0afa65
   "metadata": {},
   "outputs": [
    {
     "name": "stderr",
     "output_type": "stream",
     "text": [
      "ic| '-- train data'\n",
      "ic| member.name: 'train.tsv'\n",
      "ic| len(self.train_data): 4370\n",
      "ic| '-- val data'\n",
      "ic| member.name: 'dev.tsv'\n",
      "ic| len(self.val_data): 414\n",
      "ic| val_acc: 0.45893719806763283\n"
     ]
    },
    {
     "data": {
      "text/plain": [
       "0.45893719806763283"
      ]
     },
     "execution_count": 37,
     "metadata": {},
     "output_type": "execute_result"
    }
   ],
   "source": [
    "model = 'word2vec_60ul.model'\n",
    "data = Data(fname)\n",
    "data.preprocess(feat_list['cv_nltk_lemma'],\n",
    "                svd = TruncatedSVD(n_components = 2500))\n",
    "clf = LogisticRegression(solver = \"lbfgs\", penalty = 'l2')\n",
    "model = Word2Vec.load(\"models/\" + model)\n",
    "w2v = W2V_Vectorizer(model)\n",
    "data.train_x_unlabeled = np.array(w2v_build_dataset(w2v,SamsTokenizer(), data.train_data))\n",
    "data.val_x_unlabeled = np.array(w2v_build_dataset(w2v, SamsTokenizer(), data.val_data))\n",
    "\n",
    "data.train_x_final = np.hstack((data.train_x, data.train_x_unlabeled))\n",
    "data.val_x_final = np.hstack((data.val_x, data.val_x_unlabeled))\n",
    "clf.fit(data.train_x_final, data.train_y)\n",
    "\n",
    "# Train performance\n",
    "preds = clf.predict(data.val_x_final)\n",
    "train_acc = accuracy_score(clf.predict(data.train_x_final), data.train_y)\n",
    "\n",
    "#Val performance\n",
    "val_acc =  accuracy_score(data.val_y, preds)\n",
    "ic(val_acc)\n",
    "\n",
    "# ic(\"Reading unlabeled data\")\n",
    "# unlabeled = read_unlabeled_w2v(\"data/\" + fname, data, W2V_Vectorizer(model))\n",
    "# print(\"Writing pred file\")\n",
    "# write_pred_kaggle_file(unlabeled, clf, \"speech-pred-unlabeled.csv\", data)"
   ]
  },
  {
   "cell_type": "markdown",
<<<<<<< HEAD
   "id": "labeled-republican",
=======
   "id": "twenty-kenya",
>>>>>>> a940b4ba8640834cc64038cf68e88584bd0afa65
   "metadata": {},
   "source": [
    "## Supervised Experiments"
   ]
  },
  {
   "cell_type": "markdown",
<<<<<<< HEAD
   "id": "weird-maria",
=======
   "id": "enormous-airplane",
>>>>>>> a940b4ba8640834cc64038cf68e88584bd0afa65
   "metadata": {},
   "source": [
    "### Initial exploration"
   ]
  },
  {
   "cell_type": "code",
   "execution_count": 38,
<<<<<<< HEAD
   "id": "aware-remark",
=======
   "id": "practical-closer",
>>>>>>> a940b4ba8640834cc64038cf68e88584bd0afa65
   "metadata": {},
   "outputs": [
    {
     "name": "stderr",
     "output_type": "stream",
     "text": [
      "ic| '-- train data'\n",
      "ic| member.name: 'train.tsv'\n",
      "ic| len(self.train_data): 4370\n",
      "ic| '-- val data'\n",
      "ic| member.name: 'dev.tsv'\n",
      "ic| len(self.val_data): 414\n"
     ]
    }
   ],
   "source": [
    "fname = \"speech.tar.gz\"\n",
    "preprocessors = [\n",
    "    CountVectorizer(lowercase = False, tokenizer = SamsTokenizer(punct = True,lower = False)),\n",
    "    CountVectorizer(tokenizer = SamsTokenizer(punct = True)),\n",
    "    CountVectorizer(tokenizer = SamsTokenizer()),\n",
    "    CountVectorizer(stop_words=\"english\", tokenizer = SamsTokenizer()),\n",
    "    CountVectorizer(stop_words=\"english\", tokenizer = SamsTokenizer(), min_df = 2),\n",
    "    CountVectorizer(stop_words=\"english\", tokenizer = SamsTokenizer(), min_df = 3),\n",
    "    CountVectorizer(stop_words=\"english\", tokenizer = SamsTokenizer(), min_df = 4),\n",
    "    CountVectorizer(stop_words=\"english\", tokenizer = SamsTokenizer(), min_df = 5),\n",
    "    CountVectorizer(stop_words=\"english\", tokenizer = SamsTokenizer(), min_df = 6),\n",
    "    CountVectorizer(stop_words=\"english\", tokenizer = SamsTokenizer(), min_df = 7),\n",
    "    CountVectorizer(stop_words=\"english\", tokenizer = SamsTokenizer(), min_df = 8),\n",
    "    CountVectorizer(stop_words=\"english\", tokenizer = SamsTokenizer(), min_df = 9),\n",
    "    CountVectorizer(stop_words=\"english\", tokenizer = SamsTokenizer(), min_df = 10),\n",
    "]\n",
    "\n",
    "d = dimensionality_exploration(fname, preprocessors)"
   ]
  },
  {
   "cell_type": "code",
   "execution_count": 39,
<<<<<<< HEAD
   "id": "fuzzy-aging",
=======
   "id": "loose-listing",
>>>>>>> a940b4ba8640834cc64038cf68e88584bd0afa65
   "metadata": {},
   "outputs": [
    {
     "data": {
      "text/plain": [
       "[7878, 7028, 7028, 6762, 3602, 2561, 1996, 1653, 1412, 1245, 1124, 996, 890]"
      ]
     },
     "execution_count": 39,
     "metadata": {},
     "output_type": "execute_result"
    }
   ],
   "source": [
    "# d => [7878, 7414, 7028, 6762, 3602, 2561, 1996, 1653, 1412, 1245, 1124, 996, 890]"
   ]
  },
  {
   "cell_type": "code",
   "execution_count": 79,
   "id": "hungry-voltage",
   "metadata": {},
   "outputs": [
    {
     "data": {
      "text/plain": [
       "([<matplotlib.axis.XTick at 0x7ff7c38c0f40>,\n",
       "  <matplotlib.axis.XTick at 0x7ff7c38c0f10>,\n",
       "  <matplotlib.axis.XTick at 0x7ff7c38c05e0>,\n",
       "  <matplotlib.axis.XTick at 0x7ff7c5b4ecd0>,\n",
       "  <matplotlib.axis.XTick at 0x7ff7c5b5bc70>,\n",
       "  <matplotlib.axis.XTick at 0x7ff7c5b5b310>,\n",
       "  <matplotlib.axis.XTick at 0x7ff7c5c17400>,\n",
       "  <matplotlib.axis.XTick at 0x7ff7c5c17d60>,\n",
       "  <matplotlib.axis.XTick at 0x7ff7c5d240d0>,\n",
       "  <matplotlib.axis.XTick at 0x7ff7c5d24520>,\n",
       "  <matplotlib.axis.XTick at 0x7ff7c5d03d00>,\n",
       "  <matplotlib.axis.XTick at 0x7ff7c5d24280>,\n",
       "  <matplotlib.axis.XTick at 0x7ff7c5b5b520>],\n",
       " [Text(0, 0, 'regex-\\nsep'),\n",
       "  Text(1, 0, 'case'),\n",
       "  Text(2, 0, 'punct'),\n",
       "  Text(3, 0, 'stopW +\\nlemma'),\n",
       "  Text(4, 0, 'min_df\\n=2'),\n",
       "  Text(5, 0, 'min_df\\n=3'),\n",
       "  Text(6, 0, 'min_df\\n=4'),\n",
       "  Text(7, 0, 'min_df\\n=5'),\n",
       "  Text(8, 0, 'min_df\\n=6'),\n",
       "  Text(9, 0, 'min_df\\n=7'),\n",
       "  Text(10, 0, 'min_df\\n=8'),\n",
       "  Text(11, 0, 'min_df\\n=9'),\n",
       "  Text(12, 0, 'min_df\\n=10')])"
      ]
     },
     "execution_count": 79,
     "metadata": {},
     "output_type": "execute_result"
    },
    {
     "data": {
      "image/png": "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\n",
      "text/plain": [
       "<Figure size 864x576 with 1 Axes>"
      ]
     },
     "metadata": {
      "needs_background": "light"
     },
     "output_type": "display_data"
    }
   ],
   "source": [
    "dim = [7878, 7414, 7028, 6762, 3602, 2561, 1996, 1653, 1412, 1245, 1124, 996, 890]\n",
    "fig, ax = plt.subplots(figsize = (12,8))\n",
    "plt.plot(range(len(dim)), dim)\n",
    "labels = ['regex-\\nsep', 'case','punct','stopW +\\nlemma','min_df\\n=2','min_df\\n=3','min_df\\n=4','min_df\\n=5','min_df\\n=6','min_df\\n=7','min_df\\n=8','min_df\\n=9','min_df\\n=10']\n",
    "plt.xticks(range(len(dim)), labels, fontsize = 12)"
   ]
  },
  {
   "cell_type": "markdown",
<<<<<<< HEAD
   "id": "beginning-indian",
=======
   "id": "brutal-authorization",
>>>>>>> a940b4ba8640834cc64038cf68e88584bd0afa65
   "metadata": {},
   "source": [
    "### Feature ablation"
   ]
  },
  {
   "cell_type": "code",
   "execution_count": 3,
<<<<<<< HEAD
   "id": "divided-ticket",
=======
   "id": "average-paragraph",
>>>>>>> a940b4ba8640834cc64038cf68e88584bd0afa65
   "metadata": {},
   "outputs": [],
   "source": [
    "fname = \"speech.tar.gz\"\n",
    "\n",
    "feat_list = {\n",
    "    #CountVectorization\n",
    "    \"cv_nltk_case_punct\":CountVectorizer(tokenizer = SamsTokenizer(tokenizer = \"nltk\", lower = False, punct = True, lemma = False)),\n",
    "    \"cv_cv_case_punct\":CountVectorizer(tokenizer = SamsTokenizer(tokenizer = \"cv\", lower = False, punct = True, lemma = False)),\n",
    "    \"cv_nltk\":CountVectorizer(tokenizer = SamsTokenizer(tokenizer = 'nltk', lemma = False)),\n",
    "    \"cv_cv\": CountVectorizer(tokenizer = SamsTokenizer(lemma = False)),\n",
    "    \"cv_nltk_lemma\":CountVectorizer(tokenizer = SamsTokenizer(tokenizer = 'nltk', lemma = True)),\n",
    "    \"cv_cv_lemma\": CountVectorizer(tokenizer = SamsTokenizer(lemma = True)),\n",
    "    \"cv_nltk_lemma_stopw\": CountVectorizer(stop_words = \"english\", tokenizer = SamsTokenizer(tokenizer = \"nltk\")),\n",
    "    \"cv_cv_lemma_stopw\": CountVectorizer(stop_words = \"english\", tokenizer = SamsTokenizer(tokenizer = \"cv\")),\n",
    "\n",
    "    #Tfidf vectorization\n",
    "    \"tfidf_nltk_case_punct\":TfidfVectorizer(tokenizer = SamsTokenizer(tokenizer = \"nltk\", lower = False, punct = True, lemma = False)),\n",
    "    \"tfidf_cv_case_punct\":TfidfVectorizer(tokenizer = SamsTokenizer(tokenizer = \"cv\", lower = False, punct = True, lemma = False)),\n",
    "    \"tfidf_nltk\":TfidfVectorizer(tokenizer = SamsTokenizer(tokenizer = 'nltk', lemma = False)),\n",
    "    \"tfidf_cv\": TfidfVectorizer(tokenizer = SamsTokenizer(lemma = False)),\n",
    "    \"tfidf_nltk_lemma\":TfidfVectorizer(tokenizer = SamsTokenizer(tokenizer = 'nltk', lemma = True)),\n",
    "    \"tfidf_cv_lemma\": TfidfVectorizer(tokenizer = SamsTokenizer(lemma = True)),\n",
    "    \"tfidf_nltk_lemma_stopw\": TfidfVectorizer(stop_words = \"english\", tokenizer = SamsTokenizer(tokenizer = \"nltk\")),\n",
    "    \"tfidf_cv_lemma_stopw\": TfidfVectorizer(stop_words = \"english\", tokenizer = SamsTokenizer(tokenizer = \"cv\")),\n",
    "}"
   ]
  },
  {
   "cell_type": "code",
   "execution_count": null,
<<<<<<< HEAD
   "id": "incredible-healthcare",
=======
   "id": "local-concentration",
>>>>>>> a940b4ba8640834cc64038cf68e88584bd0afa65
   "metadata": {},
   "outputs": [],
   "source": [
    "a1 = feature_ablation(fname, feat_list)"
   ]
  },
  {
   "cell_type": "code",
   "execution_count": 6,
<<<<<<< HEAD
   "id": "pressing-majority",
=======
   "id": "active-shield",
>>>>>>> a940b4ba8640834cc64038cf68e88584bd0afa65
   "metadata": {},
   "outputs": [
    {
     "data": {
      "text/plain": [
       "{'cv_case_punct_nltk': 0.43719806763285024,\n",
       " 'cv_case_punct_cv': 0.3961352657004831,\n",
       " 'cv_nltk': 0.43478260869565216,\n",
       " 'cv_cv': 0.41304347826086957,\n",
       " 'cv_nltk_lemma': 0.43478260869565216,\n",
       " 'cv_cv_lemma': 0.41304347826086957,\n",
       " 'cv_nltk_lemma_stopw': 0.40096618357487923,\n",
       " 'cv_cv_lemma_stopw': 0.39855072463768115,\n",
       " 'tfidf_case_punct_nltk': 0.38164251207729466,\n",
       " 'tfidf_case_punct_cv': 0.35990338164251207,\n",
       " 'tfidf_nltk': 0.38164251207729466,\n",
       " 'tfidf_cv': 0.3743961352657005,\n",
       " 'tfidf_nltk_lemma': 0.38164251207729466,\n",
       " 'tfidf_cv_lemma': 0.3743961352657005,\n",
       " 'tfidf_nltk_lemma_stopw': 0.3864734299516908,\n",
       " 'tfidf_cv_lemma_stopw': 0.38164251207729466}"
      ]
     },
     "execution_count": 6,
     "metadata": {},
     "output_type": "execute_result"
    }
   ],
   "source": [
    "a1"
   ]
  },
  {
   "cell_type": "markdown",
<<<<<<< HEAD
   "id": "perfect-comedy",
=======
   "id": "equivalent-processor",
>>>>>>> a940b4ba8640834cc64038cf68e88584bd0afa65
   "metadata": {},
   "source": [
    "### Dimensionality Ablation"
   ]
  },
  {
   "cell_type": "code",
   "execution_count": 15,
<<<<<<< HEAD
   "id": "frank-field",
=======
   "id": "younger-turkey",
>>>>>>> a940b4ba8640834cc64038cf68e88584bd0afa65
   "metadata": {},
   "outputs": [
    {
     "name": "stderr",
     "output_type": "stream",
     "text": [
      "ic| '-- train data'\n",
      "ic| member.name: 'train.tsv'\n",
      "ic| len(self.train_data): 4370\n",
      "ic| '-- val data'\n",
      "ic| member.name: 'dev.tsv'\n",
      "ic| len(self.val_data): 414\n"
     ]
    },
    {
     "name": "stdout",
     "output_type": "stream",
     "text": [
      "(4370, 7689)\n",
      "(414, 7689)\n"
     ]
    }
   ],
   "source": [
    "data = Data(fname)\n",
    "data.preprocess(feat_list[\"cv_nltk_lemma\"], norm = True)\n",
    "print(data.train_x.shape)\n",
    "print(data.val_x.shape)\n",
    "# sys.exit(1)\n",
    "comp_list = [100,500, 1000, 1500, 2000, 2500, 3000, 4000, 5000]\n",
    "a2 = dimensionality_ablation(data, comp_list)"
   ]
  },
  {
   "cell_type": "code",
   "execution_count": 16,
<<<<<<< HEAD
   "id": "superior-electronics",
=======
   "id": "planned-exception",
>>>>>>> a940b4ba8640834cc64038cf68e88584bd0afa65
   "metadata": {},
   "outputs": [
    {
     "data": {
      "text/plain": [
       "{100: 0.2826086956521739,\n",
       " 500: 0.32367149758454106,\n",
       " 1000: 0.3309178743961353,\n",
       " 1500: 0.33816425120772947,\n",
       " 2000: 0.33816425120772947,\n",
       " 2500: 0.34057971014492755,\n",
       " 3000: 0.33816425120772947,\n",
       " 4000: 0.34057971014492755,\n",
       " 5000: 0.33816425120772947}"
      ]
     },
     "execution_count": 16,
     "metadata": {},
     "output_type": "execute_result"
    }
   ],
   "source": [
    "a2"
   ]
  },
  {
   "cell_type": "code",
   "execution_count": 17,
<<<<<<< HEAD
   "id": "written-montgomery",
=======
   "id": "pharmaceutical-indie",
>>>>>>> a940b4ba8640834cc64038cf68e88584bd0afa65
   "metadata": {},
   "outputs": [
    {
     "name": "stderr",
     "output_type": "stream",
     "text": [
      "ic| '-- train data'\n",
      "ic| member.name: 'train.tsv'\n",
      "ic| len(self.train_data): 4370\n",
      "ic| '-- val data'\n",
      "ic| member.name: 'dev.tsv'\n",
      "ic| len(self.val_data): 414\n"
     ]
    },
    {
     "name": "stdout",
     "output_type": "stream",
     "text": [
      "(4370, 7689)\n",
      "(414, 7689)\n"
     ]
    }
   ],
   "source": [
    "data = Data(fname)\n",
    "data.preprocess(feat_list[\"cv_nltk_lemma\"], norm = False)\n",
    "print(data.train_x.shape)\n",
    "print(data.val_x.shape)\n",
    "# sys.exit(1)\n",
    "comp_list = [100,500, 1000, 1500, 2000, 2500, 3000, 4000, 5000]\n",
    "a2_2 = dimensionality_ablation(data, comp_list)"
   ]
  },
  {
   "cell_type": "code",
   "execution_count": 18,
<<<<<<< HEAD
   "id": "egyptian-powder",
=======
   "id": "quantitative-illness",
>>>>>>> a940b4ba8640834cc64038cf68e88584bd0afa65
   "metadata": {},
   "outputs": [
    {
     "data": {
      "text/plain": [
       "{100: 0.2971014492753623,\n",
       " 500: 0.38405797101449274,\n",
       " 1000: 0.4227053140096618,\n",
       " 1500: 0.42995169082125606,\n",
       " 2000: 0.43478260869565216,\n",
       " 2500: 0.43719806763285024,\n",
       " 3000: 0.4323671497584541,\n",
       " 4000: 0.43719806763285024,\n",
       " 5000: 0.43719806763285024}"
      ]
     },
     "execution_count": 18,
     "metadata": {},
     "output_type": "execute_result"
    }
   ],
   "source": [
    "a2_2"
   ]
  },
  {
   "cell_type": "code",
   "execution_count": 67,
   "id": "million-setting",
   "metadata": {},
   "outputs": [],
   "source": [
    "a2 = {100: 0.2826086956521739,\n",
    " 500: 0.32367149758454106,\n",
    " 1000: 0.3309178743961353,\n",
    " 1500: 0.33816425120772947,\n",
    " 2000: 0.33816425120772947,\n",
    " 2500: 0.34057971014492755,\n",
    " 3000: 0.33816425120772947,\n",
    " 4000: 0.34057971014492755,\n",
    " 5000: 0.33816425120772947}\n",
    "\n",
    "a2_2 = {100: 0.2971014492753623,\n",
    " 500: 0.38405797101449274,\n",
    " 1000: 0.4227053140096618,\n",
    " 1500: 0.42995169082125606,\n",
    " 2000: 0.43478260869565216,\n",
    " 2500: 0.43719806763285024,\n",
    " 3000: 0.4323671497584541,\n",
    " 4000: 0.43719806763285024,\n",
    " 5000: 0.43719806763285024}"
   ]
  },
  {
   "cell_type": "code",
   "execution_count": 72,
   "id": "optical-output",
   "metadata": {},
   "outputs": [
    {
     "data": {
      "text/plain": [
       "<matplotlib.legend.Legend at 0x7ff7c5c2b880>"
      ]
     },
     "execution_count": 72,
     "metadata": {},
     "output_type": "execute_result"
    },
    {
     "data": {
      "image/png": "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\n",
      "text/plain": [
       "<Figure size 864x576 with 1 Axes>"
      ]
     },
     "metadata": {
      "needs_background": "light"
     },
     "output_type": "display_data"
    }
   ],
   "source": [
    "plt.figure(figsize=(12,8))\n",
    "plt.plot(a2.keys(), a2.values(), label = \"tSVD + normalization on best features\")\n",
    "plt.plot(a2.keys(), a2_2.values(), label = \"tSVD on best raw features\")\n",
    "plt.axhline(0.4348,linestyle = 'dashed',linewidth = 0.9\n",
    "            , c = 'red', label = \"old features best\")\n",
    "plt.legend(fontsize = 15)"
   ]
  },
  {
   "cell_type": "markdown",
<<<<<<< HEAD
   "id": "arbitrary-scheme",
=======
   "id": "ranking-titanium",
>>>>>>> a940b4ba8640834cc64038cf68e88584bd0afa65
   "metadata": {},
   "source": [
    "### Model ablation"
   ]
  },
  {
   "cell_type": "code",
   "execution_count": 4,
<<<<<<< HEAD
   "id": "portable-lighting",
=======
   "id": "positive-valentine",
>>>>>>> a940b4ba8640834cc64038cf68e88584bd0afa65
   "metadata": {},
   "outputs": [
    {
     "name": "stderr",
     "output_type": "stream",
     "text": [
      "ic| '-- train data'\n",
      "ic| member.name: 'train.tsv'\n",
      "ic| len(self.train_data): 4370\n",
      "ic| '-- val data'\n",
      "ic| member.name: 'dev.tsv'\n",
      "ic| len(self.val_data): 414\n"
     ]
    },
    {
     "name": "stdout",
     "output_type": "stream",
     "text": [
      "Solver lbfgs supports only 'l2' or 'none' penalties, got l1 penalty.\n",
      "penalty='none' is not supported for the liblinear solver\n",
      "Solver newton-cg supports only 'l2' or 'none' penalties, got l1 penalty.\n",
      "Solver sag supports only 'l2' or 'none' penalties, got l1 penalty.\n"
     ]
    }
   ],
   "source": [
    "data = Data(fname)\n",
    "data.preprocess(feat_list[\"cv_nltk_lemma\"], norm = False)\n",
    "svd = TruncatedSVD(n_components = 2500)\n",
    "data.train_x = svd.fit_transform(data.train_x)\n",
    "data.val_x = svd.transform(data.val_x)\n",
    "solvers = [\"lbfgs\", \"liblinear\", \"saga\", \"newton-cg\", \"sag\"]\n",
    "penalties = [\"l1\", \"l2\", 'none']\n",
    "a3 = solver_pen_ablation(data.train_x, data.train_y, data.val_x, data.val_y, solvers, penalties)"
   ]
  },
  {
   "cell_type": "code",
   "execution_count": 5,
<<<<<<< HEAD
   "id": "occupational-durham",
=======
   "id": "intensive-ivory",
>>>>>>> a940b4ba8640834cc64038cf68e88584bd0afa65
   "metadata": {},
   "outputs": [
    {
     "data": {
      "text/plain": [
       "{'l1': {'lbfgs': '-',\n",
       "  'liblinear': 0.4227053140096618,\n",
       "  'saga': 0.427536231884058,\n",
       "  'newton-cg': '-',\n",
       "  'sag': '-'},\n",
       " 'l2': {'lbfgs': 0.4468599033816425,\n",
       "  'liblinear': 0.4323671497584541,\n",
       "  'saga': 0.4468599033816425,\n",
       "  'newton-cg': 0.4492753623188406,\n",
       "  'sag': 0.4492753623188406},\n",
       " 'none': {'lbfgs': 0.39855072463768115,\n",
       "  'liblinear': '-',\n",
       "  'saga': 0.45410628019323673,\n",
       "  'newton-cg': 0.40096618357487923,\n",
       "  'sag': 0.4468599033816425}}"
      ]
     },
     "execution_count": 5,
     "metadata": {},
     "output_type": "execute_result"
    }
   ],
   "source": [
    "a3"
   ]
  },
  {
   "cell_type": "markdown",
<<<<<<< HEAD
   "id": "lyric-sending",
=======
   "id": "resident-friendly",
>>>>>>> a940b4ba8640834cc64038cf68e88584bd0afa65
   "metadata": {},
   "source": [
    "### Vocabulary Plots"
   ]
  },
  {
   "cell_type": "code",
<<<<<<< HEAD
   "execution_count": 51,
   "id": "square-marriage",
=======
   "execution_count": null,
   "id": "associate-frame",
   "metadata": {},
   "outputs": [],
   "source": [
    "# Without stopwords\n",
    "import matplotlib.pyplot as plt\n",
    "plt.figure(figsize=(12,8))\n",
    "plt.plot(range(len(vocabulary_sorted)), [item[1] for item in vocabulary_sorted])\n"
   ]
  },
  {
   "cell_type": "code",
   "execution_count": null,
   "id": "increasing-karma",
>>>>>>> a940b4ba8640834cc64038cf68e88584bd0afa65
   "metadata": {},
   "outputs": [
    {
     "name": "stderr",
     "output_type": "stream",
     "text": [
      "ic| '-- train data'\n",
      "ic| member.name: 'train.tsv'\n",
      "ic| len(self.train_data): 4370\n",
      "ic| '-- val data'\n",
      "ic| member.name: 'dev.tsv'\n",
      "ic| len(self.val_data): 414\n"
     ]
    },
    {
     "name": "stdout",
     "output_type": "stream",
     "text": [
      "(4370, 7645)\n",
      "<class 'list'>\n"
     ]
    }
   ],
   "source": [
    "speech = Data(fname)\n",
    "speech.count_vect = CountVectorizer(stop_words = \"english\")#, tokenizer = LemmaTokenizer())\n",
    "cv2 =CountVectorizer()#, tokenizer = LemmaTokenizer())\n",
    "matrix = speech.count_vect.fit_transform(speech.train_data)\n",
    "matrix2 = cv2.fit_transform(speech.train_data)\n",
    "print(matrix.shape)\n",
    "freqs = zip(speech.count_vect.get_feature_names(), matrix.sum(axis=0).tolist()[0])    \n",
    "# sort from largest to smallest\n",
    "vocabulary_sorted = sorted(freqs, key=lambda x: -x[1])\n",
    "freqs2 = zip(cv2.get_feature_names(), matrix2.sum(axis=0).tolist()[0])    \n",
    "# sort from largest to smallest\n",
    "ocabulary_sorted2 = sorted(freqs2, key=lambda x: -x[1])\n",
    "print(type(vocabulary_sorted))"
   ]
  },
  {
   "cell_type": "code",
<<<<<<< HEAD
   "execution_count": 73,
   "id": "median-massachusetts",
=======
   "execution_count": null,
   "id": "infectious-pursuit",
>>>>>>> a940b4ba8640834cc64038cf68e88584bd0afa65
   "metadata": {},
   "outputs": [
    {
     "data": {
      "text/plain": [
       "<matplotlib.legend.Legend at 0x7ff7c611ba30>"
      ]
     },
     "execution_count": 73,
     "metadata": {},
     "output_type": "execute_result"
    },
    {
     "data": {
      "image/png": "iVBORw0KGgoAAAANSUhEUgAAAtIAAAHSCAYAAADBgiw3AAAAOXRFWHRTb2Z0d2FyZQBNYXRwbG90bGliIHZlcnNpb24zLjQuMSwgaHR0cHM6Ly9tYXRwbG90bGliLm9yZy/Z1A+gAAAACXBIWXMAAAsTAAALEwEAmpwYAABc90lEQVR4nO3deXxU1f3/8feZLXsCWYEEhLAJiIAEBFlEEVGxKor7hrZfLVXr1q91Q7C/tuq3tbZq1VIXbF2pG6hYBdxAUYoVZVEWAdmXEEjInsyc3x8zGTJZyELIZHk9H4953HvP3LnzmeSK7zk591xjrRUAAACAhnGEuwAAAACgNSJIAwAAAI1AkAYAAAAagSANAAAANAJBGgAAAGgEgjQAAADQCK5wF1CX5ORk271793CXAQAAgDbsq6++yrbWpjTkNS0+SHfv3l3Lly8PdxkAAABow4wxPzb0NQztAAAAABqBIA0AAAA0AkEaAAAAaASCNAAAANAIBGkAAACgEVr8rB0AgJYtLy9Pe/bsUVlZWbhLAYAaud1upaamKj4+vkmPS5AGADRaXl6edu/erfT0dEVFRckYE+6SACCEtVZFRUXavn27JDVpmGZoBwCg0fbs2aP09HRFR0cTogG0SMYYRUdHKz09XXv27GnSYxOkAQCNVlZWpqioqHCXAQB1ioqKavIhaARpAMARoScaQGtwNP6tIkgDAAAAjVCvIG2M2WyMWWmMWWGMWR5oSzTGLDDGrA8sO1ba/y5jzAZjzFpjzMRK7UMDx9lgjHnU0I0BAACAVqohPdKnWGsHW2uzAtt3Slpkre0taVFgW8aY/pIukTRA0hmSnjDGOAOveVLSdZJ6Bx5nHPlHAACgcYwxdT4+/vjjwx5j6tSpysrKOuw+R5PP59MNN9ygtLQ0GWM0c+bMsNUSbsYYPf744+Euo9nNmTNHs2fPDncZR11ycnKLO7+PZPq7cyWNC6w/L+ljSb8OtL9irS2RtMkYs0HScGPMZknx1tqlkmSM+Yek8yS9dwQ1AADQaEuXLg2uFxUV6dRTT9W9996rSZMmBdv79+8fjtLq7Y033tATTzyhZ555Rv3791dGRka4SwqbpUuXqkePHuEuo9nNmTNH2dnZmjp1arhLaXfqG6StpA+MMVbS36y1sySlWWt3SpK1dqcxJjWwb7qkLyq9dlugrSywXrUdAICwGDFiRHA9Pz9fktSzZ8+Q9pbu+++/V8eOHXXttdcedr/i4mJFRkY2U1Xh0Zp+b6hZaztP6zu0Y5S19gRJZ0q6wRgz9jD71jTu2R6mvfoBjLnOGLPcGLN879699SwRAICm5fV6NXPmTHXr1k0REREaMGCAXnrppcO+prS0VOeff766deumDRs2SJK2bNmiSy65RImJiYqOjtbEiRO1du3a4Gs2b94sY4zmzJmj66+/XgkJCcrIyNCMGTPk8/lqfa9x48Zp+vTp2r9/f3AoyubNmzV79mwZY7Rs2TKNGzdOUVFR+sMf/iBJWrVqlSZNmqS4uDjFxcXpwgsv1K5du0KOu2rVKo0aNUqRkZHq16+f5s2bp6ysrJAez3HjxmnKlCkhr/v4449ljNGqVauCbcXFxbrjjjvUtWtXRUREaNCgQZo/f37I67p3765f/epXeuSRR5SRkaGOHTvqkksu0YEDB0L227dvn66//np17txZkZGR6tu3r/785z8Hn69paMfcuXOVlZWlyMhIderUSXfccUfIFGjbtm3TRRddpNTUVEVFRalnz56aPn16rT/zmjTk9/fhhx/qxBNPVGRkpNLS0vSLX/wi+CWuNoercerUqXr99df1ySefBM+BysMfHn/8cfXu3VsRERHq1auXHnnkkZBjz5w5U8nJyfrss890wgknKDIyUoMHD9aSJUuC+9x3333q06dPcLugoEBut1snnHBCsC07O1sOh0MLFiwIts2ZM0cDBw5URESEunbtqnvuuUfl5eXB5w93nn766acaNGiQIiMjNXToUH3++efVfi5LlizRmDFjFB8fr/j4eA0ePFj/+te/DvuzbGr1CtLW2h2B5R5Jb0oaLmm3MaazJAWWFTNcb5PUtdLLMyTtCLRn1NBe0/vNstZmWWuzkpKT6/9pAABoQvfdd59+97vf6brrrtO8efM0atQoXX755Xr55Zdr3L+4uFiTJ0/WN998o8WLF6tXr17KycnR6NGjtXbtWj311FOaM2eOCgoKdNppp6moqCjk9XfccYdiY2P12muv6YorrtBvfvMbvfbaa7XW98QTT+inP/2pEhIStHTpUi1dulSdO3cOPn/ppZfq7LPP1vz583X22Wdrw4YNGjVqlIqLi/XPf/5Ts2fP1urVq/WTn/xE1vr7toqKijRx4kTl5+frpZde0r333qtbbrlFW7ZsadTPcMqUKZo9e7buvvtuvf322xo2bJjOOeccrVixImS/OXPmaNGiRZo1a5YeeughvfPOO7r77ruDzxcVFWncuHF66623NH36dM2fP1+33367duyoMUoEj3n++edr+PDhmjdvnmbMmKFZs2bprrvuCu5z1VVXaevWrZo1a5bee+893XPPPSopKWnUZ63r97dmzRqdccYZSk5O1uuvv677779fL730UrUvJFUdrsbp06frlFNO0ZAhQ4LnwM9+9jNJ0t///nfddNNNOuecc/T222/rwgsv1O23364HH3ww5PiFhYW64oor9POf/1z/+te/1KFDB5155pnBL1hjx47V+vXrtXv3bknS559/LpfLpW+++UZ5eXmSpMWLF8vhcGjkyJGSpA8++EAXX3yxTjjhBM2dO1c33XST/vjHP+rGG2+s9vmqnqc7duzQmWeeqcTERL322mu6/vrrdfnll6uwsDD4mry8PJ199tnKzMzU66+/rtdee01XXnlltS9fR5219rAPSTGS4iqtfy7/RYJ/kHRnoP1OSf8XWB8g6RtJEZJ6SNooyRl47j+SRsjfO/2epLPqev9j+h5nAQAt05o1a6q1zZy3yl701Odhecyct6rRn+XgwYNWkn3uueestdbu27fPRkdH25kzZ4bsd+aZZ9o+ffoEt6+++mo7dOhQW1BQYMePH2/79u1rt23bFnz+3nvvtYmJiXbfvn3BtpycHBsfH28ff/xxa621mzZtspLslVdeGfJegwYNshdffPFh654xY4ZNSkoKaXvuueesJPvnP/85pP2KK66wffr0sSUlJcG2devWWYfDYd955x1rrbV//etfrcvlslu3bg3us2TJEivJXn311cG2k08+2V5wwQUhx//oo4+sJLty5UprrbULFy60kuzHH38cst+YMWPslClTgtvHHHOMzczMtGVlZcG2m2++2aalpQW3n3rqKWuMsV9//XWtPwtJ9rHHHrPWWuvz+Wy3bt3s1KlTQ/Z55plnbGRkpM3OzrbWWhsTE2PnzZtX6zHro76/v4svvtj26tXLlpeXB9teffVVK8l+/vnntR6/rhovuOACe/LJJ4e0eb1e26VLl2qff9q0aTY+Pt4WFRVZa/3njyT74osvBvc5ePCg7dixo/31r39trbU2Pz/fulwu+69//ctaa+306dPt+eefbzt37mzfe+89a621t956q83Kygoe48QTT7Tjxo0Lee+HHnrIOhyO4LlV23n6v//7vzYxMdEWFBQE21544QUryc6YMcNaa+1//vMfK8nm5eXV+nOpSU3/ZlWQtNzWkUurPurTI50maYkx5htJyyS9a639t6QHJU0wxqyXNCGwLWvtaklzJK2R9G9JN1hrvYFjTZP0tKQNkn5QPS40LC2v/U9aAAAcLatWrVJhYaEuvPDCkPaLL75Y69atC7nVcEFBgc444wzt3r1bn3zyidLTD10CtHDhQk2YMEHx8fEqLy9XeXm54uLiNHToUC1fvjzk2KeffnrIdv/+/bVt2zY1VuWLJitqmTx5shwOR7CWHj16qHv37sFali1bpqFDh4ZctDhq1CilpqaqoRYuXKhOnTpp1KhRwfcrLy/X+PHjq332U045RS7XoUu3+vfvrz179qi0tFSSf0jEkCFDNHjw4Hq997p167RlyxZddNFFIe996qmnqri4ODj8ZPDgwbrrrrs0e/bsRve6V6jr97ds2TJNnjxZTqcz2HbBBRfI5XKFDKWoqjE1btu2TTt27Kjx/M3Ly9PKlStD2idPnhxcj42N1YQJE7Rs2TJJUkxMjIYMGaLFixdL8g+7GDt2rMaMGRPSNmbMGEn+IVH//e9/a3xvn88XcpGvVP08XbZsmSZMmKDo6Ohg2/nnnx+yT8+ePRUbG6vLLrtMc+fObf6e6IA6Lza01m6UNKiG9n2Sxtfymt9J+l0N7cslHdeQAksI0gDQqsz4yYBwl9Akdu7cKUlKS0sLaa/Y3r9/fzBc7tixQ+vXr9c999xTbf/s7Gx98cUXevXVV6u9x/jxof8b7dChQ8i2x+NRcXFxoz9DTbU89NBDeuihh6rtu3XrVknSrl27agzNjQnS2dnZ2rVrl9xud7XnKodJqebPbq1VaWmpPB6P9u3bFzJspT7vLUlnnXVWjc9XfN5XX31V99xzj2699VYdOHBAgwYN0sMPP1ztd1Mfdf3+du7cWe134nQ6lZSUpJycnFqP25ga6zp/K79fbGysoqKiQvZLTU3Vt99+G9weO3asPvzwQ5WWlmrZsmX605/+JKfTqTlz5ig/P18rVqzQPffcI8n/sy8rK6vXe9dU465du3T88ceHtEVFRSk2Nja43bFjR33wwQe6//77ddFFF8nn8+n000/XY489pszMzFp/Lk3tSKa/axYEaQBAOFSEtj179igpKSnYXjFONDExMdjWu3dv3XzzzZo6dao6deqkadOmBZ9LTEzUOeecU+MFbHFxcUerfEnVb4mcmJioyZMnB8fQVpYcuCapU6dO+v7776s9X7kHXpIiIyODvcUVqgakxMREpaen66233mpM+SGSkpKCF2/WR8XvZ9asWRoyZEi15yumyUtPT9fs2bPl8/m0bNkyzZw5U+ecc462bNkS8ntvCp07d672c/R6vdq3b1/I+VRVY2qsfP5WVtP5m5+fr6KiopAwvWfPnpAvLmPGjNEjjzyiRYsWye12a9CgQXI6nfrVr36lDz/8UF6vV6NHj5bkP5fcbne93luqfp526tSp2muLioqqXZQ5cuRI/fvf/1ZRUZEWLlyo2267TZdddpm++OILNZcWf4vwMq9PxWXeuncEAKAJHXfccYqOjq42C8CcOXPUp08fpaSkhLRfeeWVevzxx3XjjTfqhRdeCLaPHz9eq1ev1oABA5SVlRXy6Nu3b7N8lsq1rFq1SkOHDq1WS/fu3SVJw4YN01dffRUyJOGzzz6rFmwyMjKqBe7KMzZUvN+uXbsUGxtb7f0aehOb8ePH6+uvvw7pJT2cvn37Kj09XZs3b67xvasGUIfDoREjRmjGjBkqLCzUjz/+2KD66uPEE0/Um2++Ka/3UK554403VF5eHgyhh1NbjTX95SIjI0NdunSp8fyNj4/XwIEDQ9rffPPN4Hp+fr4WLFig4cOHB9tGjx4ta60efPBBjRo1Sk6nUwMHDlRUVJQefvhhHXvsscH/JpxOp4YOHVrje1e+ILE2w4YN04IFC0IuLnzjjTdq3T8qKko/+clPdO2112rNmjWHPXZTa/E90pK0eV+Bju0UH+4yAADtSGJiom655Rb99re/lcvlUlZWlt544w3Nnz+/1lk7pk2bpvz8fF1zzTWKjY3Veeedp9tuu00vvPCCTj31VN10001KT08PjqUePXq0Lr300mb7TDNnztTw4cM1adIkXXvttUpOTtb27du1YMECTZ06VePGjdM111yj3/72t5o0aZJmzpypoqIiTZ8+PdhjXWHy5Ml65plndOutt2rSpEn66KOP9P7774fsM2HCBE2cOFETJkzQr3/9aw0YMEB5eXlasWKFiouL9cADD9S79quuukp//etfdfrpp2vmzJnq27evNm3apHXr1lWbhULyh86HH35YV155pfLy8nTmmWfK4/Fo48aNeuutt/Taa6+prKxMEydO1FVXXaU+ffqopKREDz/8sDp16qR+/fpJ8k/pd8opp+ijjz7SuHHjGv5Dr+Tee+/VkCFDdN5552natGnatm2bfv3rX2vixIm1hsvc3Nw6azz22GM1d+5cvfXWW8EA3aVLF82cOVPXX3+9kpKSNGHCBH3yySd68skn9fvf/z5kruaoqCjdc889ys/PV5cuXfTHP/5RpaWluvnmm4P7JCUlqX///vr000+DvzeHw6FRo0bp3Xff1f/8z/+E1H3//fdr4sSJuuaaa3TJJZdo5cqVmj59uv7nf/6nzpsG3XLLLfrrX/+qs88+W7fddpt27NihBx54IKTH/N1339Wzzz6r8847T926ddP27dv1t7/9TaeeemrDfilHqqFXJzb3w9Opl53/7Y4GXZEJAGgeh7sCvrWpOmuHtdaWl5fb++67z2ZkZFi322379etnX3jhhZDXVczaUdn06dNtRESE/eCDD6y11m7fvt1OnTrVpqamWo/HY4855hh7+eWX21Wr/LOMVMz68Pbbb9d57KoON2vHwYMHq+3/3Xff2QsuuMB27NjRRkZG2p49e9rrrrsuZJaOb775xo4cOdJ6PB7bp08f++abb9qhQ4eGzNphrbW///3vbUZGho2NjbWXX365nTt3bsisHdZaW1xcbO+77z7bs2dP63a7bVpamp04cWJwlhBr/bN23H777XV+huzsbPuzn/3MpqSk2IiICNu3b1/7l7/8Jfi8Ks3aUWH+/Pl29OjRNjo62sbFxdlBgwbZe+65x5aVldni4mL7s5/9zPbp08dGRUXZpKQkO2nSJPvtt98GX//uu+9aSXb16tW1/g4a8vtbuHChHT58uI2IiLApKSl22rRpNf6eKv/86qpx79699rzzzrMdO3YMmdnCWmsfe+yx4M++R48e9k9/+lPI8SvOn08//dQOGjTIejwee/zxx9tPPvmkWi0///nPrST72WefBdsefPBBK8k+//zz1fZ/5ZVX7HHHHWfdbrdNT0+3d999d8jMLIc7Tz/66CM7cOBA6/F47KBBg+ySJUtsUlJS8LN9//339oILLrAZGRnW4/HY9PR0e/3114fMjlOTpp61w1hb4z1RWoyIzr3tn156Tzec0ivcpQAAqvjuu++CvWJo27KysnTcccdp9uzZ4S6lWc2YMUOffvqpPvroo3CXclTMnDlTjz/+ePDizLbucP9mGWO+stY2aMxRix8j7XIYbdxbEO4yAABAO/T555/rtttuC3cZaKFa/BjpCJdTm7IPf+tMAACAo6HqBZRAZS2+RzrC7dCmbHqkAQAIp+XLl7e7YR3twcyZM9vNsI6joeUHaZdD+wvLtL+gtO6dAQAAgGbSKoK0JG2kVxoAAAAtSIsP0h6X/xaiDO8AAABAS9IKgrRDLofhgkMAAAC0KC0+SBtJ3RKj6ZEGAABAi9Lig7Qk9UiOYS5pAAAAtCitJkhvyi6Qz9ey78IIAGh9Zs6cKWNM8NGpUyedffbZ+vbbb8NSz7JlyzRz5sxGvfbjjz+WMUarVq1q2qIaYO7cuerXr588Ho+6d+8etjrCberUqcrKatBN8tAKtYognZkSq5Jyn3bmFYe7FABAG5SQkKClS5dq6dKl+vOf/6x169ZpwoQJysnJafZali1bpvvvv7/Z37cpeL1eXXXVVRo0aJA+/PBDvfnmm+EuKWymT5/OvNvtQIu/s6Hk75GWpE17C5TeISrM1QAA2hqXy6URI0ZIkkaMGKHu3btr5MiR+ve//63LLrsszNW1Hjt37lReXp4uu+wyjR49utb9ioqKFBXVtv9/3rNnz3CXgGbQSnqk/UF6IzN3AACawaBBgyRJW7duDbYtXbpU55xzjrp06aKYmBgNHjxYL774YvD54uJiRURE6KWXXgq23XXXXTLGaN68ecG2m266SaNGjarxfWfPnq2bbrpJkoJDTcaNGxd8/sMPP9SJJ56oyMhIpaWl6Re/+IXy8w///8ZXXnlFHo9HTz31lCTJ5/PpwQcfVK9evRQREaE+ffro+eefD3nNuHHjNGXKFL300kvq1auX4uPjdeaZZ2rbtm21vs/s2bPVtWtXSdK5554rY0xwiIoxRn/60590yy23KCUlRQMHDgz+zO644w517dpVERERGjRokObPnx9y3JKSEt14443q0KGDEhMTdeutt+qRRx6RMSbkvY0x1X4W3bt3169+9auQtrlz5yorK0uRkZHq1KmT7rjjDpWVlQWfnzlzppKTk/X1119rxIgRio6O1pAhQ7R48eJqn/nvf/+7Bg4cGPx9TJkyRbm5uZJqHtqxZcsWXXLJJUpMTFR0dLQmTpyotWvXhuzzwAMPqFevXsFjnnHGGdq1a1etP3eEV6sI0qlxEYr2OLngEADQLLZs2SJJ6tGjR7Dtxx9/1KhRo/T000/r7bff1gUXXKBrrrlGL7/8siQpMjJSw4YNCwlcn376qSIjI6u1jRkzpsb3nTRpkm6//XZJCg41eeKJJyRJa9as0RlnnKHk5GS9/vrruv/++/XSSy9pypQptX6O2bNn66qrrtKsWbP085//XJI/yP/2t7/Vddddp3fffVeTJ0/Wtddeq3feeSfktV9++aUef/xxPfzww5o1a5b++9//6rrrrqv1vSZNmqQ33nhDkvTHP/5RS5cu1c9+9rPg83/4wx+0c+dO/fOf/9Sjjz4qSZoyZYpmz56tu+++W2+//baGDRumc845RytWrAi+7s4779TTTz+t6dOn68UXX9SPP/6ohx9+uNY6DmfOnDk6//zzNXz4cM2bN08zZszQrFmzdNddd4XsV1hYqKuvvlrXX3+9Xn/9dUVERGjy5MkqLCwM7vPb3/5W119/vU4++WS99dZbevLJJ5WQkFDrF5ucnByNHj1aa9eu1VNPPaU5c+aooKBAp512moqKiiRJ//jHP/T73/9et912m95//309+eST6tWrlwoKyD8tlrW2RT+GDh1qrbX2rL98aq965ksLAGg51qxZE+4SjtiMGTNsUlKSLSsrs2VlZXbDhg32tNNOs4MHD7bFxcU1vsbn89mysjJ73XXX2VNOOSXYfuedd9oBAwZYa60tKiqyHo/H3nDDDfbEE0+01lq7f/9+63A47DvvvFNrPY899pj1/+851MUXX2x79eply8vLg22vvvqqlWQ///xza621H330kZVkV65caZ988knr8Xjsyy+/HNx//fr11hhjZ8+eHXLsK6+80mZlZQW3Tz75ZBsfH29zcnKCbY888oiVZAsLC2utfdOmTVaSffvtt0PaJdnBgweHtC1cuNBKsh9//HFI+5gxY+yUKVOstdZmZ2fbyMhI++CDDwaf93q9tm/fviE/o+eee85KsgcPHgw51jHHHGNvv/12a63/d9atWzc7derUkH2eeeYZGxkZabOzs621/vNBkl20aFFwn6+//tpKsu+995611v97jIqKsrfeemutP4urr77aVmQYa6299957bWJiot23b1+wLScnx8bHx9vHH3/cWmvtDTfcYM8///xaj4kjd7h/syQttw3Mqa1ijLTkv+Dwm60Hwl0GAKAu790p7VoZnvfuNFA688EGv2zfvn1yu93B7aSkJP3nP/9RREREsG3//v2aMWOG5s6dq+3bt8vr9UqS0tPTg/uMGTNGDz30kHJycvTtt98qJiZG06ZN05AhQ1RYWKglS5ZIUq1DOw5n2bJlmjJlipxOZ7DtggsukMvl0pIlSzRy5Mhg+6OPPqp//OMfeuWVVzR58uRg+6JFi+RwODR58mSVl5cH28ePH6+XX35ZXq83ePxhw4apY8eOwX369+8vSdq+fbt69erV4PonTZoUsr1w4UJ16tRJo0aNqlZLxUV6K1euVHFxsc4999zg8w6HQ+eee67+7//+r0Hvv27dOm3ZskUXXXRRyPudeuqpKi4u1qpVq3TyySdLktxud8iQmorPXjG0ZenSpSoqKtI111xT7/dfuHChJkyYoPj4+OD7x8XFaejQoVq+fLkkafDgwXrmmWc0Y8YMTZo0SUOHDg35faPlaTVBukdyjN79dodKyr2KcHFSAQCaTkJCghYuXCiv16tvvvlGv/rVr3TZZZfps88+k8PhHwU5depUffHFF5o+fbr69++v+Ph4Pfnkk5o7d27wOKNGjZIxRkuWLNE333yj0aNHa8CAAUpISNAXX3yhxYsX67jjjlOHDh0aXOPOnTuVlpYW0uZ0OpWUlFRtdpHXX39dvXr10mmnnRbSnp2dLa/Xq4SEhFrfIyMjQ5Kq1ejxeCT5xzU3RtXas7OztWvXrpAvMBUqwmPF2ODU1NSQ56tu10d2drYk6ayzzqrx+crj4ePj44O/d6n6Z9+3b58kqXPnzg16/y+++EKvvvpqtefGjx8vSbr22mt18OBBzZo1S7/5zW+UlJSkadOmaebMmQTqFqrVBOnM5Bj5rLRlX6F6p8WFuxwAQG0a0SMcbi6XK3hh2IknnqioqChdddVV+te//qWLL75YxcXFevfdd/X4448HxxpL/gv3KktISNDxxx+vxYsXa8WKFZo4caIkafTo0Vq8ePFhx0fXpXPnztqzZ09Im9fr1b59+5SYmBjS/uKLL2ratGn6yU9+ovfeey84Q0ZiYqJcLlfIF4TKGhNQ66vyxYEVtaSnp+utt96q9TWdOnWSJO3ZsyfkM1b9OURGRkqSSktLQ9r3798f8n6SNGvWLA0ZMqTae1UeD1+XpKQkSf4vHsnJyfV6TWJios455xxNnz692nNxcf5c43A4dOutt+rWW2/V1q1b9eKLL+qee+5Renp6yHmHlqNVXGwoHZoCbyO3CgcAHGVXXHGFBgwYoIceekiSf+YIr9cbMtTj4MGDIbNxVBgzZow++ugjLV26VGPHjpUkjR07Vu+//76++uqrOoN0bT2/J554ot58883gkBJJeuONN1ReXl5tqrmMjAwtWrRI69ev15QpU4KzUpx66qnyer3Kzc1VVlZWtUfFezeH8ePHa9euXYqNja2xFknBGTEq9/r7fL6Q7YrPK0nfffddsO3LL79UXl5ecLtv375KT0/X5s2ba3y/inBcHyNHjlRUVFS12U7q+ryrV6/WgAEDqr133759q+3ftWtX3XnnnerVq5fWrFlT7/dB82o1PdI9AlPgbSJIAwCOMmOM7r77bl1++eVatGiRxo8fr2HDhuk3v/lN8M/+Dz74oBISEkLCmuQPzY899phiY2N1wgknSPKH69tuu02SDju/siQde+yxkqS//OUvOvXUUxUfH6++ffvq3nvv1ZAhQ3Teeedp2rRp2rZtm379619r4sSJIeOjK2RmZmrhwoUaO3asrrjiCr388svq27evfv7zn+uSSy7RHXfcoaysLBUXF2v16tVat26dnn766ab48dXLhAkTNHHiRE2YMEG//vWvNWDAAOXl5WnFihUqLi7WAw88oKSkJF133XWaMWOGXC6XBgwYoL///e/VZsYYPny40tPT9ctf/lL/7//9P+Xk5Oj//u//FB8fH9zH4XDo4Ycf1pVXXqm8vDydeeaZ8ng82rhxo9566y299tprio6OrlftHTp00PTp03XPPfeotLRUZ511lkpKSvTuu+9qxowZIePmK9x222164YUXdOqpp+qmm25Senq6du/erU8++USjR4/WpZdequuvv16JiYkaMWKEEhIS9NFHH2n9+vXBL3RogRp6dWJzPypf8Tr0/y2wd/zrm4ZeoAkAOEra0qwdVZWXl9vevXvb008/3Vrrn/HilFNOsdHR0bZr1672oYceqvG1u3btspLshAkTQo4VFxdne/ToUWc9Pp/P/u///q/t3LmzNcbYk08+OfjcwoUL7fDhw21ERIRNSUmx06ZNC5mpovKsHRX++9//2oSEBHvttddan89nfT6ffeSRR2z//v2tx+OxycnJduzYsfb5558Pvubkk0+2F1xwQUhdNR27qsPN2vHYY49V27+4uNjed999tmfPntbtdtu0tDQ7ceLEkFlNiouL7bRp02x8fLzt0KGDvfHGG+3DDz9cbWaTZcuW2aysLBsVFWUHDx5slyxZEjJrR4X58+fb0aNH2+joaBsXF2cHDRpk77nnHltWVmatrf18qOkzPPXUU7Zfv37W4/HYtLQ0e+GFF9rc3FxrbfVZO6y1dvv27Xbq1Kk2NTXVejwee8wxx9jLL7/crlq1ylrrn33kpJNOsh07drRRUVF24MCB9umnn671542Ga+pZO4z/dS1XVlaWrbia9aKnlsrK6l8/PynMVQEAJP+f0vv16xfuMtDOPP7447rpppvU0jMMWp7D/ZtljPnKWptV45O1aDVjpCX/OGmGdgAAAKAlaFVBOjMlRtn5pcotKqt7ZwAAAOAoalVBumLmjs30SgMA0G7deOONDOtAi9CqgnRmSsUUeDXfxx4AAABoLq0qSHdNjJbDSJv20iMNAACA8GpVQTrC5VTXxGhuygIALQh/YgfQGhyNf6taVZCWmLkDAFoSt9utoqKicJcBAHUqKiqS2+1u0mO22iBNDwgAhF9qaqq2b9+uwsJC/l0G0CJZa1VYWKjt27crNTW1SY/dam4RXiEzOUaFpV7tzitRp4TIcJcDAO1axS2Yd+zYobIypiYF0DK53W6lpaWF3Da+KbS+IJ0SK8k/cwdBGgDCLz4+vsn/5wQArUGrHNohiXHSAAAACKtWF6Q7xUcq0u1gCjwAAACEVasL0g6HUfekGKbAAwAAQFi1uiAt+e9wyNAOAAAAhFPrDNLJsdqSU6gyry/cpQAAAKCdapVBukdyjLw+q605heEuBQAAAO1U6wzSKczcAQAAgPBqlUE6MzAF3kZm7gAAAECYtMog3SHao8QYDzN3AAAAIGxaZZCW/OOkN2Xnh7sMAAAAtFOtPEjTIw0AAIDwaNVBendeifJLysNdCgAAANqhVhukewZm7thMrzQAAADCoNUG6R7JsZLEBYcAAAAIi1YbpI9JipYx0iamwAMAAEAYtNogHel2qktClDYycwcAAADCoNUGaUnKTGHmDgAAAIRH6w7SyTHatLdA1tpwlwIAAIB2plUH6R7JMTpYUq7s/NJwlwIAAIB2pnUH6RT/zB0M7wAAAEBza9VBOjPZP5f0xr1ccAgAAIDm1aqDdJcOUfK4HPRIAwAAoNm16iDtdBh1T4rmpiwAAABodq06SEv+Cw7pkQYAAEBzawNBOlY/7itQudcX7lIAAADQjrT6IJ2ZEqMyr9X2A0XhLgUAAADtSOsP0hUzdzC8AwAAAM2o1QfpHoEgvWkvQRoAAADNp9UH6cQYj+IjXVxwCAAAgGbV6oO0MUaZKbHamM1NWQAAANB8Wn2QlvzjpBnaAQAAgObUJoJ0j+QY7cgtVlGpN9ylAAAAoJ1oG0E6xX/B4eZ99EoDAACgebSJIJ2ZHCtJ2sjwDgAAADSTegdpY4zTGPO1MeadwHaiMWaBMWZ9YNmx0r53GWM2GGPWGmMmVmofaoxZGXjuUWOMaYoP0T05WpK0iQsOAQAA0Ewa0iN9s6TvKm3fKWmRtba3pEWBbRlj+ku6RNIASWdIesIY4wy85klJ10nqHXiccUTVB0R7XOqcEMlNWQAAANBs6hWkjTEZkiZJerpS87mSng+sPy/pvErtr1hrS6y1myRtkDTcGNNZUry1dqm11kr6R6XXHLEeyTHMJQ0AAIBmU98e6T9LukOSr1JbmrV2pyQFlqmB9nRJWyvtty3Qlh5Yr9pejTHmOmPMcmPM8r1799arwB7JMdq4t0D+jA4AAAAcXXUGaWPM2ZL2WGu/qucxaxr3bA/TXr3R2lnW2ixrbVZKSkq93jQzJVa5RWXaX1hWzzIBAACAxnPVY59Rks4xxpwlKVJSvDHmBUm7jTGdrbU7A8M29gT23yapa6XXZ0jaEWjPqKG9SWQm+6fA25Sdr8SYxKY6LAAAAFCjOnukrbV3WWszrLXd5b+I8ENr7RWS5km6OrDb1ZLmBtbnSbrEGBNhjOkh/0WFywLDPw4aY0YEZuu4qtJrjliPQJBmCjwAAAA0h/r0SNfmQUlzjDE/lbRF0oWSZK1dbYyZI2mNpHJJN1hrK245OE3SbElRkt4LPJpERscouZ2GCw4BAADQLBoUpK21H0v6OLC+T9L4Wvb7naTf1dC+XNJxDS2yPlxOh7olRtMjDQAAgGbRJu5sWKFHciw90gAAAGgWbSpIZ6bEaNO+Avl8TIEHAACAo6tNBekeyTEqLfdpR25RuEsBAABAG9emgnQmM3cAAACgmbSpIN0jpWIuaYI0AAAAjq42FaRTYiMUG+EiSAMAAOCoa1NB2hijHskx2rAnP9ylAAAAoI1rU0Fakk7o1kFLNmTrxpf+qz15xeEuBwAAAG3UkdzZsEW666x+SoyJ0F8/3qBP1u7V/57RV5efeIycDhPu0gAAANCGtLke6Ui3Uzef1lvv3zJWx3dN0H1zV+v8Jz7Tqu254S4NAAAAbUibC9IVeiTH6IWfnqi/XDJY2w8U6ZzHl+g3b69Rfkl5uEsDAABAG9Bmg7Tkv/jw3MHpWnTbOF06vJue+3yTTnv4E723cqes5e6HAAAAaLw2HaQrJES79bvJA/X6tJPUMcajaS/+Vz99frm25hSGuzQAAAC0Uu0iSFc4oVtHvX3jKN07qZ++2LhPEx75RE9+/IPKvL5wlwYAAIBWpl0FaUlyOR362ZhMLbztZI3tnaKH/v29Jj26WP/ZnBPu0gAAANCKtLsgXaFLhyjNuipLf78qSwUlXl38t6XasOdguMsCAABAK9Fug3SFCf3T9Py1w+Wz0oqtTJEHAACA+mn3QVqSjkmKlsthtHEvtxYHAABA/RCkJbmdDnVLjNam7IJwlwIAAIBWgiAd0CM5Rhv3EqQBAABQPwTpgMyUGG3aVyCfjxu1AAAAoG4E6YDMlFiVlvu0/UBRuEsBAABAK0CQDuiRHCNJ2sg4aQAAANQDQTogM8UfpDcxcwcAAADqgSAdkBIbodgIFz3SAAAAqBeCdIAxxn/BIUEaAAAA9UCQriSTKfAAAABQTwTpSnokx2r7gSIVlXrDXQoAAABaOIJ0JRUXHG7eR680AAAADo8gXUlFkGZ4BwAAAOpCkK4kOJc0U+ABAACgDgTpSqI9LnVOiGTmDgAAANSJIF1Fj+QY/UCQBgAAQB0I0lVkpsRo0958WWvDXQoAAABaMIJ0FZnJscorLte+gtJwlwIAAIAWjCBdRQ9m7gAAAEA9EKSr6JkcK0nalM3MHQAAAKgdQbqK9I5R8jgd9EgDAADgsAjSVTgdRsckRWsjM3cAAADgMAjSNchMieGmLAAAADgsgnQNeiTHaktOocq9vnCXAgAAgBaKIF2DzJQYlXmttu0vCncpAAAAaKEI0jXITA5MgcfMHQAAAKgFQboGmSn+KfCYuQMAAAC1IUjXIDHGow7RbmbuAAAAQK0I0rXokczMHQAAAKgdQboWmcmx2kSPNAAAAGpBkK5FZkqMdueVKL+kPNylAAAAoAUiSNeiYuaOzfRKAwAAoAYE6VpUzNzxA+OkAQAAUAOCdC2OSYqWMUyBBwAAgJoRpGsR6XYqvUMUFxwCAACgRgTpw8hMieXuhgAAAKgRQfowMpNjtGlvgay14S4FAAAALQxB+jAyU2JUUOrVnoMl4S4FAAAALQxB+jB6BKbAY+YOAAAAVEWQPoyKKfC44BAAAABVEaQPo3N8pCLdDqbAAwAAQDUE6cNwOIy6J8XQIw0AAIBqCNJ16JkSq42MkQYAAEAVBOk69EiO0db9RSot94W7FAAAALQgBOk6ZKbEyOuz2pJTGO5SAAAA0IIQpOtQMXMHwzsAAABQGUG6DhVzSXPBIQAAACojSNchIcqt5FgPU+ABAAAgBEG6Hnokx2hjNkM7AAAAcAhBuh4yk2MZ2gEAAIAQBOl6yEyJUXZ+qXKLysJdCgAAAFoIgnQ9cMEhAAAAqiJI1wNT4AEAAKCqOoO0MSbSGLPMGPONMWa1Meb+QHuiMWaBMWZ9YNmx0mvuMsZsMMasNcZMrNQ+1BizMvDco8YYc3Q+VtPqlhgtp8MwcwcAAACC6tMjXSLpVGvtIEmDJZ1hjBkh6U5Ji6y1vSUtCmzLGNNf0iWSBkg6Q9ITxhhn4FhPSrpOUu/A44ym+yhHj8flUNeOUQztAAAAQFCdQdr6VYxpcAceVtK5kp4PtD8v6bzA+rmSXrHWllhrN0naIGm4MaazpHhr7VJrrZX0j0qvafEyU2L1A0M7AAAAEFCvMdLGGKcxZoWkPZIWWGu/lJRmrd0pSYFlamD3dElbK718W6AtPbBetb1V6JEco837CuTz2XCXAgAAgBagXkHaWuu11g6WlCF/7/Jxh9m9pnHP9jDt1Q9gzHXGmOXGmOV79+6tT4lHXWZKjIrLfNqZVxzuUgAAANACNGjWDmvtAUkfyz+2eXdguIYCyz2B3bZJ6lrpZRmSdgTaM2por+l9Zllrs6y1WSkpKQ0p8ajJTGbmDgAAABxSn1k7UowxHQLrUZJOk/S9pHmSrg7sdrWkuYH1eZIuMcZEGGN6yH9R4bLA8I+DxpgRgdk6rqr0mhYvM4W5pAEAAHCIqx77dJb0fGDmDYekOdbad4wxSyXNMcb8VNIWSRdKkrV2tTFmjqQ1ksol3WCt9QaONU3SbElRkt4LPFqF1LgIxXicTIEHAAAASfUI0tbabyUNqaF9n6Txtbzmd5J+V0P7ckmHG1/dYhlj1CMlhpk7AAAAIIk7GzZIZnIsQzsAAAAgiSDdIJkpMdp+oEjFZd66dwYAAECbRpBugB7JMbJW+nFfYbhLAQAAQJgRpBugZwpT4AEAAMCPIN0A3ZP9U+BtZJw0AABAu0eQboDYCJfS4iOYAg8AAAAE6YbKTI7VxmyGdgAAALR3BOkG6pESwxR4AAAAIEg3VGZyjA4UlimnoDTcpQAAACCMCNINlJkSuOCQmTsAAADaNYJ0A2UmB6bAY3gHAABAu0aQbqCMjlFyOw0zdwAAALRzBOkGcjkd6pYYrU3M3AEAANCuEaQbITMllh5pAACAdo4g3QiZKTH6cV+hvD4b7lIAAAAQJgTpRshMjlGp16ft+4vCXQoAAADChCDdCJkp/pk7fmCcNAAAQLtFkG6EHsn+uaQ3MU4aAACg3SJIN0JSjEfxkS5tpEcaAACg3SJIN4Ixhpk7AAAA2jmCdCNlJsdoE3c3BAAAaLcI0o2UmRKjnbnFKiwtD3cpAAAACAOCdCP1SPbP3EGvNAAAQPtEkG6kzBT/zB2MkwYAAGifCNKNVDEFHkEaAACgfSJIN1Kk26ljkqK1/MeccJcCAACAMCBIH4ELTsjQ4vXZ2rCH+aQBAADaG4L0EbjsxG7yOB16/vPN4S4FAAAAzYwgfQSSYyN0zuAuev2/25RbVBbucgAAANCMCNJHaOpJ3VVY6tW/lm8NdykAAABoRgTpI3RceoKGd0/U80s3y+uz4S4HAAAAzYQg3QSmjuqurTlFWvTd7nCXAgAAgGZCkG4Cp/dPU5eESD332eZwlwIAAIBmQpBuAi6nQ1eO7K6lG/fp+1154S4HAAAAzYAg3UQuHd5VkW6HZtMrDQAA0C4QpJtIh2iPJg/J0Jtfb9f+gtJwlwMAAICjjCDdhKae1F0l5T69/J8t4S4FAAAARxlBugn17RSnUb2S9M+lP6rc6wt3OQAAADiKCNJNbOpJPbQzt1jvr2YqPAAAgLaMIN3ETj02Vd0So/XcZ5vCXQoAAACOIoJ0E3M6jK4aeYyW/7hfK7flhrscAAAAHCUE6aPgomFdFeNx6rnP6ZUGAABoqwjSR0F8pFtThmbonW92au/BknCXAwAAgKOAIH2UXHVSd5V6fXrpS6bCAwAAaIsI0kdJz5RYjeubohe+/FGl5UyFBwAA0NYQpI+iqSd1196DJZq/cme4SwEAAEATI0gfRWN7pygzJUbPfbZJ1tpwlwMAAIAmRJA+ihwOo6knddc323L19dYD4S4HAAAATYggfZRdcEKG4iJceu6zzeEuBQAAAE2IIH2UxUS4dNGwrnpv5U7tyi0OdzkAAABoIgTpZnD1yO7yWqsXvvgx3KUAAACgiRCkm0G3pGid1i9NLy3bouIyb7jLAQAAQBMgSDeTa07qrpyCUs37Zke4SwEAAEATIEg3k5E9k9Q3LU6zP9vMVHgAAABtAEG6mRhjNHVUd63Zmadlm3LCXQ4AAACOEEG6GZ03OF0dot1MhQcAANAGEKSbUZTHqcuGd9P7a3bpbcZKAwAAtGoE6Wb2y/G9NeyYRN02Z4UWr98b7nIAAADQSATpZhbpdurvV2epZ0qsrv/nV/qGW4cDAAC0SgTpMEiIcusf1w5XUqxHU59bpg178sNdEgAAABqIIB0mqfGR+ue1J8rpMLr62WXamVsU7pIAAADQAATpMOqeHKPZ1wxXblGZrn52mQ4Uloa7JAAAANQTQTrMjktP0KyrhmpzdqGunf0fFZVyC3EAAIDWgCDdApzUM1mPXjpYK7Ye0C9e/EplXl+4SwIAAEAdCNItxBnHddZvzxuoj9bu1R2vfSufj9uIAwAAtGSucBeAQy47sZv25Zfo4QXrlBTj0T2T+skYE+6yAAAAUAOCdAtz46m9tK+gVE8v2aTkuAj9/OSe4S4JAAAANSBItzDGGN13dn/lFJTqwfe+V2K0RxcN6xrusgAAAFAFQboFcjiM/njhIO0vLNWdb3yrjjEeTeifFu6yAAAAUAkXG7ZQHpdDT10xVAMzOujGl/6rLzfuC3dJAAAAqIQg3YLFRLj03NRhSu8YpZ/9Y7mWbcoJd0kAAAAIqDNIG2O6GmM+MsZ8Z4xZbYy5OdCeaIxZYIxZH1h2rPSau4wxG4wxa40xEyu1DzXGrAw896hhSoo6JcZ49M+fnqjEGI8unrVUD8z/TsVl3LQFAAAg3OrTI10u6XZrbT9JIyTdYIzpL+lOSYustb0lLQpsK/DcJZIGSDpD0hPGGGfgWE9Kuk5S78DjjCb8LG1WeocovfvLMbpkWDf97dONOufxJVq1PTfcZQEAALRrdQZpa+1Oa+1/A+sHJX0nKV3SuZKeD+z2vKTzAuvnSnrFWltird0kaYOk4caYzpLirbVLrbVW0j8qvQZ1iI1w6YHzB+q5a4bpQGGZzvvrZ3ps0XqVcxdEAACAsGjQGGljTHdJQyR9KSnNWrtT8odtSamB3dIlba30sm2BtvTAetV2NMApfVP1wa1jddbAznp4wTpd8NRSbdiTH+6yAAAA2p16B2ljTKyk1yXdYq3NO9yuNbTZw7TX9F7XGWOWG2OW7927t74lthsdoj169NIhevyyIfpxX4EmPbpYzy7ZxG3FAQAAmlG9grQxxi1/iH7RWvtGoHl3YLiGAss9gfZtkirfQSRD0o5Ae0YN7dVYa2dZa7OstVkpKSn1/SztztnHd9EHt4zVqF7J+s07a3T5019q2/7CcJcFAADQLtRn1g4j6RlJ31lr/1TpqXmSrg6sXy1pbqX2S4wxEcaYHvJfVLgsMPzjoDFmROCYV1V6DRopNT5Sz1ydpYcuGKhvtx3QGX9erDnLt8o/DB0AAABHS316pEdJulLSqcaYFYHHWZIelDTBGLNe0oTAtqy1qyXNkbRG0r8l3WCtrZivbZqkp+W/APEHSe815Ydpr4wxunhYN/37lrEa0CVed7z2rf7nH8u152BxuEsDAABos0xL77nMysqyy5cvD3cZrYbPZ/XsZ5v0f++vVYzHqUcuHqxxfVPrfiEAAEA7Zoz5ylqb1ZDXcGfDNsbhMPrZmEy9e9NoJcVG6J43VzHMAwAA4CggSLdRvdPidPXIY7T9QJG25HABIgAAQFMjSLdhI3smSZKW/rAvzJUAAAC0PQTpNqxnSqxS4iL0OUEaAACgyRGk2zBjjEZmJmnpxn2MkwYAAGhiBOk27qSeSdp7sEQ/7C0IdykAAABtCkG6jTs0Tjo7zJUAAAC0LQTpNq5bYrS6JERq6UbGSQMAADQlgnQbZ4zRyJ7J+mJjjnw+xkkDAAA0FYJ0OzCyZ5JyCkq1dvfBcJcCAADQZhCk2wHmkwYAAGh6BOl2IL1DlI5JimY+aQAAgCZEkG4nRmYm6ctN++RlnDQAAECTIEi3EyN7JulgcbnW7MgLdykAAABtAkG6nRiZ6R8n/TnzSQMAADQJgnQ7kRofqZ4pMcwnDQAA0EQI0u3IST2TtWxTjsq8vnCXAgAA0OoRpNuRkT2TVFjq1bfbcsNdCgAAQKtHkG5HRgTGSX/B8A4AAIAjRpBuRxJjPDq2UxwXHAIAADQBgnQ7M7JnkpZv3q+Scm+4SwEAAGjVCNLtzEk9k1VS7tOKLQfCXQoAAECrRpBuZ4b3SJTDiNuFAwAAHCGCdDuTEOXWgC4JzCcNAABwhAjS7dBJPZP09Zb9KiplnDQAAEBjEaTboRE9k1Tmtfrqx/3hLgUAAKDVIki3Q8O6J8rpMFq6kWnwAAAAGosg3Q7FRrg0KCOBCw4BAACOAEG6nRrZM0nfbstVfkl5uEsBAABolQjS7dRJPZPl9Vn9Z1NOuEsBAABolQjS7dTQYzrK43QwDR4AAEAjEaTbqUi3U4O7ddBSxkkDAAA0CkG6HTupZ5JW7chVbmFZuEsBAABodQjS7djIzCRZK325iV5pAACAhiJIt2ODu3VQpJtx0gAAAI1BkG7HIlxOZR2TyDhpAACARiBIt3Mjeybp+10HtS+/JNylAAAAtCoE6XZuZM8kSdIXG5lPGgAAoCEI0u3cwPQExXicWroxO9ylAAAAtCoE6XbO7XRoWA/GSQMAADQUQRo6qWeSfthboN15xeEuBQAAoNUgSEMjM5MlSV8wDR4AAEC9EaSh/l3iFR/p0ucbCNIAAAD1RZCGnA6jEzOTuDELAABAAxCkIcl/u/AtOYXatr8w3KUAAAC0CgRpSJJO6uWfT5rZOwAAAOqHIA1JUp/UOCXGeBjeAQAAUE8EaUiSHA6jEZmJ+uKHfbLWhrscAACAFo8gjaCRPZO1I7dYP+5jnDQAAEBdCNIIGpkZGCfN8A4AAIA6EaQR1DMlRqlxEfqcCw4BAADqRJBGkDFGI3smaSnjpAEAAOpEkEaIk3omKTu/RI9/uEHlXl+4ywEAAGixCNIIce7gdJ01sJMeXrBOFzy1VBv2HAx3SQAAAC0SQRohIt1OPXH5UD126RD9uK9AZz26RLM+/UFeH0M9AAAAKiNIo0Y/GdRFH9w6Vif3SdHv53+vC5/6XBv35oe7LAAAgBaDII1apcZFataVQ/Xniwdrw558nfXoYj27ZJN89E4DAAAQpHF4xhidNyRdC247WSf1TNZv3lmjS2Z9oR/3FYS7NAAAgLAiSKNe0uIj9czVWfrDlOP13c48nfHnxfrH0s30TgMAgHaLII16M8bowqyu+uC2sRrWI1H3zV2tK575UltzuKU4AABofwjSaLDOCVF6/pphevD8gfp2W67O+POneunLLdzEBQAAtCumpYefrKwsu3z58nCXgVps21+oO177Vp//sE9xES51TYxW18QodUuMDqxHq1titNI7RCnS7Qx3uQAAADUyxnxlrc1qyGtcR6sYtA8ZHaP1wk9P1LxvdujrLfu1JadQP+wt0Mdr96qkPPTOiJ3iI9U1McofsDv6A3bvtFgd1yVBDocJ0ycAAABoHHqkcVT4fFbZ+SXaklOorfsLtWVfUXB9a06hduUVq+LUS46N0PhjU3Va/zSN7pWsKA891wAAoHnRI40Ww+EwSo2PVGp8pLK6J1Z7vqTcq+37i/Tttlwt/G635q/cqVeXb1WEy6HRvZJ1Wv80jT82VanxkWGoHgAAoG4EaYRFhMupzJRYZabE6rwh6Sot9+k/m3O0YM1uLfxutxZ9v0eSNCgjQaf1S9P4fmnq1zlOxjAEBAAAtAwM7UCLY63V2t0Htei7PVqwZrdWbD0gSUrvEKXx/VI1vl+ahh7TUbERfA8EAABNozFDOwjSaPH2HCzWR9/v0YI1e7Rkw14Vl/kvYsxMjtGA9AQNTI/XcV0SNKBLghKi3WGuFgAAtEYEabR5RaVefblpn1Zuy9XK7blavSNP2w8UBZ/vlhit49LjNaBLggamJ+i49AQlxnjCWDEAAGgNuNgQbV6Ux6lxfVM1rm9qsC2noFSrtudq1Y5crd6ep5XbczV/5a7g810SIjUgPUFnDeyk8wanM84aAAA0CYI0Wr3EGI/G9knR2D4pwbbcwjKt3pnrD9jb87Ri6wEtWLNbC9bs1gOTj2cICAAAOGJ1BmljzLOSzpa0x1p7XKAtUdKrkrpL2izpImvt/sBzd0n6qSSvpF9aa98PtA+VNFtSlKT5km62LX1cCVqthGi3TuqZrJN6Jkvyz2v998Ub9Yf312rFlk/1yMWDdWJmUpirBAAArZmjHvvMlnRGlbY7JS2y1vaWtCiwLWNMf0mXSBoQeM0TxpiKu2s8Kek6Sb0Dj6rHBI4ah8Po+pN76o1fnCSPy6FL//6FHv5grcq9vrpfDAAAUIM6g7S19lNJOVWaz5X0fGD9eUnnVWp/xVpbYq3dJGmDpOHGmM6S4q21SwO90P+o9Bqg2Ryf0UHv/nKMLjghQ499uEEX/W2ptuYUhrssAADQCtWnR7omadbanZIUWFZc+ZUuaWul/bYF2tID61Xba2SMuc4Ys9wYs3zv3r2NLBGoWUyES3+4cJAevXSI1u/O11l/Way5K7aHuywAANDKNDZI16am6RDsYdprZK2dZa3NstZmpaSk1LYbcETOGdRF828eoz6d4nTzKyt026srlF9SHu6yAABAK9HYIL07MFxDgeWeQPs2SV0r7ZchaUegPaOGdiCsuiZG69XrRujm8b311ortmvTo4uCdFAEAAA6nsUF6nqSrA+tXS5pbqf0SY0yEMaaH/BcVLgsM/zhojBlh/JP4XlXpNUBYuZwO3Tqhj169fqTKvVZTnvxcf/1og7w+JpUBAAC1qzNIG2NelrRUUl9jzDZjzE8lPShpgjFmvaQJgW1Za1dLmiNpjaR/S7rBWusNHGqapKflvwDxB0nvNfFnAY7IsO6Jmv/LMZo4oJP+8P5aXfH0l9qVWxzusgAAQAvFLcKBKqy1+tfybZoxb7Ui3A7NujJLw3skhrssAABwFDXmFuFNfbEh0OoZY3TRsK5655ejlRjj0RXPfKn3Vu4Md1kAAKCFIUgDteiZEqvXf36SjusSr1+89F89u2RTuEsCAAAtCEEaOIyOMR699D8jNKFfmn7zzhr9fv538nERIgAAEEEaqFOk26knrxiqq0Yeo1mfbtTNr65QSbm37hcCAIA2zRXuAoDWwOkwuv+cAeqcEKWH/v299h4s1t+uzFJClDvcpQEAgDChRxqoJ2OMpo3rqT9fPFhf/bhfFz21VDtzi8JdFgAACBOCNNBA5w1J1+xrhmv7gSKd/8TnWrvrYLhLAgAAYUCQBhphVK9kzbl+pHzWaspTn+vzH7LDXRIAAGhmBGmgkfp3idcbvxilTvGRmvrsfzTvmx3hLgkAADQjgjRwBNI7ROm1n5+kwd066Jcvf62/f7pRLf1uoQAAoGkQpIEjlBDt1j+uHa5JAzvrd/O/02/eWSMvc00DANDmMf0d0AQi3U49dukQpcVH6tnPNmlzdoEevmiwEmM84S4NAAAcJfRIA03E4TC67yf99f/OO06fbdins/6yWMs25YS7LAAAcJQQpIEmduWIY/TGL05SpNuhS//+hf760QZuKw4AQBtEkAaOguPSE/TOL8do0sDO+sP7a3X1c8u092BJuMsCAABNiCANHCWxES795ZLBevD8gVq2KUdnPbpYn29gvmkAANoKgjRwFBljdMnwbpp74yjFR7p0+TNf6k8L1jGrBwAAbQBBGmgGx3aK19s3jdb5QzL06KL1uvzpL7Q7rzjcZQEAgCNAkAaaSbTHpYcvGqQ/XjhI32zN1Vl/WaxP1u0Nd1kAAKCRCNJAM5syNENv3zRaKXERuvrZZXro39+rzOsLd1kAAKCBCNJAGPRKjdVbN4zSpcO76cmPf9Als77Qhj35yi0sU0FJuYrLvIyjBgCghTPWtuz/WWdlZdnly5eHuwzgqJn3zQ7d9fq3Kij1VnvOGMnlMHI5HHI5jX/d6QgsjdxOh+IiXIqPcis+yq2ESo/4yCrbUS4lRLkVF+mW02HC8EkBAGi5jDFfWWuzGvIabhEOhNk5g7poSNcO+njtHpV6rbw+n8q8VuUV6z4rr8+qzOsLLP3t5V6rUq9PB4vLlVtUpu37i5RXXKbcojKVeQ//BdnjcshIchgjYwJL+YO7MUaOSkvJv3Q5jD+wR9YQ2gMh/dD2ofVIt7MZfooAADQ/gjTQAnRNjNaVI7s3ybGstSoq8yq3qEx5Rf6QXfVRUu6VrOSzVtZKPitZ+dettcFtn1WwrcxrdTAQ1LftL9SaHf71mnrSK0uLj1CftDj1TYtTn07+Ze+0WEV7+OcHANC68X8yoI0xxija41K0x6XOCUf//coq9YpXPPICywOFpdqUXai1u/P0zy9+VEm5L1Cj1C0xulrAzkyJkdvJpRsAgNaBIA3giLidDiXGeJQY4znsfl6f1ZacQq3ddVDrdh/U2t0HtW7XQX34/Z7ghZVup1Fmcqy6J0crKTZCSTEeJcV4lBgboeQYjxJj/e+TGO2Ri8ANAAgzgjSAZuF0GPVIjlGP5BidcVynYHtJuVcb9xb4w3UgZG/cW6Dlm/drf2Gpapu8pEO0W4kxHiXHRPiXcR51T4pRr9RY9UqNVZeEKDm4qBIAcBQRpAGEVYTLqX6d49Wvc3y157w+q9yiMu3LL9G+glLlFJQG1/flB7YLSvTD3nx9salEBwrLgq+NcjvVMzVGvVPj1Cs1Vj1T/AH7mKRoho8AAJoEQRpAi+V0mOCwkd712D+noFQb9uRr/Z6D2rAnXxv25OvLjfv05tfbg/u4nUbHJMWoVyBYn3BMB53UM5nZRQAADUaQBtBmJMZ4NLxHoob3SAxpLygp1w9787V+d7427PUH7HW7D2rBd7vl9VlFe5wa2ztFE/qn6dRjU9WxjvHeAABIBGkA7UBMhEvHZ3TQ8RkdQtqLy7z6clOOPli9Swu/261/r94lp8NoWPeOmtC/k07vn6auidHhKRoA0OJxZ0MAkOTzWa3cnqsFa3brgzW7tG53viTp2E5xOr1/mib076Tj0uNlDBcwAkBb1Jg7GxKkAaAGP+4rCITq3Vq+OUc+K3VOiNRp/dI0pneyUuIiQu7gyAWMANC6EaQB4CjIKSjVou92a8Ga3fp0/V4Vl/mq7RPtcSo+MvQ26VVvnR4b4VJcpEuxEW7FRroUG+EMrke7nUzXBwBh1DaD9HF97PJV68JdBgBI8o+rXr0jL3j3xqp3c8wtKlNecZlyi8qDbfkl5XUe1xgpxuNSbIRLsZEuxUS4FBfhUscYjzI6RgUe0croGKX0DlHMMgIATaxtBukuTrv86dukCf9PckeGuxwAaLDywG3U80vKg8uCknIdLClXfnG58kvKlF/irbReHtguU3Z+qXbmFqnMG/pvdUpcREi4JmgDwJFpm0G6T2e7/LJCKbW/NOVZKbVfuEsCgGbl9VntOVisbfuLtG1/obblFPnXDxRq2/4ibd9fpPJKt4B0GGlIt44a1ydF4/qmakCXeIaNAEAd2maQzsqyy19+QHprmlRyUDr9t9Kwn/n/DgoAqBa01+/O1+L12Vq5PVeSlBwboZP7pGhc3xSN7Z2ihGh3mCsGgJan7Qbp5cul/D3+ML1hodT3LOmcx6WYpHCXBwAt1t6DJfp03V59vG6vPl23V7lFZfRWA0At2naQliSfT/ryKWnhDCkqUTr/b1LmuLDWBwCtQbnXp2+2HdDHa/fq47V7a+yt7pEc06hjO4yR02HkdBxaP9RWad0YORySy+FQpNvBnNwAWpS2H6Qr7PxWev2nUvZ6adTN0in3SC5u6QsA9VVTb3VzinQ7lBIXoZTYCKXGRfrX4yKUGlz625JiPczRDaBZtJ8gLUmlBdL7d0tfzZa6DJEueEZK6tns9QFAa+f1WX277YCy80sb/FprrXzWyuuTvNbK57Py+uyh9ZA2/x0ky3w+7S8o1d6DJdqbX6I9ef7lgcLqYd4YKTHao5S4CHWIdiva41KUx6kot1PRHmeVdVe19tgIl1LjIpQUGyEnQ1gAHEb7CtIV1syT5t0kecukSX+UBl3KhYgA0AqVlHuVne8P2HvyirU3v8S/ftC/zC0sU2FZuYpKvSoq9aqwzL8sKa9+g5yqXA6j1LgIdUqIVKeESKXFR6pzcBmlTvGRSo2PYNpAoB1rn0FaknK3SW9cL/24RDruAmnSw1JUx+YpEAAQVl6fVVEgVPsD9qGwfbCkXHvyirUrr1g7c4u1O7DclVuswlJvtWMlxniUFh+p2AhnjeO8/UsF110OI0dg/LfL6ailp9y/HuUJbLtdh9Y9TnmcDnmcDi76BMKsMUHadbSKaVYJGdLV86Qlf5I+ekBa9br/YsTYNCkuzb+s/KjcFplADzYAtGJOh/HfETKi/v9Ls9bqYEm5dudWCtm5xdqZ518WlnrltVal5b6QYSpen0KHrFj/sBX/kBWr4kBPudfX8E4qp8PI7TRyB4K12+mQ22WC6x5XoM1pFO1xqUO0Wx2iPOoQ7VbHaLcSoj3qEOVWx2h/W0K0W3ERLi7qBI6ittEjXdmOr6V170v5u/1T5uXvlg7u9i+9JdX3d0VKsalSfLrUY6zU90yp82DCNQCgUay1KvX6/L3iZV4VBnrHD62Xh7SXen0qK7cq8/pU5vWppNwXXC/z2sDzlbbLfSooLdeBwjIdKCxVQQ096xWcDqMOUYFQHemWy2Fk5J9dRcZ/8x4j/2wqRkbGSMaYQLt/P5fTKMLlVITLH+YjXE5FuP1h/9DS/3zFw+10BI9VcRyHqTh+4D0rv1dgGRfpUnyUW/GRbobZoNm136Ed9WGtVJwbCNiBkH1w16H1nB+k7V9J1ifFdZH6niH1OdMfrrk1OQCghSot9ym3qEy5RaXaX1gWDNgHCst0oKhiWaa8ojJZK/msPbSUP/hX3vb5G+ULtJV7rUrKvSot94f8knKfSst9KvXWPTb9SES4HEqIcishyq34wLLydnykSwlRbnWI9igxxt8TnxjjUXykm2EyaBSC9JEqyJbWfyCtfU/asEgqK5DcMVLPU/w91b0nSrEpzVMLAAAtmM/n7y33h+tDQbs08KgI6f5RLoFg7qsI61ay/tBuA895fT7ll3iVGwj9uUVlyi0sU15xYD3wyCsq08GSctUWXxxGweEtiTGeYMDuGONRx2h/4E6IcsvtcsjtcASH1PiXDrmc/rHvruBzh/aJiXAxHWMbRpBuSmXF0uYl0tr50rp/S3nbJRmp63B/qO5zppTSlyEgAAA0M6/PKr+4XLlF/l73nAJ/z3tOQan2F9a8vb+wVGXeI8880R6n4iMr9467QnrMKz+XEO1WlNvZqKhQMdSmYkiMv5O9ypAYHRouU3Hxq39svX8svdvBRawNQZA+WqyVdn3r76leO1/a+Y2/vWMPqeep0jEnSd1GSgnp4a0TAADUyFqrglKv9heUKreoTGVen8p9/qEr5b5D616ffyy612cP7eOzKiv3qaCkvFoPeW5RufIq9ZS3NBXhuuJiVY/TBIL2oYtXq46Lrza+vYYx9C6HQx6XqXScwLGDQf7QdvC9XY7AzDUVs9hUn/s9yu0MW/gnSDeX3O3+Xuq170lblkql+f72Dt2kbidJx4z0L5N702MNAEA7Ue716WCgp7wicNc0zWJ9WBsYv67Qce0K2Q4d4+61NnBhqn/YTWldF64Gnqs4jqq8l7+GQ8NvKobqWBv4chF8j0PHqvz+jRXprphK0qVIt6PSkBuHf9hNxXqlYTjBdad/H4/Lf4wIt1ORbociXU5FBtaj3P71CLfD3+byB/nMlNh2Ov1dc0tIl4b91P/wlku7V0o/LpW2fC5tWCh9+4p/v+hkqduIQz3WnY6XnPzIAQBoi1xOh38sdown3KWEnbVWZd5Ds9GUen0qKfMF53wvLPWqqKy8hlltKtbLVVTqU1FZeeCvBoGH16dyr1VheXktf1Gwwdlvisvqd8OmI0GPdFOzVtr3gz9UV4Tr/Zv9z7ljpK7DpM6D/NPuOdz+YO1w+dcdTsnpDqy7qjzn8j/vcEqm6tJRe7vTI7ki/A9nhP/49JIDAIB2wFobDNXFZf5lUZn30Ha5VyWB9cknZNAjHXbGSMm9/I8TrvK35e3wDwH5cal/ufSvki9c46iMP8S7PIFlIGBXbnN6Ghe2PbFSTLK/Jz4mRYpJqrSe7L9JDj3yAACgmRhjAkM6js685KSa5hDfxX/r8uMuONRmrT9Me8v8y4pHjdtl/iEk1iv5vFWWvhrafYe2vaVSean/ZjTlxVJ5SaVHceD5Yv8+Fc9XjPluCGv9Y8d//EwqzJFU0186jP/W7TGBcB2d5L+zZEVve3162B1O//4xqf4hNvHp/p+vK6Kxvx0AAIBGIUiHizH+YRZOd7graXo+rz9MF2b75+auWAbX90oF+6Tsdf6b5NT2JaBiaesxvqlysE7ICCzTpfgM/zK2E73hAACgSZEs0PQcTv+Na5rq5jXWhoZrX5n/tu952/y94Hnbpdxt/mX2emnjx9V71Y3TP/SkMcPDK49Trzpu3VnLcy5P9SEzwWE0lR+Rh9qcnirHC4ybD9l2VV+vODZj3wEAaFYEabR8xgR6kyudrpEJUkqfmvevuB183vZA0A4E7sYOWak81KbycBufN3QojrdMKi0MDMUpqz5kxlviH0pzVBjJHeUP1ZWXNbW5Iv1fKiLiAo+K9Xj/MuS5uLb5VxMAAJoAQRptjzFSVAf/I21AuKsJ5fMFxquXHArXFePVy0srBfbAuPiKdV95zdvBMe7FUllRYFkslRWGtuXvCWwXHnq+vl8sXJGBgB0TmPnFExiWVHnpCfTCe6q3u6NDg3nlhyf2UIB3MV0UAKB1IUgDzcnhkByBnuJw83n9YbokXyo56H+UHjy0HmzPO7Sft9Tf2+4tPbRelltpu8rz5aX+0F7jxadVOCMO9Y67owMXmTpquei0gReoHrbdVcswnRqG2ASH1ASOIeNfGnOYbXNo2xXp/2yemEN/HWBIDgC0WgRpoL1yOP1DZCITju77+HxSWUH1cF5yMBDQK21XPF9WWPOFpz7foWEzh525ph4z2jTkYtajxTj8wdodFRqwK69HxNc+rWR0Ej35ABBGBGkAR5fDcWgoR0tU01SUwfXahtiU+V8n6w/iVderbfv8j4rhNaWFgWE2hf7hN6UFh7Yrnju4079enCsV7vOH/ppEJgSCdaVwHZ0UuJC1rqE37tA208h5Vmvrka+pV75in4hYKSLBf34AQCtFkAbQvrWGqSh9Pqn4gD9QF+ytfVrJnE3Stv/49wvbTZ8awkiR8VJkB/8XgqgO/vWowHZwPfDwVAz5acQQH6kew3AqfwlgyA2AuhGkAaClczik6ET/I7l3/V5TMatMtXHthxnP3qhhLrX0wFe0h2xXPO/1D+MpPiAVHfAvi3P969nrDrWVFzeiniZinHVMX3m4KS0rvabWtsrTX9ZwkW7ldYeLYA+0UARpAGiLHIHeWHdkuCtpvLJif8CuCNxlhYfGv/uq3u31MGPlawz5NW3r0DAcX1ndd4Et2h866055cehMPE3GVA/YDlfg4mVXlR74mi7QrdR+2F551fK84zDHd9X+nkYNvyi3MZP9O1w1TPUZ7T/3q7Yx5z6aGEEaANAyuSP9j7i0cFfScNYeujDWWyl8B4N3pekva/sLQU2z5FRer8/FtBXt5aWBi2tr+jJR218UfJW+WNT2RaWGthbNhOkmVg2c4eew+5t6Hs9Rz2M66v4CVuMQqsZe33CEn60+P6+qbfX9+TYCQRoAgKZmTGBYSDucVaUidB82oFdsq/p2g9+vzP/Xi/KiSsuiSnPrF4XOo19e5P8C01yCP4eGfolpzJeeyu8VuCtw1edreo96zXpUpb0+05rW52fRyhGkAQBA03E4JDEbC+qp1mspatuuY5+KR+UvFLV+kamyff/QBpdPkAYAAEB4BId0tM4vX62zagAAACDMmj1IG2POMMasNcZsMMbc2dzvDwAAADSFZg3SxhinpL9KOlNSf0mXGmP6N2cNAAAAQFNo7h7p4ZI2WGs3WmtLJb0i6dxmrgEAAAA4Ys0dpNMlba20vS3QBgAAALQqzR2ka5r9vNokgsaY64wxy40xy/fu3dsMZQEAAAAN09xBepukrpW2MyTtqLqTtXaWtTbLWpuVkpLSbMUBAAAA9dXcQfo/knobY3oYYzySLpE0r5lrAAAAAI5Ys96QxVpbboy5UdL7kpySnrXWrm7OGgAAAICm0Ox3NrTWzpc0v7nfFwAAAGhK3NkQAAAAaASCNAAAANAIBGkAAACgEQjSAAAAQCMQpAEAAIBGIEgDAAAAjUCQBgAAABqBIA0AAAA0AkEaAAAAaASCNAAAANAIBGkAAACgEQjSAAAAQCMQpAEAAIBGIEgDAAAAjUCQBgAAABrBWGvDXcNhGWMOSlob7jrQ4iRLyg53EWhxOC9QFecEasJ5gZr0tdbGNeQFrqNVSRNaa63NCncRaFmMMcs5L1AV5wWq4pxATTgvUBNjzPKGvoahHQAAAEAjEKQBAACARmgNQXpWuAtAi8R5gZpwXqAqzgnUhPMCNWnwedHiLzYEAAAAWqLW0CMNAAAAtDgtNkgbY84wxqw1xmwwxtwZ7noQHsaYZ40xe4wxqyq1JRpjFhhj1geWHcNZI5qfMaarMeYjY8x3xpjVxpibA+2cG+2YMSbSGLPMGPNN4Ly4P9DOedHOGWOcxpivjTHvBLY5JyBjzGZjzEpjzIqKGTsaem60yCBtjHFK+qukMyX1l3SpMaZ/eKtCmMyWdEaVtjslLbLW9pa0KLCN9qVc0u3W2n6SRki6IfBvBOdG+1Yi6VRr7SBJgyWdYYwZIc4LSDdL+q7SNucEKpxirR1caTrEBp0bLTJISxouaYO1dqO1tlTSK5LODXNNCANr7aeScqo0nyvp+cD685LOa86aEH7W2p3W2v8G1g/K/z/IdHFutGvWLz+w6Q48rDgv2jVjTIakSZKertTMOYHaNOjcaKlBOl3S1krb2wJtgCSlWWt3Sv5AJSk1zPUgjIwx3SUNkfSlODfavcCf8FdI2iNpgbWW8wJ/lnSHJF+lNs4JSP4v2h8YY74yxlwXaGvQudFS72xoamhjehEAIYwxsZJel3SLtTbPmJr+6UB7Yq31ShpsjOkg6U1jzHFhLglhZIw5W9Iea+1XxphxYS4HLc8oa+0OY0yqpAXGmO8beoCW2iO9TVLXStsZknaEqRa0PLuNMZ0lKbDcE+Z6EAbGGLf8IfpFa+0bgWbODUiSrLUHJH0s/zUWnBft1yhJ5xhjNss/TPRUY8wL4pyAJGvtjsByj6Q35R9a3KBzo6UG6f9I6m2M6WGM8Ui6RNK8MNeElmOepKsD61dLmhvGWhAGxt/1/Iyk76y1f6r0FOdGO2aMSQn0RMsYEyXpNEnfi/Oi3bLW3mWtzbDWdpc/S3xorb1CnBPtnjEmxhgTV7Eu6XRJq9TAc6PF3pDFGHOW/OOanJKetdb+LrwVIRyMMS9LGicpWdJuSTMkvSVpjqRukrZIutBaW/WCRLRhxpjRkhZLWqlD4x7vln+cNOdGO2WMOV7+i4Oc8ncUzbHW/sYYkyTOi3YvMLTjV9baszknYIzJlL8XWvIPdX7JWvu7hp4bLTZIAwAAAC1ZSx3aAQAAALRoBGkAAACgEQjSAAAAQCMQpAEAAIBGIEgDAAAAjUCQBgAAABqBIA0AAAA0AkEaAAAAaIT/D56RyuUqdxKXAAAAAElFTkSuQmCC\n",
      "text/plain": [
       "<Figure size 864x576 with 1 Axes>"
      ]
     },
     "metadata": {
      "needs_background": "light"
     },
     "output_type": "display_data"
    }
   ],
   "source": [
    "# Without stopwords\n",
    "import matplotlib.pyplot as plt\n",
    "plt.figure(figsize=(12,8))\n",
    "plt.plot(range(len(vocabulary_sorted2)), [item[1] for item in vocabulary_sorted2], label = \"Token frequencies, no stopwords\")\n",
    "plt.plot(range(len(vocabulary_sorted)), [item[1] for item in vocabulary_sorted], label = \"Raw token frequencies\")\n",
    "plt.xlim(0,50)\n",
    "plt.legend(fontsize = 15)"
   ]
  },
  {
   "cell_type": "code",
<<<<<<< HEAD
   "execution_count": 41,
   "id": "sophisticated-processing",
=======
   "execution_count": null,
   "id": "parliamentary-archive",
>>>>>>> a940b4ba8640834cc64038cf68e88584bd0afa65
   "metadata": {},
   "outputs": [
    {
     "name": "stdout",
     "output_type": "stream",
     "text": [
      "6789\n"
     ]
    }
   ],
   "source": [
    "from nltk.stem.wordnet import WordNetLemmatizer as lemmatizer\n",
    "lemmatizer = lemmatizer()\n",
    "voc_l = [lemmatizer.lemmatize(i[0]) for i in vocabulary_sorted]\n",
    "print(len(list(set(voc_l))))\n"
   ]
  },
  {
   "cell_type": "markdown",
<<<<<<< HEAD
   "id": "inclusive-efficiency",
=======
   "id": "polish-modification",
>>>>>>> a940b4ba8640834cc64038cf68e88584bd0afa65
   "metadata": {},
   "source": [
    "## Unsupervised experiments"
   ]
  },
  {
   "cell_type": "markdown",
<<<<<<< HEAD
   "id": "patient-lewis",
=======
   "id": "horizontal-october",
>>>>>>> a940b4ba8640834cc64038cf68e88584bd0afa65
   "metadata": {},
   "source": [
    "### Vectorize input in preparation for Word2Vec"
   ]
  },
  {
   "cell_type": "code",
   "execution_count": 68,
<<<<<<< HEAD
   "id": "tropical-fantasy",
=======
   "id": "molecular-sperm",
>>>>>>> a940b4ba8640834cc64038cf68e88584bd0afa65
   "metadata": {},
   "outputs": [],
   "source": [
    "data = read_unlabeled(\"data/\" + \n",
    "                      fname, None)"
   ]
  },
  {
   "cell_type": "code",
   "execution_count": 69,
<<<<<<< HEAD
   "id": "quiet-asthma",
=======
   "id": "romance-authorization",
>>>>>>> a940b4ba8640834cc64038cf68e88584bd0afa65
   "metadata": {},
   "outputs": [
    {
     "name": "stdout",
     "output_type": "stream",
     "text": [
      "43342\n"
     ]
    }
   ],
   "source": [
    "print(len(data.data))\n",
    "# print(data.data[0])"
   ]
  },
  {
   "cell_type": "code",
   "execution_count": 76,
<<<<<<< HEAD
   "id": "potential-sacramento",
=======
   "id": "mental-denver",
>>>>>>> a940b4ba8640834cc64038cf68e88584bd0afa65
   "metadata": {},
   "outputs": [],
   "source": [
    "tokenizer = CountVectorizer(stop_words = \"english\",\n",
    "                            tokenizer = SamsTokenizer(),\n",
    "                           )\n",
    "                            \n",
    "def sentence_parser(sentences,tokenizer):\n",
    "    res_sentences = []\n",
    "    \n",
    "    for s in tqdm(sentences):\n",
    "        res_sentences.append(tokenizer(s))\n",
    "    return res_sentences\n",
    "    "
   ]
  },
  {
   "cell_type": "code",
   "execution_count": 77,
<<<<<<< HEAD
   "id": "international-colony",
=======
   "id": "aging-simon",
>>>>>>> a940b4ba8640834cc64038cf68e88584bd0afa65
   "metadata": {},
   "outputs": [
    {
     "name": "stderr",
     "output_type": "stream",
     "text": [
      "100%|██████████| 43342/43342 [00:23<00:00, 1811.10it/s]\n"
     ]
    }
   ],
   "source": [
    "data.parsed_unlabeled_data = sentence_parser(data.data, \n",
    "                                SamsTokenizer())"
   ]
  },
  {
   "cell_type": "code",
   "execution_count": 84,
<<<<<<< HEAD
   "id": "martial-medicaid",
=======
   "id": "bright-digest",
>>>>>>> a940b4ba8640834cc64038cf68e88584bd0afa65
   "metadata": {},
   "outputs": [
    {
     "name": "stderr",
     "output_type": "stream",
     "text": [
      "ic| '-- train data'\n",
      "ic| member.name: 'train.tsv'\n",
      "ic| len(self.train_data): 4370\n",
      "ic| '-- val data'\n",
      "ic| member.name: 'dev.tsv'\n",
      "ic| len(self.val_data): 414\n",
      "100%|██████████| 4370/4370 [00:02<00:00, 1892.89it/s]\n"
     ]
    }
   ],
   "source": [
    "labeled_data = Data(fname)\n",
    "data.parsed_labeled_data = sentence_parser(labeled_data.train_data, \n",
    "                                           SamsTokenizer())\n",
    "                                           "
   ]
  },
  {
   "cell_type": "code",
   "execution_count": 85,
<<<<<<< HEAD
   "id": "governmental-hungary",
=======
   "id": "physical-sacramento",
>>>>>>> a940b4ba8640834cc64038cf68e88584bd0afa65
   "metadata": {},
   "outputs": [],
   "source": [
    "data.full_parsed_data = data.parsed_labeled_data + data.parsed_unlabeled_data"
   ]
  },
  {
   "cell_type": "markdown",
<<<<<<< HEAD
   "id": "monetary-campus",
=======
   "id": "ultimate-workshop",
>>>>>>> a940b4ba8640834cc64038cf68e88584bd0afa65
   "metadata": {},
   "source": [
    "### Make embedding models"
   ]
  },
  {
   "cell_type": "code",
<<<<<<< HEAD
   "execution_count": 57,
   "id": "complex-lightning",
=======
   "execution_count": 106,
   "id": "stuffed-excerpt",
>>>>>>> a940b4ba8640834cc64038cf68e88584bd0afa65
   "metadata": {},
   "outputs": [],
   "source": [
    "from gensim.models import Word2Vec\n",
    "\n",
    "# for i in range(1,11):\n",
    "#     l = len(data.parsed_unlabeled_data)\n",
    "#     data.full_parsed_data = data.parsed_labeled_data +\\\n",
    "#     data.parsed_unlabeled_data[:(l//10)*i]\n",
    "#     print(len(data.full_parsed_data))\n",
    "#     model = Word2Vec(sentences=data.full_parsed_data,\n",
    "#                  size=300,\n",
    "#                  window=5,\n",
    "#                  min_count=1, workers=1)\n",
    "#     model.save(\"models/word2vec_\" + str(i*10) + \"ul.model\")\n",
    "\n",
    "\n",
    "\n",
    "model = Word2Vec.load('models/word2vec_100ul.model')"
   ]
  },
  {
   "cell_type": "markdown",
<<<<<<< HEAD
   "id": "narrative-insulation",
=======
   "id": "adult-closer",
>>>>>>> a940b4ba8640834cc64038cf68e88584bd0afa65
   "metadata": {},
   "source": [
    "### Visualize Embeddings"
   ]
  },
  {
   "cell_type": "code",
<<<<<<< HEAD
   "execution_count": 65,
   "id": "permanent-latvia",
=======
   "execution_count": 98,
   "id": "amber-discretion",
>>>>>>> a940b4ba8640834cc64038cf68e88584bd0afa65
   "metadata": {},
   "outputs": [],
   "source": [
    "test = ['health', 'care', 'healthcare', 'war', 'soldier', 'afghanistan',\n",
    "        'iraq','gun','bear', 'clinton','mccain', 'terrorism', 'control',\n",
    "        'obama','budget','money','9/11','quality', 'candidate']\n",
    "\n",
    "embeddings = [model[i] for i in test]\n",
    "\n",
    "from sklearn.decomposition import PCA\n",
    "pca = PCA(n_components = 2)\n",
    "\n",
    "res = pca.fit_transform(embeddings)"
   ]
  },
  {
   "cell_type": "code",
<<<<<<< HEAD
   "execution_count": 66,
   "id": "swiss-protection",
=======
   "execution_count": 99,
   "id": "meaningful-manner",
>>>>>>> a940b4ba8640834cc64038cf68e88584bd0afa65
   "metadata": {},
   "outputs": [
    {
     "name": "stdout",
     "output_type": "stream",
     "text": [
      "(19,) (19,)\n"
     ]
    },
    {
     "data": {
      "image/png": "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\n",
      "text/plain": [
       "<Figure size 864x576 with 1 Axes>"
      ]
     },
     "metadata": {
      "needs_background": "light"
     },
     "output_type": "display_data"
    }
   ],
   "source": [
    "import matplotlib.pyplot as plt\n",
    "plt.figure(figsize =(12,8))\n",
    "print(res[:,0].shape, res[:,1].shape)\n",
    "plt.scatter(res[:,0].flatten(),res[:,1].flatten())\n",
    "for i, text in enumerate(test):\n",
    "    plt.annotate(text, (res[i,0],res[i,1]), fontsize = 12)"
   ]
  },
  {
   "cell_type": "markdown",
<<<<<<< HEAD
   "id": "reverse-object",
=======
   "id": "signal-apple",
>>>>>>> a940b4ba8640834cc64038cf68e88584bd0afa65
   "metadata": {},
   "source": [
    "### Run experiment with Word2Vec"
   ]
  },
  {
   "cell_type": "code",
   "execution_count": 3,
<<<<<<< HEAD
   "id": "formal-natural",
=======
   "id": "japanese-harrison",
>>>>>>> a940b4ba8640834cc64038cf68e88584bd0afa65
   "metadata": {},
   "outputs": [
    {
     "data": {
      "text/plain": [
       "['word2vec_10ul.model',\n",
       " 'word2vec_20ul.model',\n",
       " 'word2vec_30ul.model',\n",
       " 'word2vec_40ul.model',\n",
       " 'word2vec_50ul.model',\n",
       " 'word2vec_60ul.model',\n",
       " 'word2vec_70ul.model',\n",
       " 'word2vec_80ul.model',\n",
       " 'word2vec_90ul.model',\n",
       " 'word2vec_100ul.model']"
      ]
     },
     "execution_count": 3,
     "metadata": {},
     "output_type": "execute_result"
    }
   ],
   "source": [
    "models = ['word2vec_{}ul.model'.format(i*10) for i in range(1,11)]\n",
    "models"
   ]
  },
  {
   "cell_type": "code",
   "execution_count": 105,
<<<<<<< HEAD
   "id": "recovered-hanging",
=======
   "id": "drawn-nerve",
>>>>>>> a940b4ba8640834cc64038cf68e88584bd0afa65
   "metadata": {},
   "outputs": [
    {
     "name": "stderr",
     "output_type": "stream",
     "text": [
      "ic| '-- train data'\n",
      "ic| member.name: 'train.tsv'\n",
      "ic| len(self.train_data): 4370\n",
      "ic| '-- val data'\n",
      "ic| member.name: 'dev.tsv'\n",
      "ic| len(self.val_data): 414\n"
     ]
    },
    {
     "data": {
      "text/plain": [
       "[0.27294685990338163,\n",
       " 0.2777777777777778,\n",
       " 0.2753623188405797,\n",
       " 0.30917874396135264,\n",
       " 0.3115942028985507,\n",
       " 0.3164251207729469,\n",
       " 0.3164251207729469,\n",
       " 0.32608695652173914,\n",
       " 0.3309178743961353,\n",
       " 0.32367149758454106]"
      ]
     },
     "execution_count": 105,
     "metadata": {},
     "output_type": "execute_result"
    }
   ],
   "source": [
    "w2v_ablation(models, fname, LogisticRegression)"
   ]
  },
  {
   "cell_type": "markdown",
<<<<<<< HEAD
   "id": "thick-dutch",
=======
   "id": "specialized-crime",
>>>>>>> a940b4ba8640834cc64038cf68e88584bd0afa65
   "metadata": {},
   "source": [
    "### Adding back original features + word embeddings"
   ]
  },
  {
   "cell_type": "code",
   "execution_count": null,
<<<<<<< HEAD
   "id": "crazy-workstation",
=======
   "id": "serious-detector",
>>>>>>> a940b4ba8640834cc64038cf68e88584bd0afa65
   "metadata": {},
   "outputs": [
    {
     "name": "stderr",
     "output_type": "stream",
     "text": [
      "ic| '-- train data'\n",
      "ic| member.name: 'train.tsv'\n",
      "ic| len(self.train_data): 4370\n",
      "ic| '-- val data'\n",
      "ic| member.name: 'dev.tsv'\n",
      "ic| len(self.val_data): 414\n"
     ]
    }
   ],
   "source": [
    "w2v_ablation_all_features(models, fname, LogisticRegression(solver = 'sag', penalty = 'l2'), feat_list['cv_nltk_lemma'], TruncatedSVD(n_components= 2500))"
   ]
  },
  {
   "cell_type": "code",
<<<<<<< HEAD
   "execution_count": 1,
   "id": "reliable-translation",
=======
   "execution_count": null,
   "id": "stretch-treat",
>>>>>>> a940b4ba8640834cc64038cf68e88584bd0afa65
   "metadata": {},
   "outputs": [],
   "source": [
    "# Lbfgs and SVD\n",
    "lbfgs = [0.43478260869565216,\n",
    " 0.4444444444444444,\n",
    " 0.4468599033816425,\n",
    " 0.45169082125603865,\n",
    " 0.4492753623188406,\n",
    " 0.45169082125603865,\n",
    " 0.4492753623188406,\n",
    " 0.4444444444444444,\n",
    " 0.4492753623188406,\n",
    " 0.4396135265700483]\n",
    "\n",
    "\n",
    "no_extra = [0.27294685990338163,\n",
    " 0.2777777777777778,\n",
    " 0.2753623188405797,\n",
    " 0.30917874396135264,\n",
    " 0.3115942028985507,\n",
    " 0.3164251207729469,\n",
    " 0.3164251207729469,\n",
    " 0.32608695652173914,\n",
    " 0.3309178743961353,\n",
    " 0.32367149758454106]\n",
    "# SAG and SVD 2500\n",
    "\n",
    "\n",
    "sag = [0.4420289855072464,\n",
    " 0.4420289855072464,\n",
    " 0.4468599033816425,\n",
    " 0.45169082125603865,\n",
    " 0.4492753623188406,\n",
    " 0.45410628019323673,\n",
    " 0.4492753623188406,\n",
    " 0.4444444444444444,\n",
    " 0.4444444444444444,\n",
    " 0.4396135265700483]"
   ]
  },
  {
   "cell_type": "code",
   "execution_count": 2,
   "id": "armed-lodging",
   "metadata": {},
   "outputs": [],
   "source": [
    "import matplotlib.pyplot as plt"
   ]
  },
  {
   "cell_type": "code",
   "execution_count": 74,
   "id": "delayed-castle",
   "metadata": {},
   "outputs": [
    {
     "data": {
      "text/plain": [
       "<matplotlib.legend.Legend at 0x7ff7c80c8220>"
      ]
     },
     "execution_count": 74,
     "metadata": {},
     "output_type": "execute_result"
    },
    {
     "data": {
      "image/png": "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\n",
      "text/plain": [
       "<Figure size 864x576 with 1 Axes>"
      ]
     },
     "metadata": {
      "needs_background": "light"
     },
     "output_type": "display_data"
    }
   ],
   "source": [
    "import numpy as np\n",
    "x = np.arange(0.1,1.1, 0.1)\n",
    "plt.figure(figsize = (12,8))\n",
    "plt.plot(x, sag, label=\"w2v+old features - SAG\")\n",
    "plt.plot(x, lbfgs, label=\"w2v+old features - LBFGS\")\n",
    "# plt.plot(x, no_extra, label=\"w2v - LBFGS\")\n",
    "plt.axhline(0.450,linestyle = 'dashed',linewidth = 0.9\n",
    "            , c = 'red', label = \"old features best (SAG + LBFGS)\")\n",
    "plt.legend(fontsize = 15)"
   ]
  },
  {
   "cell_type": "code",
   "execution_count": null,
   "id": "unusual-drain",
   "metadata": {},
   "outputs": [],
   "source": []
  }
 ],
 "metadata": {
  "kernelspec": {
   "display_name": "mlenv",
   "language": "python",
   "name": "mlenv"
  },
  "language_info": {
   "codemirror_mode": {
    "name": "ipython",
    "version": 3
   },
   "file_extension": ".py",
   "mimetype": "text/x-python",
   "name": "python",
   "nbconvert_exporter": "python",
   "pygments_lexer": "ipython3",
   "version": "3.8.8"
  }
 },
 "nbformat": 4,
 "nbformat_minor": 5
}

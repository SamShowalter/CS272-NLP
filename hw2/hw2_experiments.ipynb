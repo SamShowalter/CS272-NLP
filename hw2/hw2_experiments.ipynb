{
 "cells": [
  {
   "cell_type": "markdown",
   "id": "outdoor-forth",
   "metadata": {},
   "source": [
    "# Hw2 Experimentation: Language Models\n",
    "\n",
    "**Author**:Sam Showalter\n",
    "\n",
    "**Date**:2021-04-13"
   ]
  },
  {
   "cell_type": "code",
   "execution_count": null,
   "id": "pending-plastic",
   "metadata": {},
   "outputs": [],
   "source": [
    "%load_ext autoreload\n",
    "%autoreload2\n",
    "\n",
    "import numpy as np\n",
    "import matplotlib.pyplot as plt\n"
   ]
  },
  {
   "cell_type": "markdown",
   "id": "cooperative-perfume",
   "metadata": {},
   "source": [
    "## Module and Package Imports"
   ]
  },
  {
   "cell_type": "code",
   "execution_count": null,
   "id": "arbitrary-lesson",
   "metadata": {},
   "outputs": [],
   "source": []
  },
  {
   "cell_type": "markdown",
   "id": "civilian-frederick",
   "metadata": {},
   "source": [
    "## Analysis on In-Domain Text: Empirical"
   ]
  },
  {
   "cell_type": "code",
   "execution_count": null,
   "id": "impressive-yukon",
   "metadata": {},
   "outputs": [],
   "source": []
  },
  {
   "cell_type": "markdown",
   "id": "wired-skirt",
   "metadata": {},
   "source": [
    "## Analysis on In-Domain Text: Qualitative"
   ]
  },
  {
   "cell_type": "code",
   "execution_count": null,
   "id": "modular-cross",
   "metadata": {},
   "outputs": [],
   "source": []
  },
  {
   "cell_type": "markdown",
   "id": "postal-excerpt",
   "metadata": {},
   "source": [
    "## Analysis on Out-Of-Domain Text: Empirical"
   ]
  },
  {
   "cell_type": "code",
   "execution_count": null,
   "id": "basic-elite",
   "metadata": {},
   "outputs": [],
   "source": []
  },
  {
   "cell_type": "markdown",
   "id": "fluid-manner",
   "metadata": {},
   "source": [
    "## Analysis on Out-of-Domain Text: Qualitative"
   ]
  },
  {
   "cell_type": "code",
   "execution_count": null,
   "id": "included-peoples",
   "metadata": {},
   "outputs": [],
   "source": []
  }
 ],
 "metadata": {
  "kernelspec": {
   "display_name": "mlenv",
   "language": "python",
   "name": "mlenv"
  },
  "language_info": {
   "codemirror_mode": {
    "name": "ipython",
    "version": 3
   },
   "file_extension": ".py",
   "mimetype": "text/x-python",
   "name": "python",
   "nbconvert_exporter": "python",
   "pygments_lexer": "ipython3",
   "version": "3.8.8"
  }
 },
 "nbformat": 4,
 "nbformat_minor": 5
}
